{
  "cells": [
    {
      "cell_type": "markdown",
      "metadata": {
        "id": "view-in-github",
        "colab_type": "text"
      },
      "source": [
        "<a href=\"https://colab.research.google.com/github/severinov-yuriy/dls_hw/blob/main/hw_language_modelling.ipynb\" target=\"_parent\"><img src=\"https://colab.research.google.com/assets/colab-badge.svg\" alt=\"Open In Colab\"/></a>"
      ]
    },
    {
      "cell_type": "markdown",
      "metadata": {
        "id": "d0ADTojbpfLt"
      },
      "source": [
        "<p style=\"align: center;\"><img src=\"https://static.tildacdn.com/tild6636-3531-4239-b465-376364646465/Deep_Learning_School.png\" width=\"400\"></p>\n",
        "\n",
        "# Домашнее задание. Обучение языковой модели с помощью LSTM (10 баллов)"
      ]
    },
    {
      "cell_type": "markdown",
      "metadata": {
        "id": "ldHSmYY6p_mZ"
      },
      "source": [
        "В этом задании Вам предстоит обучить языковую модель с помощью рекуррентной нейронной сети. В отличие от семинарского занятия, Вам необходимо будет работать с отдельными словами, а не буквами.\n",
        "\n",
        "\n",
        "Установим модуль ```datasets```, чтобы нам проще было работать с данными."
      ]
    },
    {
      "cell_type": "code",
      "execution_count": 1,
      "metadata": {
        "id": "3yvNdv6cp_0P",
        "outputId": "63075891-a999-430d-9d70-ddc1d32f84b6",
        "colab": {
          "base_uri": "https://localhost:8080/"
        }
      },
      "outputs": [
        {
          "output_type": "stream",
          "name": "stdout",
          "text": [
            "Requirement already satisfied: datasets in /usr/local/lib/python3.10/dist-packages (2.18.0)\n",
            "Requirement already satisfied: filelock in /usr/local/lib/python3.10/dist-packages (from datasets) (3.13.1)\n",
            "Requirement already satisfied: numpy>=1.17 in /usr/local/lib/python3.10/dist-packages (from datasets) (1.25.2)\n",
            "Requirement already satisfied: pyarrow>=12.0.0 in /usr/local/lib/python3.10/dist-packages (from datasets) (14.0.2)\n",
            "Requirement already satisfied: pyarrow-hotfix in /usr/local/lib/python3.10/dist-packages (from datasets) (0.6)\n",
            "Requirement already satisfied: dill<0.3.9,>=0.3.0 in /usr/local/lib/python3.10/dist-packages (from datasets) (0.3.8)\n",
            "Requirement already satisfied: pandas in /usr/local/lib/python3.10/dist-packages (from datasets) (1.5.3)\n",
            "Requirement already satisfied: requests>=2.19.0 in /usr/local/lib/python3.10/dist-packages (from datasets) (2.31.0)\n",
            "Requirement already satisfied: tqdm>=4.62.1 in /usr/local/lib/python3.10/dist-packages (from datasets) (4.66.2)\n",
            "Requirement already satisfied: xxhash in /usr/local/lib/python3.10/dist-packages (from datasets) (3.4.1)\n",
            "Requirement already satisfied: multiprocess in /usr/local/lib/python3.10/dist-packages (from datasets) (0.70.16)\n",
            "Requirement already satisfied: fsspec[http]<=2024.2.0,>=2023.1.0 in /usr/local/lib/python3.10/dist-packages (from datasets) (2023.6.0)\n",
            "Requirement already satisfied: aiohttp in /usr/local/lib/python3.10/dist-packages (from datasets) (3.9.3)\n",
            "Requirement already satisfied: huggingface-hub>=0.19.4 in /usr/local/lib/python3.10/dist-packages (from datasets) (0.20.3)\n",
            "Requirement already satisfied: packaging in /usr/local/lib/python3.10/dist-packages (from datasets) (24.0)\n",
            "Requirement already satisfied: pyyaml>=5.1 in /usr/local/lib/python3.10/dist-packages (from datasets) (6.0.1)\n",
            "Requirement already satisfied: aiosignal>=1.1.2 in /usr/local/lib/python3.10/dist-packages (from aiohttp->datasets) (1.3.1)\n",
            "Requirement already satisfied: attrs>=17.3.0 in /usr/local/lib/python3.10/dist-packages (from aiohttp->datasets) (23.2.0)\n",
            "Requirement already satisfied: frozenlist>=1.1.1 in /usr/local/lib/python3.10/dist-packages (from aiohttp->datasets) (1.4.1)\n",
            "Requirement already satisfied: multidict<7.0,>=4.5 in /usr/local/lib/python3.10/dist-packages (from aiohttp->datasets) (6.0.5)\n",
            "Requirement already satisfied: yarl<2.0,>=1.0 in /usr/local/lib/python3.10/dist-packages (from aiohttp->datasets) (1.9.4)\n",
            "Requirement already satisfied: async-timeout<5.0,>=4.0 in /usr/local/lib/python3.10/dist-packages (from aiohttp->datasets) (4.0.3)\n",
            "Requirement already satisfied: typing-extensions>=3.7.4.3 in /usr/local/lib/python3.10/dist-packages (from huggingface-hub>=0.19.4->datasets) (4.10.0)\n",
            "Requirement already satisfied: charset-normalizer<4,>=2 in /usr/local/lib/python3.10/dist-packages (from requests>=2.19.0->datasets) (3.3.2)\n",
            "Requirement already satisfied: idna<4,>=2.5 in /usr/local/lib/python3.10/dist-packages (from requests>=2.19.0->datasets) (3.6)\n",
            "Requirement already satisfied: urllib3<3,>=1.21.1 in /usr/local/lib/python3.10/dist-packages (from requests>=2.19.0->datasets) (2.0.7)\n",
            "Requirement already satisfied: certifi>=2017.4.17 in /usr/local/lib/python3.10/dist-packages (from requests>=2.19.0->datasets) (2024.2.2)\n",
            "Requirement already satisfied: python-dateutil>=2.8.1 in /usr/local/lib/python3.10/dist-packages (from pandas->datasets) (2.8.2)\n",
            "Requirement already satisfied: pytz>=2020.1 in /usr/local/lib/python3.10/dist-packages (from pandas->datasets) (2023.4)\n",
            "Requirement already satisfied: six>=1.5 in /usr/local/lib/python3.10/dist-packages (from python-dateutil>=2.8.1->pandas->datasets) (1.16.0)\n"
          ]
        }
      ],
      "source": [
        "!pip install datasets"
      ]
    },
    {
      "cell_type": "markdown",
      "metadata": {
        "id": "rh9ZXSeCpng9"
      },
      "source": [
        "Импорт необходимых библиотек"
      ]
    },
    {
      "cell_type": "code",
      "execution_count": 2,
      "metadata": {
        "id": "XOJi16bLpd_O"
      },
      "outputs": [],
      "source": [
        "import torch\n",
        "import torch.nn as nn\n",
        "from torch.utils.data import Dataset, DataLoader\n",
        "\n",
        "import numpy as np\n",
        "import matplotlib.pyplot as plt\n",
        "\n",
        "from tqdm.auto import tqdm\n",
        "from datasets import load_dataset\n",
        "from nltk.tokenize import sent_tokenize, word_tokenize\n",
        "from sklearn.model_selection import train_test_split\n",
        "import nltk\n",
        "import re\n",
        "\n",
        "from collections import Counter\n",
        "from typing import List\n",
        "\n",
        "import seaborn\n",
        "seaborn.set(palette='summer')"
      ]
    },
    {
      "cell_type": "code",
      "execution_count": 3,
      "metadata": {
        "id": "91JuM0SQvXud",
        "outputId": "14160c27-b8aa-4e13-b8ba-64781e1ae1e3",
        "colab": {
          "base_uri": "https://localhost:8080/"
        }
      },
      "outputs": [
        {
          "output_type": "stream",
          "name": "stderr",
          "text": [
            "[nltk_data] Downloading package punkt to /root/nltk_data...\n",
            "[nltk_data]   Package punkt is already up-to-date!\n"
          ]
        },
        {
          "output_type": "execute_result",
          "data": {
            "text/plain": [
              "True"
            ]
          },
          "metadata": {},
          "execution_count": 3
        }
      ],
      "source": [
        "nltk.download('punkt')"
      ]
    },
    {
      "cell_type": "code",
      "execution_count": 4,
      "metadata": {
        "id": "adJC8ShFq9HM",
        "outputId": "c1c24ade-183e-41af-c991-7fcdb36140fa",
        "colab": {
          "base_uri": "https://localhost:8080/",
          "height": 36
        }
      },
      "outputs": [
        {
          "output_type": "execute_result",
          "data": {
            "text/plain": [
              "'cuda'"
            ],
            "application/vnd.google.colaboratory.intrinsic+json": {
              "type": "string"
            }
          },
          "metadata": {},
          "execution_count": 4
        }
      ],
      "source": [
        "device = 'cuda' if torch.cuda.is_available() else 'cpu'\n",
        "device"
      ]
    },
    {
      "cell_type": "markdown",
      "metadata": {
        "id": "pwsfS1ENq5ig"
      },
      "source": [
        "## Подготовка данных\n",
        "\n",
        "Воспользуемся датасетом imdb. В нем хранятся отзывы о фильмах с сайта imdb. Загрузим данные с помощью функции ```load_dataset```"
      ]
    },
    {
      "cell_type": "code",
      "execution_count": 5,
      "metadata": {
        "id": "qHLNWOfJqSfc",
        "outputId": "45c2f99e-c5db-4e2e-8afd-a28720ed38fe",
        "colab": {
          "base_uri": "https://localhost:8080/"
        }
      },
      "outputs": [
        {
          "output_type": "stream",
          "name": "stderr",
          "text": [
            "/usr/local/lib/python3.10/dist-packages/huggingface_hub/utils/_token.py:88: UserWarning: \n",
            "The secret `HF_TOKEN` does not exist in your Colab secrets.\n",
            "To authenticate with the Hugging Face Hub, create a token in your settings tab (https://huggingface.co/settings/tokens), set it as secret in your Google Colab and restart your session.\n",
            "You will be able to reuse this secret in all of your notebooks.\n",
            "Please note that authentication is recommended but still optional to access public models or datasets.\n",
            "  warnings.warn(\n"
          ]
        }
      ],
      "source": [
        "# Загрузим датасет\n",
        "dataset = load_dataset('imdb')"
      ]
    },
    {
      "cell_type": "markdown",
      "metadata": {
        "id": "24gn7CuZ9agP"
      },
      "source": [
        "### Препроцессинг данных и создание словаря (1 балл)\n",
        "\n",
        "Далее вам необходмо самостоятельно произвести препроцессинг данных и получить словарь или же просто ```set``` строк. Что необходимо сделать:\n",
        "\n",
        "1. Разделить отдельные тренировочные примеры на отдельные предложения с помощью функции ```sent_tokenize``` из бибилиотеки ```nltk```. Каждое отдельное предложение будет одним тренировочным примером.\n",
        "2. Оставить только те предложения, в которых меньше ```word_threshold``` слов.\n",
        "3. Посчитать частоту вхождения каждого слова в оставшихся предложениях. Для деления предлоения на отдельные слова удобно использовать функцию ```word_tokenize```.\n",
        "4. Создать объект ```vocab``` класса ```set```, положить в него служебные токены '\\<unk\\>', '\\<bos\\>', '\\<eos\\>', '\\<pad\\>' и vocab_size самых частовстречающихся слов.   "
      ]
    },
    {
      "cell_type": "code",
      "execution_count": 6,
      "metadata": {
        "id": "Ins2tVCdsS47",
        "outputId": "4f58f208-185f-45b1-b3e4-1323cedc8358",
        "colab": {
          "base_uri": "https://localhost:8080/"
        }
      },
      "outputs": [
        {
          "output_type": "execute_result",
          "data": {
            "text/plain": [
              "['i rented i am curious yellow from my video store because of all the controversy that surrounded it when it was first released in      ',\n",
              " 'the plot is centered around a young swedish drama student named lena who wants to learn everything she can about life ',\n",
              " 'in between asking politicians and ordinary denizens of stockholm about their opinions on politics she has sex with her drama teacher classmates and married men ',\n",
              " 'what kills me about i am curious yellow is that   years ago this was considered pornographic ',\n",
              " 'really the sex and nudity scenes are few and far between even then it s not shot like some cheaply made porno ']"
            ]
          },
          "metadata": {},
          "execution_count": 6
        }
      ],
      "source": [
        "word_thresholds = (3, 33)\n",
        "sentences = dataset['train']['text'] + dataset['test']['text'] + dataset['unsupervised']['text']  # объединим все датасеты в один\n",
        "sentences = [nltk.sent_tokenize(re.sub('<[^>]*>', ' ', text)) for text in sentences]              # разделим на предложения\n",
        "sentences = [re.sub(r'[^a-z] *', ' ', sen.lower()) for text in sentences for sen in text]         # предобработаем предложения и избавимся от двойной вложенности\n",
        "sentences = [sen for sen in sentences if len(sen.split()) in range(*word_thresholds)]             # удалим слишком длинные и слишком короткие предложения\n",
        "sentences[:5]"
      ]
    },
    {
      "cell_type": "code",
      "execution_count": 7,
      "metadata": {
        "id": "bxeBxP3J1Rj3",
        "outputId": "d682b994-e952-4968-cf04-a2fc753fe95b",
        "colab": {
          "base_uri": "https://localhost:8080/"
        }
      },
      "outputs": [
        {
          "output_type": "stream",
          "name": "stdout",
          "text": [
            "Всего предложений: 1038399\n"
          ]
        }
      ],
      "source": [
        "print(\"Всего предложений:\", len(sentences))"
      ]
    },
    {
      "cell_type": "markdown",
      "metadata": {
        "id": "iT82XkT6ULA_"
      },
      "source": [
        "Посчитаем для каждого слова его встречаемость."
      ]
    },
    {
      "cell_type": "code",
      "execution_count": 8,
      "metadata": {
        "id": "nEvCN0Y1w1yH",
        "colab": {
          "base_uri": "https://localhost:8080/",
          "height": 49,
          "referenced_widgets": [
            "ffffddc5842949b3b93b70459e8fd378",
            "e40e566020324a7ba3ac9812b85f3de8",
            "2edcd11f174c4856b229c51c63ddaa42",
            "ae7ed01612f5436b923b154be3386af8",
            "d95a01539ed14ea2a43aeffc5cc77c13",
            "5597cfd70b2e4a7bb56d41f3809e1964",
            "fc9098fd1fc74ac1888c8fe7d1c6e7c1",
            "81b8c3fa5a064e939a6d3a01061faed9",
            "e6fc3c4438224a13a5914fb1c7bfb869",
            "24188b1f728d43b2bdc94d17f6636413",
            "fded182f3d234b72a54d5788acd2a77a"
          ]
        },
        "outputId": "949d832b-0f4b-4fb6-931d-35569eaa741f"
      },
      "outputs": [
        {
          "output_type": "display_data",
          "data": {
            "text/plain": [
              "  0%|          | 0/1038399 [00:00<?, ?it/s]"
            ],
            "application/vnd.jupyter.widget-view+json": {
              "version_major": 2,
              "version_minor": 0,
              "model_id": "ffffddc5842949b3b93b70459e8fd378"
            }
          },
          "metadata": {}
        }
      ],
      "source": [
        "words = Counter()\n",
        "\n",
        "for sen in tqdm(sentences):\n",
        "    for word in re.sub(r'[^a-z]', ' ', sen).split(' '):\n",
        "        words[word] += 1\n"
      ]
    },
    {
      "cell_type": "markdown",
      "metadata": {
        "id": "B4k4uSoHUSI0"
      },
      "source": [
        "Добавим в словарь ```vocab_size``` самых встречающихся слов."
      ]
    },
    {
      "cell_type": "code",
      "execution_count": 9,
      "metadata": {
        "id": "oUBNwsK9xLIu"
      },
      "outputs": [],
      "source": [
        "vocab = set(['<unk>', '<bos>', '<eos>', '<pad>'])\n",
        "vocab_size = 40000\n",
        "\n",
        "for word, _ in words.most_common(vocab_size):\n",
        "    vocab.add(word)\n"
      ]
    },
    {
      "cell_type": "code",
      "source": [
        "assert '<unk>' in vocab\n",
        "assert '<bos>' in vocab\n",
        "assert '<eos>' in vocab\n",
        "assert '<pad>' in vocab\n",
        "assert len(vocab) == vocab_size + 4"
      ],
      "metadata": {
        "id": "ieT0DFUpXnV2"
      },
      "execution_count": 10,
      "outputs": []
    },
    {
      "cell_type": "code",
      "execution_count": 11,
      "metadata": {
        "id": "JhACW2CQyck5",
        "colab": {
          "base_uri": "https://localhost:8080/"
        },
        "outputId": "d0977c00-3167-46d0-bcef-c3c984944953"
      },
      "outputs": [
        {
          "output_type": "stream",
          "name": "stdout",
          "text": [
            "Всего слов в словаре: 40004\n"
          ]
        }
      ],
      "source": [
        "print(\"Всего слов в словаре:\", len(vocab))"
      ]
    },
    {
      "cell_type": "markdown",
      "metadata": {
        "id": "UmeRYKSIUcdE"
      },
      "source": [
        "### Подготовка датасета (1 балл)\n",
        "\n",
        "Далее, как и в семинарском занятии, подготовим датасеты и даталоадеры.\n",
        "\n",
        "В классе ```WordDataset``` вам необходимо реализовать метод ```__getitem__```, который будет возвращать сэмпл данных по входному idx, то есть список целых чисел (индексов слов).\n",
        "\n",
        "Внутри этого метода необходимо добавить служебные токены начала и конца последовательности, а также токенизировать соответствующее предложение с помощью ```word_tokenize``` и сопоставить ему индексы из ```word2ind```."
      ]
    },
    {
      "cell_type": "code",
      "execution_count": 12,
      "metadata": {
        "id": "iD7SmSy3v2dl"
      },
      "outputs": [],
      "source": [
        "word2ind = {char: i for i, char in enumerate(vocab)}\n",
        "ind2word = {i: char for char, i in word2ind.items()}"
      ]
    },
    {
      "cell_type": "code",
      "execution_count": 13,
      "metadata": {
        "id": "FVzXL17PzC7K"
      },
      "outputs": [],
      "source": [
        "class WordDataset:\n",
        "    def __init__(self, sentences):\n",
        "        self.data = sentences\n",
        "        self.unk_id = word2ind['<unk>']\n",
        "        self.bos_id = word2ind['<bos>']\n",
        "        self.eos_id = word2ind['<eos>']\n",
        "        self.pad_id = word2ind['<pad>']\n",
        "\n",
        "    def __getitem__(self, idx: int) -> List[int]:\n",
        "        tokenized_sentence = [self.bos_id]\n",
        "        tokenized_sentence += [word2ind.get(word, self.unk_id) for word in self.data[idx].split(' ')]\n",
        "        tokenized_sentence += [self.eos_id]\n",
        "\n",
        "        return tokenized_sentence\n",
        "\n",
        "    def __len__(self) -> int:\n",
        "        return len(self.data)"
      ]
    },
    {
      "cell_type": "code",
      "execution_count": 14,
      "metadata": {
        "id": "I6CtYNMp2_g0"
      },
      "outputs": [],
      "source": [
        "def collate_fn_with_padding(\n",
        "    input_batch: List[List[int]], pad_id=word2ind['<pad>']) -> torch.Tensor:\n",
        "    seq_lens = [len(x) for x in input_batch]\n",
        "    max_seq_len = max(seq_lens)\n",
        "\n",
        "    new_batch = []\n",
        "    for sequence in input_batch:\n",
        "        for _ in range(max_seq_len - len(sequence)):\n",
        "            sequence.append(pad_id)\n",
        "        new_batch.append(sequence)\n",
        "\n",
        "    sequences = torch.LongTensor(new_batch).to(device)\n",
        "\n",
        "    new_batch = {\n",
        "        'input_ids': sequences[:,:-1],\n",
        "        'target_ids': sequences[:,1:]\n",
        "    }\n",
        "\n",
        "    return new_batch"
      ]
    },
    {
      "cell_type": "code",
      "execution_count": 15,
      "metadata": {
        "id": "6xmeK9Ys1BIG"
      },
      "outputs": [],
      "source": [
        "train_sentences, eval_sentences = train_test_split(sentences, test_size=0.8)\n",
        "eval_sentences, test_sentences = train_test_split(eval_sentences, test_size=0.5)\n",
        "\n",
        "train_dataset = WordDataset(train_sentences)\n",
        "eval_dataset = WordDataset(eval_sentences)\n",
        "test_dataset = WordDataset(test_sentences)\n",
        "\n",
        "batch_size = 8\n",
        "\n",
        "train_dataloader = DataLoader(\n",
        "    train_dataset, collate_fn=collate_fn_with_padding, batch_size=batch_size)\n",
        "\n",
        "eval_dataloader = DataLoader(\n",
        "    eval_dataset, collate_fn=collate_fn_with_padding, batch_size=batch_size)\n",
        "\n",
        "test_dataloader = DataLoader(\n",
        "    test_dataset, collate_fn=collate_fn_with_padding, batch_size=batch_size)"
      ]
    },
    {
      "cell_type": "markdown",
      "metadata": {
        "id": "SMAexY7Y45E4"
      },
      "source": [
        "## Обучение и архитектура модели\n",
        "\n",
        "Вам необходимо на практике проверить, что влияет на качество языковых моделей. В этом задании нужно провести серию экспериментов с различными вариантами языковых моделей и сравнить различия в конечной перплексии на тестовом множестве.\n",
        "\n",
        "Возмоэные идеи для экспериментов:\n",
        "\n",
        "* Различные RNN-блоки, например, LSTM или GRU. Также можно добавить сразу несколько RNN блоков друг над другом с помощью аргумента num_layers. Вам поможет официальная документация [здесь](https://pytorch.org/docs/stable/generated/torch.nn.LSTM.html)\n",
        "* Различные размеры скрытого состояния. Различное количество линейных слоев после RNN-блока. Различные функции активации.\n",
        "* Добавление нормализаций в виде Dropout, BatchNorm или LayerNorm\n",
        "* Различные аргументы для оптимизации, например, подбор оптимального learning rate или тип алгоритма оптимизации SGD, Adam, RMSProp и другие\n",
        "* Любые другие идеи и подходы\n",
        "\n",
        "После проведения экспериментов необходимо составить таблицу результатов, в которой описан каждый эксперимент и посчитана перплексия на тестовом множестве.\n",
        "\n",
        "Учтите, что эксперименты, которые различаются, например, только размером скрытого состояния или количеством линейных слоев считаются, как один эксперимент.\n",
        "\n",
        "Успехов!"
      ]
    },
    {
      "cell_type": "markdown",
      "source": [
        "### Функция evaluate (1 балл)\n",
        "\n",
        "Заполните функцию ```evaluate```"
      ],
      "metadata": {
        "id": "KP1cO-3bmDv9"
      }
    },
    {
      "cell_type": "code",
      "source": [
        "def evaluate(model, criterion, dataloader, pbar) -> float:\n",
        "    model.eval()\n",
        "    perplexity = []\n",
        "    with torch.no_grad():\n",
        "        batches = len(train_dataloader)\n",
        "        n_batch = 0\n",
        "        for batch in dataloader:\n",
        "            n_batch += 1\n",
        "            pbar.set_postfix({'evaluation: n_batch/total': f'{n_batch}/{batches}',\n",
        "                              'eval perplexity': sum(perplexity) / len(perplexity)})\n",
        "            logits = model(batch['input_ids']).flatten(start_dim=0, end_dim=1)\n",
        "            loss = criterion(logits, batch['target_ids'].flatten())\n",
        "            perplexity.append(torch.exp(loss).item())\n",
        "\n",
        "    perplexity = sum(perplexity) / len(perplexity)\n",
        "\n",
        "    return perplexity"
      ],
      "metadata": {
        "id": "XUlMUVJ3mL4r"
      },
      "execution_count": 25,
      "outputs": []
    },
    {
      "cell_type": "markdown",
      "metadata": {
        "id": "bLV63Vsk7loy"
      },
      "source": [
        "### Train loop (1 балл)\n",
        "\n",
        "Напишите функцию для обучения модели."
      ]
    },
    {
      "cell_type": "code",
      "source": [
        "def train_model(model, criterion, optimizer, train_dataloader, eval_dataloader, num_epoch=1) -> list:\n",
        "    losses = []\n",
        "    perplexities = []\n",
        "    perplexity = 0\n",
        "\n",
        "    for epoch in (pbar := tqdm(range(num_epoch))):\n",
        "        pbar.set_description(f'Epoch {epoch}:')\n",
        "        epoch_losses = []\n",
        "        model.train()\n",
        "\n",
        "        batches = len(train_dataloader)\n",
        "        n_batch = 0\n",
        "        for batch in train_dataloader:\n",
        "            n_batch += 1\n",
        "            pbar.set_postfix({'training: n_batch/total': f'{n_batch}/{batches}',\n",
        "                              'eval perplexity': perplexity})\n",
        "            optimizer.zero_grad()\n",
        "            logits = model(batch['input_ids']).flatten(start_dim=0, end_dim=1)\n",
        "            loss = criterion(logits, batch['target_ids'].flatten())\n",
        "            loss.backward()\n",
        "            optimizer.step()\n",
        "\n",
        "            epoch_losses.append(loss.item())\n",
        "        losses.append(sum(epoch_losses) / len(epoch_losses))\n",
        "\n",
        "        perplexity = evaluate(model, criterion, eval_dataloader, pbar)\n",
        "        perplexities.append(perplexity)\n",
        "\n",
        "    return losses, perplexities"
      ],
      "metadata": {
        "id": "bSZmUC3YmocP"
      },
      "execution_count": 27,
      "outputs": []
    },
    {
      "cell_type": "code",
      "source": [
        "def plot_result(losses: list, perplexities:list):\n",
        "    fig, (ax1, ax2) = plt.subplots(1, 2, layout='tight', figsize=(15, 5))\n",
        "    ax1.plot(np.arange(len(losses)), losses, color='orchid')\n",
        "    ax2.plot(np.arange(len(perplexities)), perplexities, color='darkcyan')\n",
        "    ax1.set_title('Losses')\n",
        "    ax2.set_title('Perplexities')\n",
        "\n",
        "    plt.xlabel(\"epoch\")\n",
        "    plt.show()"
      ],
      "metadata": {
        "id": "a7kN10oREtrf"
      },
      "execution_count": 28,
      "outputs": []
    },
    {
      "cell_type": "markdown",
      "source": [
        "### Первый эксперимент: простой RNN (2 балла)\n",
        "\n",
        "Определите архитектуру модели и обучите её."
      ],
      "metadata": {
        "id": "hXmeyhBQmuq4"
      }
    },
    {
      "cell_type": "code",
      "source": [
        "class LanguageModel(nn.Module):\n",
        "    def __init__(self, hidden_dim: int, vocab_size: int, num_layers: int):\n",
        "        super().__init__()\n",
        "        self.embedding = nn.Embedding(vocab_size, hidden_dim)\n",
        "        self.rnn = nn.GRU(hidden_dim, hidden_dim, num_layers, batch_first=True)\n",
        "        self.linear = nn.Linear(hidden_dim, hidden_dim)\n",
        "        self.projection = nn.Linear(hidden_dim, vocab_size)\n",
        "\n",
        "        self.non_lin = nn.Tanh()\n",
        "        self.dropout = nn.Dropout(p=0.1)\n",
        "\n",
        "    def forward(self, input_batch: torch.Tensor) -> torch.Tensor:\n",
        "        embeddings = self.embedding(input_batch)  # [batch_size, seq_len, hidden_dim]\n",
        "        output, _ = self.rnn(embeddings)  # [batch_size, seq_len, hidden_dim]\n",
        "        output = self.dropout(self.linear(self.non_lin(output)))  # [batch_size, seq_len, hidden_dim]\n",
        "        projection = self.projection(self.non_lin(output))  # [batch_size, seq_len, vocab_size]\n",
        "\n",
        "        return projection"
      ],
      "metadata": {
        "id": "qaWvqNJom0ij"
      },
      "execution_count": 29,
      "outputs": []
    },
    {
      "cell_type": "markdown",
      "source": [
        "#### Однослойный RNN"
      ],
      "metadata": {
        "id": "j3NE86y1HSH2"
      }
    },
    {
      "cell_type": "code",
      "source": [
        "model = LanguageModel(hidden_dim=256, vocab_size=len(vocab), num_layers=1).to(device)\n",
        "criterion = nn.CrossEntropyLoss(ignore_index=word2ind['<pad>'])\n",
        "optimizer = torch.optim.Adam(model.parameters())"
      ],
      "metadata": {
        "id": "TxbEzn5fnBOY"
      },
      "execution_count": 30,
      "outputs": []
    },
    {
      "cell_type": "code",
      "source": [
        "losses, perplexities = train_model(model, criterion, optimizer, train_dataloader, eval_dataloader, num_epoch=5)"
      ],
      "metadata": {
        "colab": {
          "base_uri": "https://localhost:8080/",
          "height": 92,
          "referenced_widgets": [
            "757d5f4e127243d7b4aab3f2af9956c4",
            "6d8979df34e5489dabb2791859a9516d",
            "6ebdda3d728c4dc59716c5ae198ed97b",
            "46693b0be8b24602826d2e2cfe523d6f",
            "8cc19d6b9dcb45f79a717eb341df3c83",
            "12e8ccd46d9c4a6d89c2b92143369918",
            "23a8fc05350c48478c4db0d5585dbab3",
            "08089965da3046ae97e8632624d5fab8",
            "fb5d90cac1ef4fd186af633b58095f94",
            "8a9346a3e41f49e1a38bc6376e7304a1",
            "8008c4b9deec408f9eaa080d81a10f68"
          ]
        },
        "id": "W0lo3qyI6smS",
        "outputId": "d89b8fc1-3eac-489e-b5e5-80b27eb11c73"
      },
      "execution_count": null,
      "outputs": [
        {
          "output_type": "display_data",
          "data": {
            "text/plain": [
              "  0%|          | 0/5 [00:00<?, ?it/s]"
            ],
            "application/vnd.jupyter.widget-view+json": {
              "version_major": 2,
              "version_minor": 0,
              "model_id": "757d5f4e127243d7b4aab3f2af9956c4"
            }
          },
          "metadata": {}
        }
      ]
    },
    {
      "cell_type": "code",
      "source": [
        "plot_result(losses, perplexities)"
      ],
      "metadata": {
        "id": "rA2bZHnGELAm"
      },
      "execution_count": null,
      "outputs": []
    },
    {
      "cell_type": "markdown",
      "source": [
        "#### Трехслойный RNN"
      ],
      "metadata": {
        "id": "weeA_LtHHYSu"
      }
    },
    {
      "cell_type": "code",
      "source": [
        "model = LanguageModel(hidden_dim=256, vocab_size=len(vocab), num_layers=3).to(device)\n",
        "criterion = nn.CrossEntropyLoss(ignore_index=word2ind['<pad>'])\n",
        "optimizer = torch.optim.Adam(model.parameters())"
      ],
      "metadata": {
        "id": "hZaoVQJ3HRLo"
      },
      "execution_count": null,
      "outputs": []
    },
    {
      "cell_type": "code",
      "source": [
        "losses, perplexities = train_model(model, criterion, optimizer, train_dataloader, eval_dataloader, num_epoch=5)"
      ],
      "metadata": {
        "id": "e4ljFcwcHdWQ"
      },
      "execution_count": null,
      "outputs": []
    },
    {
      "cell_type": "code",
      "source": [
        "plot_result(losses, perplexities)"
      ],
      "metadata": {
        "id": "J_eOAs1VHeWu"
      },
      "execution_count": null,
      "outputs": []
    },
    {
      "cell_type": "markdown",
      "source": [
        "### Второй эксперимент: простой LSTM (2 балла)\n",
        "\n",
        "Попробуйте что-то поменять в модели или в пайплайне обучения, идеи для экспериментов можно подсмотреть выше."
      ],
      "metadata": {
        "id": "X1EW4faIm0tl"
      }
    },
    {
      "cell_type": "code",
      "source": [
        "class LSTMModel(nn.Module):\n",
        "    def __init__(self, hidden_dim: int, vocab_size: int, num_layers: int):\n",
        "        super().__init__()\n",
        "        self.embedding = nn.Embedding(vocab_size, hidden_dim)\n",
        "        self.rnn = nn.LSTM(hidden_dim, hidden_dim, num_layers, batch_first=True)\n",
        "\n",
        "        self.linear = nn.Linear(hidden_dim, hidden_dim)\n",
        "        self.projection = nn.Linear(hidden_dim, vocab_size)\n",
        "\n",
        "        self.non_lin = nn.Tanh()\n",
        "        self.dropout = nn.Dropout(p=0.1)\n",
        "\n",
        "    def forward(self, input_batch: torch.Tensor) -> torch.Tensor:\n",
        "        embeddings = self.embedding(input_batch)  # [batch_size, seq_len, hidden_dim]\n",
        "        output, _ = self.rnn(embeddings)  # [batch_size, seq_len, hidden_dim]\n",
        "        output = self.dropout(self.linear(self.non_lin(output)))  # [batch_size, seq_len, hidden_dim]\n",
        "        projection = self.projection(self.non_lin(output))  # [batch_size, seq_len, vocab_size]\n",
        "\n",
        "        return projection\n"
      ],
      "metadata": {
        "id": "IcBBQwMmFiWU"
      },
      "execution_count": null,
      "outputs": []
    },
    {
      "cell_type": "code",
      "source": [
        "model = LSTMModel(hidden_dim=256, vocab_size=len(vocab), num_layers=1).to(device)\n",
        "criterion = nn.CrossEntropyLoss(ignore_index=word2ind['<pad>'])\n",
        "optimizer = torch.optim.Adam(model.parameters())"
      ],
      "metadata": {
        "id": "PwrMV3wGH4bg"
      },
      "execution_count": null,
      "outputs": []
    },
    {
      "cell_type": "code",
      "source": [
        "losses, perplexities = train_model(model, criterion, optimizer, train_dataloader, eval_dataloader, num_epoch=5)"
      ],
      "metadata": {
        "id": "_HtR047bH6xu"
      },
      "execution_count": null,
      "outputs": []
    },
    {
      "cell_type": "code",
      "source": [
        "plot_result(losses, perplexities)"
      ],
      "metadata": {
        "id": "lQ3vsWmpH7qR"
      },
      "execution_count": null,
      "outputs": []
    },
    {
      "cell_type": "markdown",
      "source": [
        "### Третий эксперимент: добавление Dropout в RNN (запасной)\n"
      ],
      "metadata": {
        "id": "K2TYM88EIDPK"
      }
    },
    {
      "cell_type": "markdown",
      "source": [
        "### Отчет (2 балла)\n",
        "\n",
        "Опишите проведенные эксперименты. Сравните перплексии полученных моделей. Предложите идеи по улучшению качества моделей."
      ],
      "metadata": {
        "id": "Y5V9H3eoFeAu"
      }
    },
    {
      "cell_type": "code",
      "source": [],
      "metadata": {
        "id": "M2GCDVeeF8LP"
      },
      "execution_count": 20,
      "outputs": []
    }
  ],
  "metadata": {
    "accelerator": "GPU",
    "colab": {
      "provenance": [],
      "include_colab_link": true
    },
    "gpuClass": "standard",
    "kernelspec": {
      "display_name": "Python 3 (ipykernel)",
      "language": "python",
      "name": "python3"
    },
    "language_info": {
      "codemirror_mode": {
        "name": "ipython",
        "version": 3
      },
      "file_extension": ".py",
      "mimetype": "text/x-python",
      "name": "python",
      "nbconvert_exporter": "python",
      "pygments_lexer": "ipython3",
      "version": "3.8.13"
    },
    "widgets": {
      "application/vnd.jupyter.widget-state+json": {
        "ffffddc5842949b3b93b70459e8fd378": {
          "model_module": "@jupyter-widgets/controls",
          "model_name": "HBoxModel",
          "model_module_version": "1.5.0",
          "state": {
            "_dom_classes": [],
            "_model_module": "@jupyter-widgets/controls",
            "_model_module_version": "1.5.0",
            "_model_name": "HBoxModel",
            "_view_count": null,
            "_view_module": "@jupyter-widgets/controls",
            "_view_module_version": "1.5.0",
            "_view_name": "HBoxView",
            "box_style": "",
            "children": [
              "IPY_MODEL_e40e566020324a7ba3ac9812b85f3de8",
              "IPY_MODEL_2edcd11f174c4856b229c51c63ddaa42",
              "IPY_MODEL_ae7ed01612f5436b923b154be3386af8"
            ],
            "layout": "IPY_MODEL_d95a01539ed14ea2a43aeffc5cc77c13"
          }
        },
        "e40e566020324a7ba3ac9812b85f3de8": {
          "model_module": "@jupyter-widgets/controls",
          "model_name": "HTMLModel",
          "model_module_version": "1.5.0",
          "state": {
            "_dom_classes": [],
            "_model_module": "@jupyter-widgets/controls",
            "_model_module_version": "1.5.0",
            "_model_name": "HTMLModel",
            "_view_count": null,
            "_view_module": "@jupyter-widgets/controls",
            "_view_module_version": "1.5.0",
            "_view_name": "HTMLView",
            "description": "",
            "description_tooltip": null,
            "layout": "IPY_MODEL_5597cfd70b2e4a7bb56d41f3809e1964",
            "placeholder": "​",
            "style": "IPY_MODEL_fc9098fd1fc74ac1888c8fe7d1c6e7c1",
            "value": "100%"
          }
        },
        "2edcd11f174c4856b229c51c63ddaa42": {
          "model_module": "@jupyter-widgets/controls",
          "model_name": "FloatProgressModel",
          "model_module_version": "1.5.0",
          "state": {
            "_dom_classes": [],
            "_model_module": "@jupyter-widgets/controls",
            "_model_module_version": "1.5.0",
            "_model_name": "FloatProgressModel",
            "_view_count": null,
            "_view_module": "@jupyter-widgets/controls",
            "_view_module_version": "1.5.0",
            "_view_name": "ProgressView",
            "bar_style": "success",
            "description": "",
            "description_tooltip": null,
            "layout": "IPY_MODEL_81b8c3fa5a064e939a6d3a01061faed9",
            "max": 1038399,
            "min": 0,
            "orientation": "horizontal",
            "style": "IPY_MODEL_e6fc3c4438224a13a5914fb1c7bfb869",
            "value": 1038399
          }
        },
        "ae7ed01612f5436b923b154be3386af8": {
          "model_module": "@jupyter-widgets/controls",
          "model_name": "HTMLModel",
          "model_module_version": "1.5.0",
          "state": {
            "_dom_classes": [],
            "_model_module": "@jupyter-widgets/controls",
            "_model_module_version": "1.5.0",
            "_model_name": "HTMLModel",
            "_view_count": null,
            "_view_module": "@jupyter-widgets/controls",
            "_view_module_version": "1.5.0",
            "_view_name": "HTMLView",
            "description": "",
            "description_tooltip": null,
            "layout": "IPY_MODEL_24188b1f728d43b2bdc94d17f6636413",
            "placeholder": "​",
            "style": "IPY_MODEL_fded182f3d234b72a54d5788acd2a77a",
            "value": " 1038399/1038399 [00:13&lt;00:00, 86710.79it/s]"
          }
        },
        "d95a01539ed14ea2a43aeffc5cc77c13": {
          "model_module": "@jupyter-widgets/base",
          "model_name": "LayoutModel",
          "model_module_version": "1.2.0",
          "state": {
            "_model_module": "@jupyter-widgets/base",
            "_model_module_version": "1.2.0",
            "_model_name": "LayoutModel",
            "_view_count": null,
            "_view_module": "@jupyter-widgets/base",
            "_view_module_version": "1.2.0",
            "_view_name": "LayoutView",
            "align_content": null,
            "align_items": null,
            "align_self": null,
            "border": null,
            "bottom": null,
            "display": null,
            "flex": null,
            "flex_flow": null,
            "grid_area": null,
            "grid_auto_columns": null,
            "grid_auto_flow": null,
            "grid_auto_rows": null,
            "grid_column": null,
            "grid_gap": null,
            "grid_row": null,
            "grid_template_areas": null,
            "grid_template_columns": null,
            "grid_template_rows": null,
            "height": null,
            "justify_content": null,
            "justify_items": null,
            "left": null,
            "margin": null,
            "max_height": null,
            "max_width": null,
            "min_height": null,
            "min_width": null,
            "object_fit": null,
            "object_position": null,
            "order": null,
            "overflow": null,
            "overflow_x": null,
            "overflow_y": null,
            "padding": null,
            "right": null,
            "top": null,
            "visibility": null,
            "width": null
          }
        },
        "5597cfd70b2e4a7bb56d41f3809e1964": {
          "model_module": "@jupyter-widgets/base",
          "model_name": "LayoutModel",
          "model_module_version": "1.2.0",
          "state": {
            "_model_module": "@jupyter-widgets/base",
            "_model_module_version": "1.2.0",
            "_model_name": "LayoutModel",
            "_view_count": null,
            "_view_module": "@jupyter-widgets/base",
            "_view_module_version": "1.2.0",
            "_view_name": "LayoutView",
            "align_content": null,
            "align_items": null,
            "align_self": null,
            "border": null,
            "bottom": null,
            "display": null,
            "flex": null,
            "flex_flow": null,
            "grid_area": null,
            "grid_auto_columns": null,
            "grid_auto_flow": null,
            "grid_auto_rows": null,
            "grid_column": null,
            "grid_gap": null,
            "grid_row": null,
            "grid_template_areas": null,
            "grid_template_columns": null,
            "grid_template_rows": null,
            "height": null,
            "justify_content": null,
            "justify_items": null,
            "left": null,
            "margin": null,
            "max_height": null,
            "max_width": null,
            "min_height": null,
            "min_width": null,
            "object_fit": null,
            "object_position": null,
            "order": null,
            "overflow": null,
            "overflow_x": null,
            "overflow_y": null,
            "padding": null,
            "right": null,
            "top": null,
            "visibility": null,
            "width": null
          }
        },
        "fc9098fd1fc74ac1888c8fe7d1c6e7c1": {
          "model_module": "@jupyter-widgets/controls",
          "model_name": "DescriptionStyleModel",
          "model_module_version": "1.5.0",
          "state": {
            "_model_module": "@jupyter-widgets/controls",
            "_model_module_version": "1.5.0",
            "_model_name": "DescriptionStyleModel",
            "_view_count": null,
            "_view_module": "@jupyter-widgets/base",
            "_view_module_version": "1.2.0",
            "_view_name": "StyleView",
            "description_width": ""
          }
        },
        "81b8c3fa5a064e939a6d3a01061faed9": {
          "model_module": "@jupyter-widgets/base",
          "model_name": "LayoutModel",
          "model_module_version": "1.2.0",
          "state": {
            "_model_module": "@jupyter-widgets/base",
            "_model_module_version": "1.2.0",
            "_model_name": "LayoutModel",
            "_view_count": null,
            "_view_module": "@jupyter-widgets/base",
            "_view_module_version": "1.2.0",
            "_view_name": "LayoutView",
            "align_content": null,
            "align_items": null,
            "align_self": null,
            "border": null,
            "bottom": null,
            "display": null,
            "flex": null,
            "flex_flow": null,
            "grid_area": null,
            "grid_auto_columns": null,
            "grid_auto_flow": null,
            "grid_auto_rows": null,
            "grid_column": null,
            "grid_gap": null,
            "grid_row": null,
            "grid_template_areas": null,
            "grid_template_columns": null,
            "grid_template_rows": null,
            "height": null,
            "justify_content": null,
            "justify_items": null,
            "left": null,
            "margin": null,
            "max_height": null,
            "max_width": null,
            "min_height": null,
            "min_width": null,
            "object_fit": null,
            "object_position": null,
            "order": null,
            "overflow": null,
            "overflow_x": null,
            "overflow_y": null,
            "padding": null,
            "right": null,
            "top": null,
            "visibility": null,
            "width": null
          }
        },
        "e6fc3c4438224a13a5914fb1c7bfb869": {
          "model_module": "@jupyter-widgets/controls",
          "model_name": "ProgressStyleModel",
          "model_module_version": "1.5.0",
          "state": {
            "_model_module": "@jupyter-widgets/controls",
            "_model_module_version": "1.5.0",
            "_model_name": "ProgressStyleModel",
            "_view_count": null,
            "_view_module": "@jupyter-widgets/base",
            "_view_module_version": "1.2.0",
            "_view_name": "StyleView",
            "bar_color": null,
            "description_width": ""
          }
        },
        "24188b1f728d43b2bdc94d17f6636413": {
          "model_module": "@jupyter-widgets/base",
          "model_name": "LayoutModel",
          "model_module_version": "1.2.0",
          "state": {
            "_model_module": "@jupyter-widgets/base",
            "_model_module_version": "1.2.0",
            "_model_name": "LayoutModel",
            "_view_count": null,
            "_view_module": "@jupyter-widgets/base",
            "_view_module_version": "1.2.0",
            "_view_name": "LayoutView",
            "align_content": null,
            "align_items": null,
            "align_self": null,
            "border": null,
            "bottom": null,
            "display": null,
            "flex": null,
            "flex_flow": null,
            "grid_area": null,
            "grid_auto_columns": null,
            "grid_auto_flow": null,
            "grid_auto_rows": null,
            "grid_column": null,
            "grid_gap": null,
            "grid_row": null,
            "grid_template_areas": null,
            "grid_template_columns": null,
            "grid_template_rows": null,
            "height": null,
            "justify_content": null,
            "justify_items": null,
            "left": null,
            "margin": null,
            "max_height": null,
            "max_width": null,
            "min_height": null,
            "min_width": null,
            "object_fit": null,
            "object_position": null,
            "order": null,
            "overflow": null,
            "overflow_x": null,
            "overflow_y": null,
            "padding": null,
            "right": null,
            "top": null,
            "visibility": null,
            "width": null
          }
        },
        "fded182f3d234b72a54d5788acd2a77a": {
          "model_module": "@jupyter-widgets/controls",
          "model_name": "DescriptionStyleModel",
          "model_module_version": "1.5.0",
          "state": {
            "_model_module": "@jupyter-widgets/controls",
            "_model_module_version": "1.5.0",
            "_model_name": "DescriptionStyleModel",
            "_view_count": null,
            "_view_module": "@jupyter-widgets/base",
            "_view_module_version": "1.2.0",
            "_view_name": "StyleView",
            "description_width": ""
          }
        },
        "757d5f4e127243d7b4aab3f2af9956c4": {
          "model_module": "@jupyter-widgets/controls",
          "model_name": "HBoxModel",
          "model_module_version": "1.5.0",
          "state": {
            "_dom_classes": [],
            "_model_module": "@jupyter-widgets/controls",
            "_model_module_version": "1.5.0",
            "_model_name": "HBoxModel",
            "_view_count": null,
            "_view_module": "@jupyter-widgets/controls",
            "_view_module_version": "1.5.0",
            "_view_name": "HBoxView",
            "box_style": "",
            "children": [
              "IPY_MODEL_6d8979df34e5489dabb2791859a9516d",
              "IPY_MODEL_6ebdda3d728c4dc59716c5ae198ed97b",
              "IPY_MODEL_46693b0be8b24602826d2e2cfe523d6f"
            ],
            "layout": "IPY_MODEL_8cc19d6b9dcb45f79a717eb341df3c83"
          }
        },
        "6d8979df34e5489dabb2791859a9516d": {
          "model_module": "@jupyter-widgets/controls",
          "model_name": "HTMLModel",
          "model_module_version": "1.5.0",
          "state": {
            "_dom_classes": [],
            "_model_module": "@jupyter-widgets/controls",
            "_model_module_version": "1.5.0",
            "_model_name": "HTMLModel",
            "_view_count": null,
            "_view_module": "@jupyter-widgets/controls",
            "_view_module_version": "1.5.0",
            "_view_name": "HTMLView",
            "description": "",
            "description_tooltip": null,
            "layout": "IPY_MODEL_12e8ccd46d9c4a6d89c2b92143369918",
            "placeholder": "​",
            "style": "IPY_MODEL_23a8fc05350c48478c4db0d5585dbab3",
            "value": "Epoch 0::   0%"
          }
        },
        "6ebdda3d728c4dc59716c5ae198ed97b": {
          "model_module": "@jupyter-widgets/controls",
          "model_name": "FloatProgressModel",
          "model_module_version": "1.5.0",
          "state": {
            "_dom_classes": [],
            "_model_module": "@jupyter-widgets/controls",
            "_model_module_version": "1.5.0",
            "_model_name": "FloatProgressModel",
            "_view_count": null,
            "_view_module": "@jupyter-widgets/controls",
            "_view_module_version": "1.5.0",
            "_view_name": "ProgressView",
            "bar_style": "",
            "description": "",
            "description_tooltip": null,
            "layout": "IPY_MODEL_08089965da3046ae97e8632624d5fab8",
            "max": 5,
            "min": 0,
            "orientation": "horizontal",
            "style": "IPY_MODEL_fb5d90cac1ef4fd186af633b58095f94",
            "value": 0
          }
        },
        "46693b0be8b24602826d2e2cfe523d6f": {
          "model_module": "@jupyter-widgets/controls",
          "model_name": "HTMLModel",
          "model_module_version": "1.5.0",
          "state": {
            "_dom_classes": [],
            "_model_module": "@jupyter-widgets/controls",
            "_model_module_version": "1.5.0",
            "_model_name": "HTMLModel",
            "_view_count": null,
            "_view_module": "@jupyter-widgets/controls",
            "_view_module_version": "1.5.0",
            "_view_name": "HTMLView",
            "description": "",
            "description_tooltip": null,
            "layout": "IPY_MODEL_8a9346a3e41f49e1a38bc6376e7304a1",
            "placeholder": "​",
            "style": "IPY_MODEL_8008c4b9deec408f9eaa080d81a10f68",
            "value": " 0/5 [09:40&lt;?, ?it/s, evaluation: n_batch/total=11324/25960, eval perplexity=[81.14803314208984, 157.12881469726562, 222.43055725097656, 109.19686889648438, 118.15203094482422, 158.65341186523438, 177.10226440429688, 305.7959289550781, 150.8240966796875, 69.01128387451172, 152.20191955566406, 80.13665008544922, 70.02062225341797, 188.5865936279297, 146.81704711914062, 164.53285217285156, 100.17376708984375, 119.14618682861328, 219.8307647705078, 158.87217712402344, 242.15736389160156, 66.36756896972656, 108.31067657470703, 142.36294555664062, 197.43736267089844, 263.4971008300781, 201.3952178955078, 197.7236785888672, 155.6749267578125, 156.0423583984375, 147.85047912597656, 224.5941925048828, 238.95106506347656, 291.17401123046875, 102.1241455078125, 112.21295928955078, 200.03396606445312, 100.74895477294922, 321.6565246582031, 107.7599868774414, 144.36659240722656, 290.0149230957031, 77.33295440673828, 154.51339721679688, 161.94378662109375, 111.70205688476562, 266.9595642089844, 249.62123107910156, 141.26153564453125, 88.15910339355469, 231.7168426513672, 91.08543395996094, 168.16668701171875, 178.72438049316406, 194.5546112060547, 135.80416870117188, 223.11041259765625, 141.9625244140625, 150.32394409179688, 84.32762908935547, 130.1077423095703, 130.23548889160156, 73.33134460449219, 73.61994171142578, 83.49880981445312, 96.87199401855469, 146.15821838378906, 126.65398406982422, 78.96763610839844, 144.30899047851562, 111.4222412109375, 145.19308471679688, 96.03694915771484, 124.95126342773438, 97.85675048828125, 152.2042999267578, 151.97933959960938, 167.0281982421875, 146.5878143310547, 144.83946228027344, 94.98921203613281, 241.3441162109375, 84.55706024169922, 141.80319213867188, 199.2393035888672, 106.52510833740234, 418.61676025390625, 222.4322509765625, 202.5994110107422, 148.0168914794922, 185.0775909423828, 78.4676284790039, 173.06214904785156, 159.4437255859375, 135.62355041503906, 125.7899398803711, 88.6272964477539, 145.9508819580078, 229.5492706298828, 169.51805114746094, 257.85546875, 73.977294921875, 223.86575317382812, 193.6202392578125, 135.5029296875, 218.58169555664062, 153.9462432861328, 110.97303009033203, 96.43954467773438, 120.41092681884766, 249.6168212890625, 142.0579376220703, 219.6178741455078, 133.18426513671875, 139.86920166015625, 92.77091979980469, 143.02874755859375, 89.42852020263672, 120.34687042236328, 273.3824768066406, 148.96548461914062, 127.649658203125, 216.35780334472656, 214.30255126953125, 263.4068908691406, 152.1973419189453, 118.24430084228516, 127.23072052001953, 130.05763244628906, 102.56893157958984, 205.112060546875, 179.24594116210938, 150.1377716064453, 60.57271957397461, 216.5729217529297, 175.30657958984375, 355.1546325683594, 196.89630126953125, 118.57952117919922, 140.3424530029297, 179.5294952392578, 55.10322189331055, 143.56581115722656, 207.68309020996094, 169.24618530273438, 105.09656524658203, 79.96957397460938, 84.32972717285156, 176.505615234375, 175.1138458251953, 275.7434997558594, 134.6842498779297, 86.22364807128906, 42.218204498291016, 104.60260009765625, 81.09871673583984, 189.16921997070312, 163.39178466796875, 135.25291442871094, 158.72747802734375, 126.86329650878906, 129.00811767578125, 60.71021270751953, 186.7233428955078, 591.0537719726562, 214.26239013671875, 230.6925506591797, 92.24199676513672, 93.00957489013672, 173.63082885742188, 115.73258972167969, 154.21080017089844, 217.56939697265625, 107.50972747802734, 82.3367919921875, 59.3031005859375, 350.503662109375, 181.21568298339844, 297.8215637207031, 226.14889526367188, 114.64472961425781, 110.90013885498047, 153.9248809814453, 215.37203979492188, 292.7572326660156, 232.54833984375, 69.00984191894531, 184.11131286621094, 241.29095458984375, 121.10697174072266, 225.39573669433594, 143.89910888671875, 286.5867919921875, 106.61688232421875, 115.77486419677734, 150.91928100585938, 196.0865936279297, 192.8578338623047, 121.92787170410156, 112.93074035644531, 210.9529266357422, 106.32820892333984, 208.90554809570312, 242.43972778320312, 79.49720764160156, 75.63070678710938, 109.54049682617188, 123.51792907714844, 229.8970489501953, 177.6530303955078, 164.7830047607422, 394.07867431640625, 225.4760284423828, 512.5332641601562, 87.21066284179688, 179.67893981933594, 126.60682678222656, 166.1956024169922, 114.69312286376953, 133.25839233398438, 70.93351745605469, 159.805419921875, 139.3201141357422, 73.59136962890625, 117.26275634765625, 102.99552154541016, 114.9362564086914, 368.1934509277344, 93.78577423095703, 134.6092529296875, 232.58892822265625, 177.17169189453125, 344.06573486328125, 102.22612762451172, 213.1029510498047, 97.13301086425781, 79.16862487792969, 216.78089904785156, 117.05108642578125, 172.234375, 258.0616149902344, 143.28594970703125, 125.44450378417969, 126.19239044189453, 142.63827514648438, 134.25279235839844, 141.8286895751953, 133.92198181152344, 230.00318908691406, 178.59446716308594, 282.60174560546875, 231.75938415527344, 259.0758056640625, 168.5291290283203, 145.6236114501953, 210.03431701660156, 180.2753143310547, 138.44158935546875, 140.85748291015625, 132.43621826171875, 109.0339126586914, 146.4663848876953, 171.43032836914062, 61.3036003112793, 132.67654418945312, 100.20243072509766, 183.5305938720703, 123.44096374511719, 172.25375366210938, 144.80465698242188, 225.04713439941406, 77.3566665649414, 148.9703826904297, 167.6658477783203, 148.86790466308594, 177.38885498046875, 158.04135131835938, 82.22312927246094, 179.92251586914062, 87.57428741455078, 168.22434997558594, 248.00732421875, 99.51334381103516, 114.16934967041016, 134.48292541503906, 198.31581115722656, 123.12134552001953, 131.62020874023438, 109.56929016113281, 140.0930633544922, 133.60191345214844, 274.3069763183594, 185.73216247558594, 104.25985717773438, 96.88294219970703, 112.16641235351562, 227.36477661132812, 110.48721313476562, 161.40359497070312, 100.59844970703125, 244.62835693359375, 94.96598815917969, 101.92138671875, 183.9253692626953, 128.305419921875, 125.00997161865234, 81.76327514648438, 99.41445922851562, 167.95054626464844, 191.1983184814453, 112.13176727294922, 211.81582641601562, 176.45252990722656, 134.13217163085938, 199.02764892578125, 160.80020141601562, 123.8104019165039, 136.4722137451172, 284.7211608886719, 116.05791473388672, 103.56704711914062, 145.55438232421875, 167.5296630859375, 95.182861328125, 161.721923828125, 82.51811218261719, 216.63705444335938, 83.59693145751953, 109.10818481445312, 214.902099609375, 247.63377380371094, 193.0240020751953, 168.6985321044922, 226.1740264892578, 120.13948059082031, 124.93595123291016, 308.2744445800781, 164.0612335205078, 111.64097595214844, 191.533203125, 72.29611206054688, 100.93061828613281, 160.4926300048828, 164.0775909423828, 222.58811950683594, 105.58123016357422, 174.00363159179688, 126.58930969238281, 55.68718719482422, 116.2860336303711, 185.10548400878906, 300.05938720703125, 106.47514343261719, 190.02102661132812, 80.32027435302734, 103.67145538330078, 149.5508575439453, 230.20201110839844, 165.685546875, 135.29522705078125, 167.80613708496094, 175.5855712890625, 54.08024597167969, 81.47752380371094, 314.83209228515625, 72.82308197021484, 162.44943237304688, 145.15834045410156, 165.2020263671875, 148.2491455078125, 97.3616714477539, 276.8777770996094, 111.68229675292969, 131.79196166992188, 213.9351806640625, 208.79420471191406, 111.46220397949219, 78.67665100097656, 115.07862091064453, 244.09469604492188, 135.78927612304688, 103.73375701904297, 87.55550384521484, 73.36107635498047, 97.32870483398438, 319.201904296875, 249.16624450683594, 119.35993194580078, 174.72215270996094, 360.22222900390625, 181.9509735107422, 191.1037139892578, 99.06593322753906, 99.97892761230469, 220.17654418945312, 112.73237609863281, 163.16964721679688, 312.55084228515625, 123.50154876708984, 120.58048248291016, 142.77484130859375, 188.0174102783203, 136.37554931640625, 207.07879638671875, 308.64361572265625, 153.1326904296875, 171.32220458984375, 116.18544006347656, 174.4116668701172, 157.91749572753906, 128.9747772216797, 167.95542907714844, 208.29173278808594, 81.13356018066406, 218.36990356445312, 119.4290542602539, 110.15327453613281, 110.29476928710938, 131.0809326171875, 86.00298309326172, 97.85389709472656, 157.1988067626953, 128.10789489746094, 243.18711853027344, 192.9974822998047, 126.72290802001953, 303.6983337402344, 177.6654052734375, 143.4333953857422, 94.216796875, 103.22936248779297, 213.4085235595703, 214.3113250732422, 97.17558288574219, 181.96780395507812, 96.65577697753906, 192.3659210205078, 175.4110870361328, 138.11837768554688, 173.3580780029297, 410.61572265625, 244.79579162597656, 110.97667694091797, 133.25059509277344, 79.60004425048828, 125.588623046875, 85.62823486328125, 132.5546875, 71.46759796142578, 109.77972412109375, 111.19088745117188, 108.27391052246094, 172.8458251953125, 124.8698501586914, 183.02825927734375, 279.28643798828125, 135.76266479492188, 124.90813446044922, 186.39537048339844, 110.11620330810547, 164.56613159179688, 203.70498657226562, 149.7014617919922, 99.0195541381836, 132.29579162597656, 204.5217742919922, 227.52366638183594, 146.88174438476562, 130.05662536621094, 111.94568634033203, 165.06658935546875, 172.64230346679688, 208.96951293945312, 82.70893096923828, 211.69760131835938, 167.6001434326172, 255.998779296875, 177.87393188476562, 136.50442504882812, 177.09854125976562, 178.0509490966797, 214.98089599609375, 92.94803619384766, 113.52740478515625, 215.44967651367188, 164.3043975830078, 201.96791076660156, 103.04322052001953, 95.16267395019531, 82.24996185302734, 241.53509521484375, 101.64376831054688, 451.17144775390625, 150.62271118164062, 169.6555938720703, 211.07879638671875, 119.73468017578125, 119.02489471435547, 106.56753540039062, 233.84579467773438, 75.22019958496094, 199.9593963623047, 88.86863708496094, 97.072265625, 167.76101684570312, 260.11846923828125, 158.8375701904297, 132.99755859375, 212.8665313720703, 153.79046630859375, 54.97092819213867, 173.25262451171875, 186.33616638183594, 298.59185791015625, 164.46006774902344, 197.54556274414062, 73.69935607910156, 189.22650146484375, 256.8189392089844, 107.80613708496094, 164.5949249267578, 209.82542419433594, 245.31427001953125, 155.0912322998047, 117.69134521484375, 309.9216613769531, 115.58368682861328, 107.14550018310547, 97.16863250732422, 58.354522705078125, 88.32850646972656, 244.39389038085938, 182.2707977294922, 163.31381225585938, 229.8487091064453, 135.17141723632812, 138.03672790527344, 132.1936492919922, 95.33602905273438, 158.8228759765625, 151.04080200195312, 208.1780548095703, 207.7716522216797, 159.57766723632812, 165.45391845703125, 181.45606994628906, 133.91891479492188, 232.61721801757812, 625.6599731445312, 218.08985900878906, 200.10818481445312, 124.35538482666016, 155.57110595703125, 146.44403076171875, 134.5526580810547, 227.3994598388672, 260.028076171875, 239.53184509277344, 64.14863586425781, 135.60545349121094, 185.0541229248047, 66.90382385253906, 202.8468780517578, 142.66860961914062, 181.81558227539062, 149.8626708984375, 105.1426773071289, 85.29789733886719, 186.57275390625, 116.21142578125, 127.54810333251953, 95.7671890258789, 167.92181396484375, 175.9105682373047, 398.0827941894531, 100.61198425292969, 130.89773559570312, 107.96694946289062, 107.87555694580078, 76.52273559570312, 124.33837127685547, 222.96969604492188, 198.5958251953125, 207.4755401611328, 138.8950653076172, 93.77500915527344, 107.50091552734375, 203.0949249267578, 104.32688903808594, 156.7978515625, 223.32859802246094, 185.9900665283203, 139.3369903564453, 176.14047241210938, 62.36103820800781, 121.47991180419922, 113.32469177246094, 169.86863708496094, 87.1361312866211, 143.8378448486328, 105.83270263671875, 86.33419799804688, 301.6240539550781, 68.42573547363281, 75.2850341796875, 99.64273071289062, 342.4944763183594, 151.1798553466797, 165.51568603515625, 37.78721618652344, 226.38711547851562, 77.72593688964844, 214.99679565429688, 57.10378646850586, 138.55783081054688, 57.26201248168945, 236.36390686035156, 174.4298858642578, 104.99337768554688, 79.61613464355469, 114.607177734375, 182.3914794921875, 150.4180145263672, 76.57280731201172, 164.5936737060547, 251.9394073486328, 131.26544189453125, 155.63729858398438, 147.83096313476562, 68.62247467041016, 117.06470489501953, 166.47564697265625, 163.5869140625, 178.4452362060547, 269.6708984375, 106.81147766113281, 115.94961547851562, 165.33277893066406, 145.3601837158203, 279.771728515625, 110.33721923828125, 270.28045654296875, 361.82476806640625, 98.05269622802734, 320.3369445800781, 140.4574737548828, 92.86019134521484, 138.37620544433594, 129.05455017089844, 87.20308685302734, 113.9403305053711, 106.66392517089844, 113.88513946533203, 114.86677551269531, 156.01609802246094, 167.01934814453125, 241.74571228027344, 188.66673278808594, 135.4172821044922, 153.81092834472656, 161.46249389648438, 248.98048400878906, 87.1940689086914, 171.8647003173828, 289.8877258300781, 180.49249267578125, 72.54408264160156, 155.6570281982422, 155.54063415527344, 83.33460998535156, 184.7980499267578, 124.91790771484375, 231.145751953125, 166.44358825683594, 114.23088073730469, 210.2948760986328, 158.1170196533203, 74.78990173339844, 117.72361755371094, 175.7073516845703, 55.450016021728516, 256.87896728515625, 190.7731170654297, 167.07989501953125, 141.9892578125, 92.70582580566406, 86.26567840576172, 300.296142578125, 85.0693359375, 90.03129577636719, 243.56370544433594, 123.75361633300781, 105.78346252441406, 147.46141052246094, 127.66493225097656, 106.27726745605469, 224.27175903320312, 143.58656311035156, 118.59789276123047, 132.6196746826172, 163.81906127929688, 109.00479888916016, 285.3414306640625, 150.1367645263672, 128.67825317382812, 129.9425048828125, 186.57730102539062, 188.6306610107422, 157.8929443359375, 209.4136962890625, 239.7285919189453, 244.992919921875, 131.4205780029297, 228.93067932128906, 130.5327911376953, 139.13674926757812, 157.49636840820312, 157.56954956054688, 168.63812255859375, 196.14727783203125, 92.73668670654297, 251.65065002441406, 182.1800079345703, 144.14462280273438, 254.05783081054688, 169.45855712890625, 82.80557250976562, 175.74815368652344, 204.48841857910156, 166.1799774169922, 182.11380004882812, 196.08200073242188, 101.9150161743164, 146.9799041748047, 357.2039489746094, 264.8977355957031, 141.8306427001953, 134.27487182617188, 185.42739868164062, 138.837646484375, 101.54654693603516, 275.4366455078125, 160.1057891845703, 205.3199005126953, 231.48789978027344, 51.53911590576172, 88.23467254638672, 180.99935913085938, 119.57225036621094, 109.95748138427734, 165.72402954101562, 121.16433715820312, 122.99319458007812, 193.28152465820312, 190.11473083496094, 191.08837890625, 167.95823669433594, 151.08726501464844, 128.6991729736328, 277.3320617675781, 181.9042205810547, 191.81845092773438, 133.1160125732422, 121.41789245605469, 119.44266510009766, 155.53602600097656, 76.5163803100586, 88.7156982421875, 168.55235290527344, 216.15538024902344, 222.4447784423828, 152.82530212402344, 215.34451293945312, 200.1588592529297, 166.28770446777344, 74.09891510009766, 166.5780029296875, 182.969970703125, 141.4968719482422, 241.5701141357422, 93.58269500732422, 192.89471435546875, 213.15122985839844, 70.62814331054688, 101.91657257080078, 158.33204650878906, 180.3011016845703, 115.9636001586914, 115.62777709960938, 348.3883361816406, 129.44503784179688, 203.67710876464844, 171.7680206298828, 70.21524047851562, 235.507080078125, 113.82042694091797, 159.48287963867188, 216.3777313232422, 209.1547393798828, 108.22256469726562, 124.9670639038086, 129.72824096679688, 158.06455993652344, 134.93875122070312, 170.0081024169922, 163.5990753173828, 116.96907043457031, 182.38851928710938, 175.48110961914062, 84.31287384033203, 92.66203308105469, 137.89955139160156, 105.99344635009766, 165.11422729492188, 133.4337615966797, 167.96104431152344, 164.10888671875, 106.01463317871094, 155.78579711914062, 87.85489654541016, 127.9288558959961, 58.13478469848633, 114.88134765625, 230.7288360595703, 150.94827270507812, 104.94743347167969, 102.72649383544922, 142.18405151367188, 164.99916076660156, 146.69178771972656, 116.35731506347656, 234.23593139648438, 160.09547424316406, 187.16004943847656, 122.97836303710938, 561.2097778320312, 111.97216033935547, 179.57376098632812, 275.08331298828125, 160.61781311035156, 127.95881652832031, 120.30228424072266, 113.27546691894531, 143.04612731933594, 173.8195343017578, 135.39622497558594, 203.56312561035156, 99.63508605957031, 131.20880126953125, 103.32770538330078, 72.71912384033203, 171.71954345703125, 122.44215393066406, 90.47115325927734, 210.69686889648438, 81.31299591064453, 104.32534790039062, 132.5955810546875, 148.6179656982422, 177.23184204101562, 263.7770690917969, 110.45271301269531, 122.08599853515625, 220.79241943359375, 146.79554748535156, 143.73191833496094, 125.68453979492188, 103.5447769165039, 126.33201599121094, 161.01087951660156, 199.04283142089844, 167.52337646484375, 83.63265991210938, 78.91192626953125, 145.3330078125, 109.80313110351562, 126.82718658447266, 203.88963317871094, 194.8158416748047, 60.666141510009766, 239.74447631835938, 121.9818344116211, 172.0194091796875, 82.09882354736328, 311.973876953125, 76.47560119628906, 143.31744384765625, 143.6241455078125, 147.21937561035156, 54.43937301635742, 101.56989288330078, 164.4222869873047, 244.4534454345703, 153.40603637695312, 150.75579833984375, 120.05226135253906, 286.3028564453125, 281.13311767578125, 197.33419799804688, 154.581787109375, 261.6711730957031, 106.92424011230469, 176.8326416015625, 136.18170166015625, 105.67007446289062, 166.8459014892578, 110.04864501953125, 186.66209411621094, 54.5750732421875, 225.68911743164062, 64.34019470214844, 237.4879913330078, 168.97152709960938, 80.6105728149414, 214.38787841796875, 205.97738647460938, 93.5481185913086, 182.8301544189453, 157.1629180908203, 150.3858184814453, 147.51478576660156, 196.31533813476562, 142.97207641601562, 219.87942504882812, 184.94773864746094, 124.71702575683594, 243.24325561523438, 217.27899169921875, 76.10733795166016, 326.3287048339844, 72.9571762084961, 326.1863708496094, 251.002197265625, 129.68240356445312, 149.33187866210938, 67.37250518798828, 171.25973510742188, 142.50936889648438, 132.37562561035156, 280.4197692871094, 137.46022033691406, 88.15930938720703, 299.4346618652344, 214.08529663085938, 194.22378540039062, 137.8616180419922, 236.4227294921875, 118.43378448486328, 184.88230895996094, 167.34141540527344, 152.35824584960938, 143.7430877685547, 132.67831420898438, 147.2225341796875, 128.1129150390625, 181.3716278076172, 207.923583984375, 92.78264617919922, 166.43597412109375, 171.5077667236328, 126.52070617675781, 126.60543060302734, 315.4490966796875, 88.01725006103516, 129.2917022705078, 134.3101043701172, 194.1224822998047, 216.23890686035156, 321.1716003417969, 180.27392578125, 259.78143310546875, 89.36185455322266, 190.93446350097656, 104.1169204711914, 135.7971649169922, 350.1092834472656, 211.99740600585938, 189.2825469970703, 144.82089233398438, 128.56442260742188, 178.98416137695312, 72.24793243408203, 85.79036712646484, 124.8323974609375, 132.74008178710938, 84.63272857666016, 130.78973388671875, 87.68497467041016, 171.74156188964844, 203.02297973632812, 209.39561462402344, 175.08203125, 203.5897216796875, 189.57212829589844, 272.4911193847656, 82.8650131225586, 101.26416015625, 85.07781219482422, 90.91368865966797, 179.84506225585938, 298.5414733886719, 125.40998840332031, 102.27189636230469, 161.5944366455078, 113.97245025634766, 166.1715850830078, 117.74136352539062, 235.3402557373047, 164.7392578125, 132.74513244628906, 163.96278381347656, 163.9541015625, 193.2382049560547, 138.08399963378906, 70.4229965209961, 166.19622802734375, 209.2594757080078, 88.1760025024414, 133.50230407714844, 111.9822006225586, 75.98974609375, 150.1012420654297, 169.65219116210938, 185.8731231689453, 127.15351104736328, 135.6570587158203, 176.58880615234375, 144.2170867919922, 204.45118713378906, 132.2540283203125, 114.14920806884766, 298.77142333984375, 338.0715026855469, 79.97200775146484, 158.0557403564453, 209.14605712890625, 116.68195343017578, 122.05927276611328, 327.9817199707031, 135.277099609375, 251.8365936279297, 65.87663269042969, 173.17796325683594, 138.37994384765625, 104.00125885009766, 261.9519348144531, 116.1050796508789, 116.72514343261719, 57.24598693847656, 157.40635681152344, 117.80784606933594, 92.5321273803711, 184.48779296875, 182.17947387695312, 102.83480834960938, 144.2113037109375, 81.74078369140625, 99.18656158447266, 233.12466430664062, 325.99853515625, 158.52401733398438, 99.49028778076172, 69.1858901977539, 114.94134521484375, 295.7379150390625, 88.82723999023438, 216.84634399414062, 200.25662231445312, 173.95501708984375, 171.42559814453125, 136.03224182128906, 162.87673950195312, 158.59698486328125, 267.6792297363281, 155.1394500732422, 147.49502563476562, 180.9462890625, 137.94322204589844, 133.89720153808594, 78.7956314086914, 214.28363037109375, 111.18218994140625, 110.46735382080078, 210.233642578125, 244.255126953125, 114.8171615600586, 176.328125, 105.01231384277344, 233.50794982910156, 253.6687774658203, 134.11758422851562, 94.89034271240234, 145.1262969970703, 113.80024719238281, 131.26882934570312, 289.01361083984375, 161.1707305908203, 278.260498046875, 335.7724914550781, 158.01910400390625, 244.1668701171875, 177.6363525390625, 270.8547058105469, 136.57479858398438, 195.24520874023438, 174.7888946533203, 89.16839599609375, 127.6842269897461, 144.8400115966797, 164.97996520996094, 168.85289001464844, 101.49474334716797, 169.9104461669922, 275.8244934082031, 184.72976684570312, 314.06634521484375, 169.89529418945312, 138.15988159179688, 108.33557891845703, 265.386474609375, 142.5627899169922, 199.02830505371094, 107.40115356445312, 124.17668151855469, 47.99702453613281, 174.03317260742188, 165.1582489013672, 86.98480987548828, 150.7461700439453, 205.75730895996094, 316.28546142578125, 121.2496337890625, 108.47188568115234, 121.64946746826172, 144.95318603515625, 180.05477905273438, 222.8498992919922, 193.33663940429688, 145.4193115234375, 100.64139556884766, 158.54071044921875, 179.0812225341797, 73.29341888427734, 90.41754913330078, 101.0116958618164, 99.40601348876953, 226.5891876220703, 164.0774383544922, 185.1152801513672, 116.0634536743164, 71.34111022949219, 195.23451232910156, 195.9168701171875, 86.33575439453125, 80.79706573486328, 146.4773406982422, 113.8619613647461, 124.0145492553711, 149.1483612060547, 184.7843017578125, 126.86251068115234, 108.63245391845703, 153.93544006347656, 144.08242797851562, 126.87152099609375, 129.35348510742188, 162.31069946289062, 116.9676742553711, 179.08729553222656, 98.9111557006836, 107.52346801757812, 689.85498046875, 119.45632934570312, 218.3405303955078, 208.93801879882812, 65.2720947265625, 78.20104217529297, 206.62449645996094, 115.32025146484375, 147.4561309814453, 123.12686920166016, 152.07554626464844, 94.82069396972656, 71.1158218383789, 95.00566101074219, 79.60653686523438, 82.01795196533203, 172.3508758544922, 202.5052490234375, 202.5078582763672, 179.71571350097656, 168.00286865234375, 82.51362609863281, 103.90940856933594, 260.04827880859375, 133.57394409179688, 153.8259735107422, 123.23941802978516, 131.47486877441406, 80.65271759033203, 80.55390167236328, 119.4514389038086, 182.4677734375, 71.31159210205078, 279.9490966796875, 268.2770080566406, 127.73812866210938, 147.1597900390625, 101.54136657714844, 165.2677459716797, 115.76007080078125, 167.2676239013672, 131.54466247558594, 227.45477294921875, 171.47792053222656, 118.0811767578125, 175.9943084716797, 151.0482177734375, 219.68563842773438, 96.71068572998047, 164.57867431640625, 108.40373229980469, 152.78712463378906, 96.07762145996094, 103.16632843017578, 125.72168731689453, 191.01759338378906, 184.77284240722656, 178.49937438964844, 86.61016845703125, 99.29444885253906, 210.0333251953125, 196.80282592773438, 261.23406982421875, 201.51202392578125, 186.1557159423828, 195.27369689941406, 125.3918685913086, 183.8064727783203, 174.41583251953125, 175.75462341308594, 155.30494689941406, 162.44764709472656, 137.21949768066406, 175.64169311523438, 202.13931274414062, 256.2695617675781, 219.04684448242188, 155.49954223632812, 123.06077575683594, 162.7635498046875, 170.06631469726562, 105.9017105102539, 156.91685485839844, 181.18675231933594, 82.08802032470703, 114.50863647460938, 314.58837890625, 235.63604736328125, 203.02056884765625, 150.42942810058594, 404.28228759765625, 209.35899353027344, 103.69241333007812, 75.74720764160156, 105.40074157714844, 203.27650451660156, 89.57524871826172, 260.2657470703125, 119.04839324951172, 157.44680786132812, 210.31283569335938, 102.65099334716797, 100.1807861328125, 187.84133911132812, 185.15695190429688, 56.436405181884766, 107.41436767578125, 107.94702911376953, 127.52938079833984, 268.4797058105469, 132.16754150390625, 95.56925964355469, 117.21724700927734, 243.01220703125, 102.13749694824219, 132.15676879882812, 192.08004760742188, 88.67176818847656, 57.542816162109375, 124.6997299194336, 213.12510681152344, 111.05518341064453, 139.20968627929688, 79.73973083496094, 192.5316619873047, 178.3189239501953, 143.53439331054688, 147.2972412109375, 108.22178649902344, 167.1649169921875, 249.3302459716797, 91.21965789794922, 91.8475112915039, 125.39521789550781, 84.7662582397461, 106.57241821289062, 219.37818908691406, 251.93533325195312, 91.28065490722656, 127.86683654785156, 160.24746704101562, 80.57502746582031, 436.1864013671875, 174.29693603515625, 101.38349151611328, 104.88314056396484, 142.9724884033203, 106.68640899658203, 95.86551666259766, 142.6683349609375, 130.13671875, 136.81597900390625, 208.89041137695312, 57.55121612548828, 163.43914794921875, 192.33575439453125, 110.51640319824219, 123.60601043701172, 45.36508560180664, 78.0813980102539, 133.07203674316406, 70.88800811767578, 140.499267578125, 117.98403930664062, 93.92375946044922, 90.17888641357422, 121.84022521972656, 142.5224151611328, 90.78515625, 119.46675872802734, 131.21981811523438, 121.69205474853516, 139.9190216064453, 187.89866638183594, 357.1311950683594, 100.84459686279297, 100.5614242553711, 169.59104919433594, 135.6240692138672, 142.57992553710938, 96.52690887451172, 157.07406616210938, 126.6965103149414, 147.0890655517578, 87.77843475341797, 315.2829284667969, 186.288818359375, 91.09229278564453, 162.81834411621094, 114.1081771850586, 157.23757934570312, 210.06698608398438, 210.39788818359375, 131.77870178222656, 187.36480712890625, 96.34563446044922, 159.02891540527344, 79.3619613647461, 165.64944458007812, 112.10342407226562, 170.91636657714844, 125.49828338623047, 101.24518585205078, 182.16220092773438, 130.24163818359375, 302.879638671875, 88.19239807128906, 166.0644073486328, 199.656982421875, 49.30985641479492, 156.36212158203125, 169.8265380859375, 157.2764892578125, 89.32678985595703, 131.19186401367188, 185.25735473632812, 194.8032989501953, 82.2196044921875, 170.35226440429688, 152.38876342773438, 81.59140014648438, 143.87852478027344, 235.9183349609375, 138.3743438720703, 183.99598693847656, 222.22425842285156, 173.99766540527344, 203.35629272460938, 74.56005859375, 372.5773010253906, 144.4862823486328, 136.06195068359375, 140.0890655517578, 151.5995635986328, 170.673095703125, 158.05838012695312, 192.60208129882812, 146.4766387939453, 88.2433853149414, 124.19112396240234, 108.5937728881836, 197.27041625976562, 86.71578979492188, 110.72661590576172, 158.70362854003906, 111.79914855957031, 96.08985137939453, 152.14712524414062, 121.62255096435547, 232.8549346923828, 175.00099182128906, 159.22271728515625, 216.2830352783203, 212.84825134277344, 177.6734619140625, 193.2489776611328, 116.51293182373047, 99.07463073730469, 269.8934326171875, 113.75814056396484, 122.60380554199219, 163.91493225097656, 201.46888732910156, 140.46632385253906, 91.56230926513672, 87.68451690673828, 151.29574584960938, 185.7689208984375, 180.83018493652344, 105.82124328613281, 91.30865478515625, 154.38804626464844, 106.4809799194336, 225.2837677001953, 159.9084014892578, 316.4981994628906, 101.88162994384766, 167.1866912841797, 163.82772827148438, 130.5947265625, 113.04447174072266, 173.82252502441406, 143.32537841796875, 218.57398986816406, 87.40087127685547, 109.33369445800781, 102.5018539428711, 120.35490417480469, 69.31146240234375, 166.97364807128906, 240.30233764648438, 213.18435668945312, 127.23453521728516, 250.20216369628906, 173.0254364013672, 99.52838897705078, 141.57266235351562, 95.11009216308594, 349.0162048339844, 73.20320129394531, 107.88553619384766, 395.5499572753906, 88.91525268554688, 110.14645385742188, 111.98075866699219, 220.62844848632812, 80.48360443115234, 161.7456817626953, 67.1287612915039, 138.47540283203125, 155.90431213378906, 135.2302703857422, 169.56178283691406, 76.60746765136719, 243.92445373535156, 175.3084259033203, 136.32379150390625, 284.9372253417969, 146.25469970703125, 129.182373046875, 208.45230102539062, 163.6916961669922, 135.3067169189453, 244.99327087402344, 45.70216369628906, 183.54364013671875, 163.79774475097656, 115.701904296875, 85.12635040283203, 59.95873260498047, 224.66006469726562, 395.57257080078125, 259.8400573730469, 128.19845581054688, 124.70769500732422, 115.032470703125, 177.88156127929688, 188.06028747558594, 159.6566619873047, 127.87177276611328, 137.67144775390625, 103.26781463623047, 169.2426300048828, 157.71951293945312, 392.6023864746094, 175.20571899414062, 188.85205078125, 155.60472106933594, 145.95388793945312, 249.43121337890625, 105.2544937133789, 133.512939453125, 146.98341369628906, 123.06065368652344, 201.00743103027344, 173.73834228515625, 170.20130920410156, 191.33238220214844, 123.22572326660156, 101.09110260009766, 151.1858367919922, 90.14311981201172, 181.59628295898438, 182.51292419433594, 100.0660171508789, 181.705078125, 92.84526824951172, 216.74876403808594, 156.9076385498047, 153.33062744140625, 157.57052612304688, 109.10401916503906, 474.4972229003906, 134.00616455078125, 200.80079650878906, 159.88621520996094, 268.4505310058594, 139.466064453125, 158.9171142578125, 233.73387145996094, 91.47223663330078, 95.79418182373047, 212.3253936767578, 63.7696418762207, 178.3405303955078, 264.7740783691406, 80.77417755126953, 196.56619262695312, 97.29204559326172, 118.57975006103516, 207.2491912841797, 143.18991088867188, 252.80657958984375, 108.02513885498047, 119.6473617553711, 255.345947265625, 83.89159393310547, 212.29148864746094, 132.68850708007812, 135.34762573242188, 166.86508178710938, 484.8320617675781, 189.50732421875, 70.72600555419922, 183.92605590820312, 198.150390625, 213.4197235107422, 285.87200927734375, 130.2740020751953, 226.1714324951172, 74.23015594482422, 92.76012420654297, 79.26510620117188, 82.74636840820312, 154.58340454101562, 121.65434265136719, 198.42477416992188, 78.79036712646484, 219.6350555419922, 180.8903045654297, 244.4456329345703, 121.03308868408203, 152.15292358398438, 139.3936767578125, 234.17921447753906, 142.43927001953125, 272.8440856933594, 54.96964645385742, 226.14340209960938, 210.5142059326172, 192.20364379882812, 154.3349151611328, 218.66082763671875, 323.2947692871094, 155.3035430908203, 330.3116149902344, 177.49046325683594, 110.89215850830078, 90.72457122802734, 214.27658081054688, 199.24232482910156, 157.1813507080078, 341.6052551269531, 152.2975311279297, 225.0499267578125, 195.83169555664062, 96.35469055175781, 147.71778869628906, 196.45628356933594, 244.1590576171875, 174.1551971435547, 164.62091064453125, 56.687015533447266, 80.75322723388672, 244.54425048828125, 106.61104583740234, 139.9239044189453, 189.5695037841797, 135.9395751953125, 70.97533416748047, 86.5054931640625, 96.94398498535156, 133.24029541015625, 191.1339569091797, 155.0336151123047, 122.69796752929688, 222.6648712158203, 158.5627899169922, 40.074039459228516, 180.62939453125, 112.38704681396484, 126.16761016845703, 148.30018615722656, 226.29969787597656, 113.03736114501953, 114.40101623535156, 100.58089447021484, 227.95706176757812, 144.10716247558594, 89.85040283203125, 111.61771392822266, 212.51785278320312, 166.87351989746094, 142.1889190673828, 266.5887451171875, 277.8623046875, 256.2043151855469, 110.76241302490234, 141.9093780517578, 88.2134780883789, 168.6366729736328, 172.04197692871094, 378.5672607421875, 118.8872299194336, 109.37483215332031, 123.08525085449219, 98.16923522949219, 74.7533950805664, 152.8269805908203, 109.29136657714844, 154.218017578125, 158.6204833984375, 334.4873962402344, 198.83119201660156, 203.33999633789062, 106.218505859375, 334.6407165527344, 152.54920959472656, 108.00238037109375, 133.84580993652344, 150.5594482421875, 100.53328704833984, 166.11273193359375, 140.28785705566406, 57.7520866394043, 137.24664306640625, 261.82354736328125, 151.9216766357422, 210.48379516601562, 182.18251037597656, 247.76075744628906, 270.9942321777344, 99.73423767089844, 121.44474792480469, 75.91082763671875, 246.45004272460938, 134.5514373779297, 308.4810485839844, 171.59364318847656, 153.04238891601562, 101.66146087646484, 79.89756774902344, 87.38611602783203, 279.76348876953125, 90.85639953613281, 125.44479370117188, 115.28936004638672, 194.08175659179688, 170.46188354492188, 90.12171173095703, 111.79866790771484, 109.19442749023438, 125.3177490234375, 208.59796142578125, 231.8883819580078, 170.8140411376953, 260.4923095703125, 132.5970458984375, 131.29649353027344, 166.0319366455078, 81.75403594970703, 140.8435821533203, 205.00900268554688, 101.36454010009766, 75.11628723144531, 339.0926818847656, 147.8916015625, 132.0670623779297, 233.4618682861328, 157.92691040039062, 108.9067153930664, 99.57817840576172, 154.04904174804688, 150.6529541015625, 70.46566009521484, 229.2516326904297, 122.0916976928711, 85.03153991699219, 43.071529388427734, 67.32238006591797, 172.33985900878906, 122.09233856201172, 151.36546325683594, 157.24746704101562, 235.8164520263672, 201.55557250976562, 183.8212890625, 148.2036895751953, 278.4756774902344, 121.5890884399414, 158.15843200683594, 213.210693359375, 284.4680480957031, 92.64263916015625, 141.03707885742188, 90.73918914794922, 297.8802490234375, 111.51712036132812, 108.99472045898438, 177.10546875, 211.05213928222656, 91.6869125366211, 132.753173828125, 314.7279357910156, 102.7939682006836, 115.49717712402344, 73.38157653808594, 171.51234436035156, 331.8375549316406, 210.6837158203125, 140.28250122070312, 140.63394165039062, 90.77139282226562, 181.72718811035156, 108.83544158935547, 310.9111633300781, 267.4892578125, 163.27589416503906, 168.4168243408203, 164.18121337890625, 145.29371643066406, 86.37516784667969, 187.62649536132812, 161.76466369628906, 82.47916412353516, 158.23574829101562, 187.7960205078125, 131.6031951904297, 122.86084747314453, 114.44039916992188, 107.3935775756836, 182.31695556640625, 114.72549438476562, 98.44754028320312, 377.4770812988281, 122.62187957763672, 138.08584594726562, 189.714111328125, 139.25389099121094, 94.54983520507812, 152.0102081298828, 171.01199340820312, 205.53883361816406, 158.96971130371094, 155.68954467773438, 127.06913757324219, 164.49998474121094, 238.9724884033203, 109.1555404663086, 136.85635375976562, 83.71217346191406, 125.46495819091797, 138.33126831054688, 217.2521514892578, 149.90155029296875, 121.45246124267578, 88.7109603881836, 159.97140502929688, 179.8712158203125, 119.429443359375, 101.03567504882812, 124.3472671508789, 137.8633270263672, 77.77828979492188, 167.31619262695312, 180.30032348632812, 225.69235229492188, 227.2612762451172, 252.27157592773438, 146.7927703857422, 257.3751525878906, 129.02822875976562, 91.59253692626953, 72.18325805664062, 102.09776306152344, 184.4873504638672, 223.01063537597656, 115.66803741455078, 133.6886444091797, 112.6674575805664, 130.63429260253906, 211.66944885253906, 107.21489715576172, 199.6917266845703, 161.40106201171875, 175.25601196289062, 143.49771118164062, 112.68722534179688, 194.12091064453125, 84.27999114990234, 80.79460144042969, 200.09176635742188, 167.52999877929688, 123.3974838256836, 129.9589385986328, 123.44638061523438, 103.96759033203125, 209.49859619140625, 388.02752685546875, 133.23184204101562, 198.86050415039062, 321.63702392578125, 417.6276550292969, 126.47293853759766, 70.74348449707031, 153.7332000732422, 87.2600326538086, 168.2398223876953, 133.4017791748047, 219.89796447753906, 211.2460479736328, 70.1271743774414, 105.72113037109375, 140.58370971679688, 208.21299743652344, 129.63961791992188, 252.98228454589844, 110.73548126220703, 194.96946716308594, 183.63845825195312, 153.212158203125, 110.52068328857422, 243.38943481445312, 218.74517822265625, 80.5691909790039, 101.75885009765625, 90.33377838134766, 118.08517456054688, 115.54444885253906, 236.9232635498047, 98.95819091796875, 159.86715698242188, 174.3459014892578, 215.32212829589844, 149.29763793945312, 180.5123748779297, 73.13069915771484, 176.85482788085938, 69.98640441894531, 120.658935546875, 68.66325378417969, 103.04950714111328, 191.01295471191406, 170.07798767089844, 105.40104675292969, 121.29098510742188, 237.0923309326172, 154.0930633544922, 148.27325439453125, 84.51022338867188, 347.8651123046875, 77.68755340576172, 135.5347900390625, 194.6234588623047, 122.79618835449219, 247.40257263183594, 162.3207550048828, 191.49867248535156, 150.24496459960938, 172.98220825195312, 147.71800231933594, 242.35374450683594, 286.8910217285156, 228.8744659423828, 430.31866455078125, 176.4584197998047, 96.65693664550781, 172.18280029296875, 167.932373046875, 163.69381713867188, 135.4285125732422, 215.115234375, 144.63233947753906, 193.5590362548828, 124.47320556640625, 147.11656188964844, 111.55599212646484, 161.76974487304688, 127.33486938476562, 121.35908508300781, 206.7791290283203, 110.8209457397461, 229.35430908203125, 111.1729736328125, 202.32928466796875, 346.1233215332031, 299.74993896484375, 197.49330139160156, 104.88375091552734, 226.30455017089844, 164.31192016601562, 93.99078369140625, 179.7718505859375, 114.25343322753906, 190.51576232910156, 82.86585235595703, 109.03126525878906, 136.22015380859375, 94.75203704833984, 168.2115936279297, 182.1924285888672, 196.0565948486328, 127.64612579345703, 207.56607055664062, 162.9300994873047, 171.5829315185547, 179.66644287109375, 127.35897827148438, 174.4749755859375, 230.51364135742188, 194.45870971679688, 108.2258071899414, 204.9990234375, 223.7724609375, 185.82969665527344, 145.17613220214844, 201.41165161132812, 222.16555786132812, 103.97428894042969, 184.26719665527344, 156.51429748535156, 248.63809204101562, 199.4014434814453, 124.22191619873047, 113.97217559814453, 103.82723999023438, 130.20350646972656, 222.49887084960938, 107.1330795288086, 170.00567626953125, 117.1926040649414, 104.26318359375, 152.99249267578125, 208.6952667236328, 381.7140197753906, 171.7999725341797, 171.7689971923828, 220.25277709960938, 100.26322937011719, 172.61997985839844, 320.12042236328125, 107.54644012451172, 108.26839447021484, 122.07429504394531, 96.41678619384766, 201.69151306152344, 160.92660522460938, 79.49535369873047, 133.481689453125, 118.50354766845703, 130.4422607421875, 168.1787109375, 139.9995880126953, 231.77308654785156, 145.5931854248047, 97.73102569580078, 465.8462219238281, 198.55670166015625, 214.5616455078125, 101.7341079711914, 141.67599487304688, 155.1973114013672, 79.99462127685547, 109.03329467773438, 182.08602905273438, 157.78773498535156, 123.04676055908203, 73.324951171875, 170.3994598388672, 200.95347595214844, 159.5311737060547, 121.30440521240234, 178.10520935058594, 208.31011962890625, 87.18338775634766, 137.87918090820312, 170.3740234375, 161.15097045898438, 127.15890502929688, 115.64696502685547, 219.21005249023438, 141.08616638183594, 260.6196594238281, 295.27728271484375, 56.06962203979492, 70.3243408203125, 121.67121887207031, 103.97498321533203, 221.7479248046875, 141.18679809570312, 122.04093933105469, 124.64574432373047, 130.68344116210938, 102.71043395996094, 109.87090301513672, 107.74276733398438, 81.08228302001953, 88.59754943847656, 131.76255798339844, 232.06736755371094, 118.52700805664062, 226.15989685058594, 131.01588439941406, 66.67833709716797, 279.02008056640625, 179.52633666992188, 167.7377471923828, 176.2194366455078, 148.41847229003906, 140.0970001220703, 206.9781036376953, 108.89305114746094, 229.88729858398438, 90.06629180908203, 88.5582275390625, 125.28095245361328, 183.2921905517578, 435.3114318847656, 131.01976013183594, 152.46725463867188, 103.68242645263672, 102.92742156982422, 83.24382019042969, 209.1974334716797, 163.0498809814453, 148.10330200195312, 107.683349609375, 168.7261962890625, 233.90411376953125, 136.41763305664062, 97.58378601074219, 131.3336181640625, 113.66384887695312, 163.30064392089844, 200.88909912109375, 178.7087860107422, 122.3612060546875, 96.67527770996094, 142.8176727294922, 256.91497802734375, 267.24652099609375, 90.86073303222656, 171.96669006347656, 306.96453857421875, 141.7698516845703, 171.8029327392578, 101.99270629882812, 124.3222427368164, 102.5787124633789, 163.5017547607422, 210.54371643066406, 138.52513122558594, 178.77867126464844, 175.75831604003906, 146.59710693359375, 204.4311065673828, 115.88880920410156, 140.3697052001953, 137.37261962890625, 236.7146759033203, 163.0398406982422, 119.87458801269531, 102.3785171508789, 151.0497283935547, 170.12318420410156, 181.05667114257812, 386.7890625, 102.88360595703125, 205.89285278320312, 170.68930053710938, 163.92759704589844, 162.94479370117188, 75.46748352050781, 143.41220092773438, 132.67843627929688, 260.712890625, 95.99689483642578, 143.18466186523438, 95.806884765625, 120.78246307373047, 114.29092407226562, 121.09086608886719, 92.34229278564453, 108.12723541259766, 345.9701843261719, 220.54379272460938, 101.18765258789062, 106.3172607421875, 169.35330200195312, 118.0087890625, 93.09170532226562, 246.04962158203125, 338.57745361328125, 81.70893859863281, 104.19082641601562, 129.23129272460938, 144.42849731445312, 176.14794921875, 140.81289672851562, 233.23719787597656, 126.532958984375, 129.33892822265625, 108.44147491455078, 55.23091125488281, 80.57238006591797, 216.40084838867188, 154.45689392089844, 64.04917907714844, 194.2932586669922, 162.88404846191406, 119.59539794921875, 185.25399780273438, 83.69935607910156, 210.30540466308594, 117.83211517333984, 129.6553192138672, 177.49630737304688, 192.09451293945312, 224.98435974121094, 71.54451751708984, 140.72610473632812, 188.77886962890625, 93.72372436523438, 152.8317108154297, 112.71318817138672, 83.75282287597656, 134.31759643554688, 128.48977661132812, 58.69384002685547, 49.75998306274414, 104.39785766601562, 150.7811737060547, 101.59798431396484, 96.06163024902344, 142.7464599609375, 100.0443115234375, 145.89048767089844, 167.2879638671875, 277.403076171875, 121.43508911132812, 172.30641174316406, 283.5833740234375, 109.52900695800781, 157.71815490722656, 105.35150909423828, 175.70501708984375, 145.1433868408203, 99.8160629272461, 108.28914642333984, 125.96514892578125, 84.92529296875, 118.54916381835938, 161.54257202148438, 117.1972427368164, 133.62408447265625, 108.40486907958984, 206.38905334472656, 137.06005859375, 175.03135681152344, 122.59485626220703, 166.78465270996094, 430.903076171875, 204.60780334472656, 135.97335815429688, 146.4082794189453, 66.46952056884766, 89.45611572265625, 83.22203063964844, 331.2148742675781, 268.4935302734375, 121.3890609741211, 165.20785522460938, 158.3272247314453, 119.15147399902344, 94.01180267333984, 220.71548461914062, 227.51791381835938, 203.18104553222656, 257.2825012207031, 234.95892333984375, 148.29347229003906, 88.01658630371094, 278.6895446777344, 194.8460235595703, 145.15916442871094, 111.17487335205078, 188.54891967773438, 112.84671020507812, 172.76055908203125, 225.50247192382812, 147.28060913085938, 94.24003601074219, 134.86167907714844, 176.52633666992188, 73.93797302246094, 135.609130859375, 182.5755157470703, 118.31705474853516, 154.56166076660156, 163.9708251953125, 50.229061126708984, 229.72686767578125, 126.80414581298828, 119.39306640625, 117.68168640136719, 84.76128387451172, 242.73529052734375, 97.79923248291016, 89.83956146240234, 129.08447265625, 170.55911254882812, 134.34197998046875, 185.5442352294922, 131.96778869628906, 165.4480743408203, 153.81057739257812, 131.67770385742188, 103.05717468261719, 214.5979461669922, 204.30821228027344, 87.63306427001953, 158.43968200683594, 55.124244689941406, 220.8804473876953, 99.14329528808594, 245.90582275390625, 208.8744659423828, 232.45742797851562, 240.57554626464844, 57.64168167114258, 78.8616714477539, 154.95106506347656, 136.73313903808594, 101.2169418334961, 106.61368560791016, 92.19041442871094, 98.05049133300781, 164.326416015625, 118.28800201416016, 176.798583984375, 181.42518615722656, 187.8627471923828, 126.78528594970703, 126.85870361328125, 232.11859130859375, 147.1775360107422, 159.20904541015625, 87.67799377441406, 112.99430084228516, 184.97091674804688, 152.0178985595703, 118.57142639160156, 112.43218231201172, 120.3628158569336, 92.76229095458984, 151.65011596679688, 368.3397521972656, 191.5518341064453, 158.377197265625, 109.92340850830078, 197.60963439941406, 131.39601135253906, 96.2312240600586, 97.10563659667969, 125.3134536743164, 152.38629150390625, 110.54244232177734, 164.4136505126953, 128.21405029296875, 212.3836212158203, 223.04945373535156, 183.4550018310547, 444.1247863769531, 167.41397094726562, 124.69550323486328, 288.442138671875, 124.24579620361328, 129.5094451904297, 87.0609130859375, 129.48561096191406, 83.67573547363281, 76.90737915039062, 129.31358337402344, 105.6309814453125, 96.82400512695312, 56.758689880371094, 135.94021606445312, 231.90960693359375, 182.62820434570312, 106.25071716308594, 258.24871826171875, 260.1044616699219, 190.01060485839844, 85.94050598144531, 146.05685424804688, 172.3083038330078, 172.1998748779297, 167.81007385253906, 171.87461853027344, 126.06260681152344, 46.404685974121094, 258.0384826660156, 210.10745239257812, 296.920166015625, 297.4199523925781, 110.44407653808594, 181.52435302734375, 156.4178924560547, 77.45529174804688, 151.55084228515625, 269.9185485839844, 195.81553649902344, 192.43307495117188, 142.41461181640625, 122.88908386230469, 170.60272216796875, 135.2175750732422, 143.97665405273438, 103.81669616699219, 246.88121032714844, 163.8948516845703, 119.43673706054688, 119.65808868408203, 188.0083770751953, 74.79193878173828, 107.07889556884766, 157.2606658935547, 96.87240600585938, 210.8780975341797, 163.42100524902344, 76.52217864990234, 323.17083740234375, 125.43785858154297, 162.87184143066406, 121.62220764160156, 87.11070251464844, 127.26766967773438, 159.36329650878906, 179.72915649414062, 197.84071350097656, 248.70211791992188, 301.7571105957031, 113.5849609375, 160.41168212890625, 140.10134887695312, 70.30278015136719, 105.25469970703125, 170.85362243652344, 117.42631530761719, 157.39540100097656, 151.0864715576172, 114.98290252685547, 183.05104064941406, 178.51910400390625, 133.31979370117188, 67.67939758300781, 144.89547729492188, 208.60891723632812, 103.60453796386719, 89.45551300048828, 305.4119567871094, 82.2030258178711, 76.61788177490234, 151.45651245117188, 268.9030456542969, 114.51234436035156, 73.68846130371094, 166.9398956298828, 198.64715576171875, 127.66998291015625, 182.26931762695312, 123.273681640625, 116.44966888427734, 70.39920043945312, 191.49375915527344, 571.9417114257812, 214.6935577392578, 183.01307678222656, 97.174560546875, 174.38180541992188, 167.9499969482422, 184.8916473388672, 211.60665893554688, 79.61799621582031, 131.68423461914062, 80.34881591796875, 85.65387725830078, 206.66873168945312, 127.81733703613281, 148.33631896972656, 120.32213592529297, 190.2432403564453, 80.34371948242188, 132.74659729003906, 191.8909912109375, 98.67806243896484, 62.28484344482422, 92.03435516357422, 135.99676513671875, 140.17874145507812, 171.9385528564453, 116.76689147949219, 193.03733825683594, 149.83944702148438, 133.50180053710938, 206.92245483398438, 219.32955932617188, 269.25933837890625, 180.5673065185547, 112.74182891845703, 167.1480255126953, 70.61275482177734, 344.5671691894531, 179.3144989013672, 162.61257934570312, 99.29672241210938, 137.17926025390625, 150.06553649902344, 172.23692321777344, 187.18038940429688, 145.65513610839844, 209.46084594726562, 209.62709045410156, 81.16835021972656, 92.73487091064453, 168.94003295898438, 344.7086486816406, 84.50115203857422, 119.01007843017578, 206.03456115722656, 145.07350158691406, 192.35519409179688, 156.64010620117188, 192.75672912597656, 121.48274993896484, 148.30923461914062, 189.00079345703125, 146.36703491210938, 147.84506225585938, 192.96334838867188, 91.84291076660156, 221.0032958984375, 146.91746520996094, 171.33905029296875, 157.98167419433594, 70.95405578613281, 78.20126342773438, 240.63783264160156, 96.79326629638672, 196.27088928222656, 122.65877532958984, 126.57192993164062, 108.43144989013672, 79.20344543457031, 67.86669921875, 171.50440979003906, 198.7980194091797, 159.5005340576172, 125.74034118652344, 171.15695190429688, 158.5653533935547, 172.06748962402344, 228.4905242919922, 58.740318298339844, 188.53355407714844, 134.52403259277344, 258.2780456542969, 107.59291076660156, 91.29732513427734, 143.4542694091797, 119.19727325439453, 146.3299102783203, 226.0456085205078, 85.40167999267578, 122.35454559326172, 381.81121826171875, 87.65094757080078, 78.18955993652344, 179.1903839111328, 160.02366638183594, 148.7117462158203, 182.1493377685547, 159.30874633789062, 72.28938293457031, 236.20582580566406, 174.81565856933594, 108.66328430175781, 212.768310546875, 149.2697296142578, 103.03826141357422, 166.6840057373047, 75.82144165039062, 96.36608123779297, 173.9904327392578, 230.51856994628906, 118.31169891357422, 192.24864196777344, 104.90454864501953, 265.6725158691406, 79.60475158691406, 282.7602844238281, 173.72067260742188, 142.98257446289062, 115.40899658203125, 163.41616821289062, 68.4729995727539, 289.54937744140625, 73.78163146972656, 272.084716796875, 116.36264038085938, 140.04705810546875, 148.11375427246094, 90.15570831298828, 95.24960327148438, 123.58785247802734, 143.29702758789062, 138.5984649658203, 274.4053649902344, 212.20655822753906, 110.95626068115234, 86.76517486572266, 161.0804443359375, 270.83880615234375, 137.5546417236328, 252.689697265625, 78.71984100341797, 95.0166244506836, 133.10586547851562, 119.4648208618164, 90.03202819824219, 83.71553039550781, 123.7300796508789, 121.89688110351562, 127.11137390136719, 132.12217712402344, 106.08684539794922, 141.80467224121094, 388.5044250488281, 247.75389099121094, 301.4290466308594, 229.85211181640625, 271.64471435546875, 132.47671508789062, 216.29168701171875, 179.1671600341797, 117.29150390625, 239.06491088867188, 73.55032348632812, 285.4102783203125, 185.09666442871094, 135.20022583007812, 104.55552673339844, 188.91781616210938, 86.5565414428711, 177.6156005859375, 172.40594482421875, 110.86201477050781, 452.0196533203125, 200.25680541992188, 165.4171600341797, 267.06866455078125, 295.9403381347656, 260.1122741699219, 115.81571960449219, 133.82009887695312, 121.32292175292969, 82.77643585205078, 353.43670654296875, 112.05004119873047, 103.58506774902344, 148.32579040527344, 198.61656188964844, 135.26104736328125, 100.14936065673828, 65.34577178955078, 90.23609161376953, 211.01026916503906, 123.7802963256836, 160.67840576171875, 114.03490447998047, 311.7161865234375, 110.63456726074219, 159.63307189941406, 135.72299194335938, 251.14047241210938, 108.45777130126953, 172.94410705566406, 86.98518371582031, 264.3990173339844, 280.9022216796875, 155.19406127929688, 71.05037689208984, 139.1532745361328, 126.97223663330078, 143.2643585205078, 164.57249450683594, 216.23321533203125, 59.76072692871094, 70.64350128173828, 95.68931579589844, 140.45164489746094, 184.34742736816406, 147.63961791992188, 89.44322967529297, 241.9700469970703, 173.20835876464844, 146.7071075439453, 87.88497924804688, 73.56375885009766, 310.4009704589844, 118.9946517944336, 161.8982391357422, 289.0596618652344, 192.89205932617188, 92.27503204345703, 100.68061065673828, 208.0177001953125, 144.2843475341797, 92.47544860839844, 228.49456787109375, 184.41671752929688, 89.1957778930664, 82.51397705078125, 211.8189697265625, 177.67727661132812, 259.498291015625, 103.0136489868164, 82.2051773071289, 144.28517150878906, 133.85902404785156, 120.85257720947266, 97.49532318115234, 120.68223571777344, 68.34004211425781, 167.57505798339844, 138.4341278076172, 244.79335021972656, 119.70026397705078, 248.31143188476562, 434.31707763671875, 372.85772705078125, 150.21151733398438, 155.9635772705078, 86.57894897460938, 97.08966064453125, 158.41595458984375, 88.93145751953125, 124.68183135986328, 169.1277618408203, 188.15187072753906, 106.2220458984375, 90.3106918334961, 165.05519104003906, 287.3550109863281, 116.08946990966797, 207.53213500976562, 84.0796127319336, 173.1683807373047, 309.3484802246094, 287.4321594238281, 241.3928985595703, 101.82699584960938, 275.0289001464844, 211.74221801757812, 113.9198989868164, 156.45272827148438, 191.552001953125, 171.9606170654297, 109.9938735961914, 144.2866973876953, 170.43431091308594, 292.2874450683594, 68.07510375976562, 107.49388885498047, 203.0691680908203, 126.19829559326172, 133.72262573242188, 149.1455841064453, 120.65754699707031, 93.67859649658203, 113.64807891845703, 149.88882446289062, 128.52334594726562, 132.86399841308594, 156.6532440185547, 202.87066650390625, 189.40145874023438, 193.88465881347656, 104.65249633789062, 261.7417907714844, 95.71195220947266, 137.25064086914062, 101.33303833007812, 279.5431823730469, 187.89813232421875, 138.94619750976562, 61.92837142944336, 156.9100341796875, 169.143798828125, 101.07520294189453, 171.98915100097656, 156.14439392089844, 109.07328033447266, 121.8047866821289, 53.52139663696289, 198.2002716064453, 142.8072509765625, 101.71339416503906, 191.52243041992188, 96.72111511230469, 78.46239471435547, 372.29119873046875, 228.7095184326172, 109.47742462158203, 76.49774169921875, 88.9205551147461, 125.67279052734375, 79.77833557128906, 166.87255859375, 171.2077178955078, 186.94366455078125, 203.28561401367188, 111.06493377685547, 98.1962890625, 167.8246307373047, 148.14187622070312, 214.36927795410156, 77.10418701171875, 139.21963500976562, 96.34021759033203, 99.36985778808594, 242.50343322753906, 117.05382537841797, 190.58535766601562, 106.6569595336914, 155.45350646972656, 186.57595825195312, 118.66594696044922, 76.14967346191406, 156.153564453125, 145.8118896484375, 163.71206665039062, 137.33338928222656, 85.0335693359375, 169.24722290039062, 125.7815933227539, 67.92141723632812, 205.811279296875, 163.2111358642578, 206.48916625976562, 218.7569580078125, 326.658935546875, 153.6970672607422, 256.4986572265625, 115.54109191894531, 197.99351501464844, 113.27228546142578, 136.4065704345703, 364.9283752441406, 85.6374282836914, 220.2018585205078, 330.70782470703125, 300.74822998046875, 135.30999755859375, 296.181884765625, 98.24256134033203, 262.0434875488281, 164.89833068847656, 75.3014144897461, 251.24240112304688, 92.27802276611328, 216.23849487304688, 71.97333526611328, 211.22840881347656, 158.9046173095703, 141.2432861328125, 70.01317596435547, 123.5925064086914, 80.32483673095703, 282.9841613769531, 168.48533630371094, 208.19094848632812, 189.08778381347656, 66.16199493408203, 281.0979919433594, 99.9300765991211, 127.97377014160156, 180.26422119140625, 207.76856994628906, 195.76670837402344, 263.34747314453125, 114.15274810791016, 227.5587158203125, 109.32238006591797, 110.07630157470703, 180.8711395263672, 198.70181274414062, 239.0072479248047, 157.38714599609375, 174.9394989013672, 325.5958557128906, 139.4652099609375, 139.37513732910156, 164.7833251953125, 248.41505432128906, 173.641845703125, 102.41864776611328, 310.3796691894531, 170.2705535888672, 96.2548599243164, 105.96772766113281, 94.09086608886719, 212.37359619140625, 179.8184814453125, 136.44827270507812, 83.37189483642578, 126.0588150024414, 202.0540313720703, 96.48829650878906, 230.58685302734375, 137.25645446777344, 107.5561294555664, 101.3310546875, 113.2509536743164, 359.5951232910156, 201.8616180419922, 109.7561264038086, 107.42153930664062, 67.76577758789062, 80.041748046875, 302.1601257324219, 144.4324951171875, 224.697021484375, 84.50780487060547, 148.78175354003906, 113.0259780883789, 140.9954376220703, 223.0726318359375, 149.2418975830078, 196.2852020263672, 175.2078857421875, 63.513423919677734, 144.3981170654297, 289.52386474609375, 183.65220642089844, 167.28541564941406, 155.0062713623047, 68.25950622558594, 128.42111206054688, 162.2700653076172, 87.70433807373047, 139.9290313720703, 96.62025451660156, 110.89336395263672, 146.75706481933594, 131.7096710205078, 199.1570281982422, 134.52294921875, 186.69610595703125, 156.7721405029297, 170.57034301757812, 112.15673828125, 229.50462341308594, 229.25534057617188, 110.80335998535156, 172.4585723876953, 150.6435546875, 109.35533142089844, 127.77377319335938, 109.5233154296875, 140.75079345703125, 264.25732421875, 89.87919616699219, 268.6265869140625, 208.56048583984375, 142.6871795654297, 100.18585968017578, 191.7336883544922, 142.0740509033203, 93.70955657958984, 124.94799041748047, 209.26805114746094, 135.91818237304688, 134.9033660888672, 123.56045532226562, 146.1689453125, 114.4132308959961, 153.5745849609375, 138.875, 164.0845489501953, 105.23863983154297, 226.333251953125, 113.7804946899414, 119.41647338867188, 166.28834533691406, 156.45840454101562, 114.2478256225586, 198.21426391601562, 104.72083282470703, 344.0870666503906, 152.6689910888672, 152.3126220703125, 141.94924926757812, 129.49246215820312, 98.91903686523438, 195.38052368164062, 130.90203857421875, 340.33380126953125, 267.5632629394531, 199.2318878173828, 234.0775146484375, 139.10728454589844, 121.79637145996094, 129.9641876220703, 205.24806213378906, 199.0971221923828, 173.21405029296875, 162.90383911132812, 223.68116760253906, 166.3031768798828, 103.60676574707031, 57.588932037353516, 257.7102966308594, 76.12098693847656, 159.30252075195312, 133.61216735839844, 78.8014144897461, 201.17178344726562, 130.3243865966797, 114.06905364990234, 124.09274291992188, 91.8824234008789, 171.7436981201172, 91.6720962524414, 161.57986450195312, 182.6472625732422, 440.5784606933594, 133.17462158203125, 272.7070007324219, 169.79867553710938, 153.63626098632812, 128.81712341308594, 221.1537322998047, 455.8102111816406, 77.42025756835938, 214.25051879882812, 151.62826538085938, 202.2069854736328, 179.3698272705078, 101.08941650390625, 106.80372619628906, 109.05575561523438, 350.81402587890625, 127.95771789550781, 54.41612243652344, 181.886962890625, 120.75315856933594, 151.44248962402344, 115.89754486083984, 206.16909790039062, 220.7121124267578, 111.90406036376953, 183.88853454589844, 209.8946533203125, 224.1239013671875, 479.29400634765625, 111.60308074951172, 186.5224151611328, 92.08949279785156, 120.42022705078125, 143.71566772460938, 167.0941619873047, 142.8418426513672, 288.6335144042969, 288.1858825683594, 114.98015594482422, 136.02867126464844, 116.41930389404297, 125.8016357421875, 243.0913543701172, 115.46040344238281, 475.57110595703125, 197.88638305664062, 250.44578552246094, 198.26182556152344, 107.39413452148438, 216.8664093017578, 222.1025390625, 188.4654083251953, 165.2144775390625, 223.41848754882812, 147.11679077148438, 152.40780639648438, 127.26773071289062, 81.60848236083984, 88.31991577148438, 132.70767211914062, 144.62937927246094, 336.2532043457031, 112.6344223022461, 111.89839935302734, 387.22442626953125, 157.62538146972656, 147.61814880371094, 88.1708755493164, 218.27651977539062, 148.39781188964844, 90.93631744384766, 120.76991271972656, 164.22035217285156, 100.23812866210938, 337.99334716796875, 103.04090881347656, 142.3896942138672, 205.79420471191406, 127.94380187988281, 117.51985931396484, 188.7405242919922, 140.1666259765625, 159.22650146484375, 140.6066436767578, 230.56704711914062, 112.38200378417969, 218.6686248779297, 81.61174774169922, 204.6922149658203, 172.4795379638672, 251.4949493408203, 228.52386474609375, 202.36595153808594, 139.19308471679688, 227.7003631591797, 133.9696807861328, 97.774658203125, 243.27166748046875, 149.0670928955078, 71.40999603271484, 91.0949478149414, 102.83098602294922, 152.88914489746094, 194.55589294433594, 125.74561309814453, 105.28636932373047, 67.53272247314453, 178.21658325195312, 153.74420166015625, 91.500244140625, 129.28152465820312, 189.21044921875, 204.13311767578125, 190.2595672607422, 132.310302734375, 166.5040740966797, 187.29637145996094, 107.67544555664062, 100.98462677001953, 290.29937744140625, 161.69285583496094, 59.04680633544922, 216.3990936279297, 175.318115234375, 262.5487976074219, 87.0097427368164, 118.68162536621094, 153.63531494140625, 154.4027099609375, 164.2940673828125, 239.04246520996094, 151.88095092773438, 191.7161407470703, 204.62469482421875, 173.7103271484375, 210.84371948242188, 76.85176086425781, 179.3404083251953, 114.62723541259766, 84.77167510986328, 227.2392578125, 113.40058135986328, 76.32721710205078, 212.82064819335938, 156.87353515625, 160.56788635253906, 434.9873352050781, 136.80442810058594, 99.4712142944336, 114.37684631347656, 159.654296875, 278.3484802246094, 55.79847717285156, 133.20669555664062, 123.63140869140625, 184.7667694091797, 244.12355041503906, 79.6654281616211, 143.1150360107422, 152.05560302734375, 189.610107421875, 435.30377197265625, 178.65469360351562, 82.68507385253906, 202.2340850830078, 65.30929565429688, 133.5308380126953, 136.22119140625, 160.29867553710938, 43.8926887512207, 149.549072265625, 101.1681137084961, 261.8495178222656, 139.67857360839844, 99.31381225585938, 290.0034484863281, 94.20597076416016, 86.97042083740234, 172.43710327148438, 87.69835662841797, 52.89167785644531, 145.54876708984375, 91.64010620117188, 143.20179748535156, 117.68656921386719, 149.2606201171875, 217.71707153320312, 172.5065155029297, 121.42802429199219, 135.7937469482422, 208.54237365722656, 199.84786987304688, 174.95040893554688, 83.07220458984375, 150.3300323486328, 284.936279296875, 105.41255187988281, 192.76718139648438, 191.88824462890625, 166.74632263183594, 169.42091369628906, 211.33480834960938, 257.0055236816406, 131.03355407714844, 109.25166320800781, 189.10536193847656, 90.46688842773438, 76.91987609863281, 109.99309539794922, 189.60585021972656, 227.636962890625, 299.50274658203125, 201.46389770507812, 86.17457580566406, 95.11803436279297, 230.2420654296875, 111.63607788085938, 136.64495849609375, 94.9559326171875, 211.17916870117188, 61.728515625, 193.85757446289062, 62.00310134887695, 122.23978424072266, 113.21639251708984, 154.71798706054688, 195.47007751464844, 88.67019653320312, 128.89915466308594, 198.6869354248047, 96.7630386352539, 118.7263412475586, 160.4835968017578, 136.69189453125, 118.00704193115234, 71.71488952636719, 181.87022399902344, 143.92161560058594, 164.3611297607422, 168.3111572265625, 141.3385467529297, 149.3607177734375, 135.8230743408203, 144.49386596679688, 93.03396606445312, 119.41680908203125, 200.5561065673828, 70.45991516113281, 171.28636169433594, 149.4345245361328, 75.44136047363281, 235.2340087890625, 110.48432159423828, 147.20822143554688, 196.8512420654297, 154.9371795654297, 83.70111083984375, 93.76900482177734, 134.30880737304688, 159.68362426757812, 147.35415649414062, 238.95152282714844, 187.70587158203125, 121.09999084472656, 233.61720275878906, 81.90336608886719, 114.80155944824219, 195.33990478515625, 104.0083999633789, 42.93232345581055, 669.831787109375, 86.52075958251953, 96.63914489746094, 176.11141967773438, 151.24691772460938, 106.63341522216797, 269.5189514160156, 234.23023986816406, 133.07228088378906, 350.4333190917969, 90.51952362060547, 178.89175415039062, 214.5214385986328, 129.57818603515625, 176.8988494873047, 121.32876586914062, 231.6614990234375, 239.12681579589844, 235.7180633544922, 173.08139038085938, 225.21823120117188, 224.1568145751953, 160.53067016601562, 122.9964828491211, 117.51128387451172, 133.5705108642578, 117.05030059814453, 138.64996337890625, 114.06122589111328, 220.0950927734375, 338.6817321777344, 80.79475402832031, 211.4570770263672, 151.85125732421875, 291.636474609375, 134.79969787597656, 184.65904235839844, 117.03807830810547, 345.4456481933594, 191.07472229003906, 111.91136169433594, 150.32308959960938, 155.31968688964844, 69.69989776611328, 107.87031555175781, 274.7727355957031, 146.99932861328125, 105.81297302246094, 179.13751220703125, 124.32805633544922, 192.0394744873047, 150.9632568359375, 152.11557006835938, 150.30300903320312, 68.40192413330078, 139.8229217529297, 70.09337615966797, 129.63467407226562, 211.35658264160156, 138.6708526611328, 199.59548950195312, 177.624755859375, 222.7892303466797, 135.60169982910156, 180.9929656982422, 135.00111389160156, 144.28366088867188, 295.7181701660156, 137.68089294433594, 217.29380798339844, 381.0633239746094, 193.2441864013672, 133.9969024658203, 134.3672332763672, 85.147216796875, 132.07052612304688, 130.5032958984375, 130.03759765625, 165.40176391601562, 109.11198425292969, 84.21370697021484, 88.86947631835938, 175.61732482910156, 135.39404296875, 89.63032531738281, 80.52548217773438, 150.64376831054688, 528.9512939453125, 118.4500503540039, 174.48895263671875, 108.18716430664062, 186.10317993164062, 201.0679168701172, 55.86458206176758, 202.99191284179688, 91.1527328491211, 169.42962646484375, 167.60455322265625, 146.53050231933594, 129.7642364501953, 106.38835906982422, 151.07357788085938, 178.3509063720703, 242.2398223876953, 138.60626220703125, 119.90596771240234, 324.6890563964844, 92.22242736816406, 102.88424682617188, 115.70118713378906, 117.34883880615234, 78.94313049316406, 194.31216430664062, 61.06337356567383, 137.23800659179688, 130.95729064941406, 107.1533203125, 143.76954650878906, 190.8074188232422, 104.12591552734375, 211.05514526367188, 123.68495178222656, 150.19798278808594, 168.02865600585938, 213.7130126953125, 201.51971435546875, 84.04481506347656, 196.69830322265625, 144.07432556152344, 173.52281188964844, 109.80003356933594, 163.20669555664062, 311.17694091796875, 100.80733489990234, 70.47362518310547, 96.5651626586914, 119.814697265625, 176.95816040039062, 80.75092315673828, 88.1148910522461, 96.28758239746094, 112.72318267822266, 130.30355834960938, 379.14715576171875, 105.12518310546875, 182.22308349609375, 266.1136169433594, 198.9087677001953, 201.5028076171875, 221.2009735107422, 226.77108764648438, 160.97080993652344, 228.10287475585938, 143.72348022460938, 180.62991333007812, 107.51644134521484, 147.24169921875, 302.2680358886719, 342.94732666015625, 131.7677001953125, 113.88856506347656, 161.91506958007812, 315.1590576171875, 251.98277282714844, 116.93583679199219, 179.95462036132812, 51.95908737182617, 106.75001525878906, 145.44664001464844, 192.9261932373047, 127.96925354003906, 68.03123474121094, 136.87281799316406, 123.58267211914062, 180.52984619140625, 337.4794616699219, 70.09912872314453, 148.05938720703125, 102.69280242919922, 109.25922393798828, 185.96664428710938, 148.6218719482422, 212.927734375, 128.5538787841797, 270.2710266113281, 175.354736328125, 148.88026428222656, 133.62313842773438, 221.64781188964844, 256.0853271484375, 214.0973358154297, 120.77130126953125, 296.62725830078125, 67.52759552001953, 210.60275268554688, 143.99285888671875, 84.99140930175781, 185.22450256347656, 117.77583312988281, 89.17039489746094, 197.77874755859375, 81.60844421386719, 351.13433837890625, 226.38528442382812, 116.49327087402344, 151.6773681640625, 141.44419860839844, 122.29627990722656, 203.75540161132812, 204.80264282226562, 137.93565368652344, 214.94378662109375, 147.56509399414062, 160.25083923339844, 57.43741226196289, 159.4744415283203, 299.7393493652344, 232.11131286621094, 115.82317352294922, 166.6591339111328, 153.79318237304688, 75.02397155761719, 51.953922271728516, 180.93455505371094, 224.44195556640625, 222.4769287109375, 160.58563232421875, 109.72708129882812, 147.5135955810547, 143.85623168945312, 220.7218017578125, 83.91915893554688, 96.74657440185547, 104.0877914428711, 127.63839721679688, 127.83074188232422, 237.96353149414062, 104.31097412109375, 255.213134765625, 70.03718566894531, 269.7438049316406, 166.34344482421875, 230.52000427246094, 232.7632293701172, 125.73799896240234, 173.5035400390625, 233.74757385253906, 250.96246337890625, 186.3043670654297, 114.58110809326172, 103.95406341552734, 193.06671142578125, 241.39991760253906, 100.25137329101562, 106.39140319824219, 213.92935180664062, 193.35508728027344, 244.0480194091797, 202.2034149169922, 106.58460998535156, 77.08228302001953, 64.20216369628906, 156.6882781982422, 191.65817260742188, 223.9498748779297, 149.7642364501953, 201.94296264648438, 188.61717224121094, 147.94400024414062, 199.54840087890625, 177.78921508789062, 194.34088134765625, 132.2180938720703, 93.40677642822266, 180.97674560546875, 167.3715057373047, 41.2254638671875, 159.02732849121094, 127.35842895507812, 121.4460220336914, 142.12364196777344, 211.53936767578125, 143.33946228027344, 62.79805374145508, 140.70181274414062, 225.08383178710938, 183.28065490722656, 68.61161041259766, 194.29908752441406, 178.44924926757812, 307.44635009765625, 126.20418548583984, 141.44580078125, 111.27378845214844, 292.8689270019531, 111.86260223388672, 87.22384643554688, 168.055419921875, 170.88360595703125, 179.51023864746094, 317.0536193847656, 138.85533142089844, 336.3492736816406, 187.90261840820312, 290.1738586425781, 79.8838119506836, 143.72286987304688, 184.8522491455078, 187.47686767578125, 146.32333374023438, 79.2286376953125, 179.98670959472656, 109.91905212402344, 118.91284942626953, 125.13276672363281, 226.0809783935547, 202.3629608154297, 166.03147888183594, 90.9554443359375, 150.82705688476562, 212.6557159423828, 173.44166564941406, 144.22926330566406, 232.39437866210938, 272.9907531738281, 218.02218627929688, 102.83785247802734, 136.5087890625, 108.44205474853516, 91.95317077636719, 111.66132354736328, 174.21170043945312, 260.1888122558594, 109.22692108154297, 132.16647338867188, 137.0518798828125, 269.4669189453125, 72.22616577148438, 249.98703002929688, 157.88729858398438, 211.7812042236328, 113.37332916259766, 251.847412109375, 153.0834197998047, 123.28849029541016, 118.69939422607422, 133.55120849609375, 190.88621520996094, 188.96258544921875, 312.2596130371094, 104.48505401611328, 61.94886779785156, 186.7984161376953, 224.496337890625, 132.93321228027344, 135.6582794189453, 370.3631591796875, 228.07373046875, 93.7129135131836, 146.51527404785156, 317.7984619140625, 260.5609130859375, 244.76148986816406, 74.12383270263672, 100.24774169921875, 112.14379119873047, 194.00839233398438, 189.70858764648438, 95.46727752685547, 183.99098205566406, 192.44969177246094, 144.6602020263672, 199.1992950439453, 102.11017608642578, 183.63748168945312, 107.66938018798828, 99.50091552734375, 134.3250732421875, 164.4017333984375, 122.54401397705078, 137.74539184570312, 60.88235855102539, 264.408203125, 174.8096466064453, 278.7549133300781, 132.78807067871094, 106.00189208984375, 206.03594970703125, 174.93875122070312, 112.860107421875, 162.55142211914062, 161.22491455078125, 126.79115295410156, 137.18089294433594, 248.19447326660156, 203.92774963378906, 207.9854736328125, 415.5129699707031, 159.9482879638672, 155.93844604492188, 289.4377136230469, 188.40602111816406, 168.8214111328125, 119.83338165283203, 131.72215270996094, 118.96723937988281, 156.18528747558594, 112.83223724365234, 51.232540130615234, 132.32278442382812, 136.69097900390625, 144.38600158691406, 99.30278778076172, 163.4326171875, 171.41439819335938, 412.7493591308594, 235.43881225585938, 161.41282653808594, 148.6223602294922, 226.87623596191406, 114.77091217041016, 153.5155029296875, 87.8069839477539, 290.6493835449219, 80.00370025634766, 111.27267456054688, 121.27890014648438, 302.1484375, 148.1685028076172, 206.3433837890625, 106.62431335449219, 104.14825439453125, 147.1592254638672, 151.42105102539062, 215.89559936523438, 88.9963607788086, 167.86167907714844, 192.57884216308594, 123.1978759765625, 133.5726776123047, 69.34134674072266, 184.46473693847656, 49.682594299316406, 166.48707580566406, 350.5282287597656, 182.1776580810547, 100.43510437011719, 152.20132446289062, 214.95703125, 226.16064453125, 189.05487060546875, 170.24253845214844, 188.74636840820312, 204.7181854248047, 241.33489990234375, 102.87496948242188, 128.9969024658203, 128.830078125, 149.3756103515625, 107.65274810791016, 171.05357360839844, 120.76483917236328, 74.89386749267578, 161.39244079589844, 145.65054321289062, 127.84183502197266, 321.1535339355469, 156.08798217773438, 130.30343627929688, 110.22505187988281, 164.87716674804688, 84.37022399902344, 51.881099700927734, 143.93060302734375, 139.09336853027344, 313.03607177734375, 117.87471008300781, 138.46734619140625, 210.4582977294922, 133.2183837890625, 224.27700805664062, 163.77500915527344, 136.3106689453125, 76.8877944946289, 88.04420471191406, 65.60427856445312, 174.54721069335938, 209.58392333984375, 105.34326171875, 206.89649963378906, 122.50469970703125, 158.5757293701172, 121.1612777709961, 280.15234375, 109.14549255371094, 215.34759521484375, 201.03781127929688, 115.5447769165039, 179.6480255126953, 295.49884033203125, 176.58778381347656, 109.58657836914062, 186.02040100097656, 266.5249328613281, 136.23165893554688, 143.1925048828125, 222.06080627441406, 174.77740478515625, 181.6964111328125, 596.2157592773438, 179.4275665283203, 143.4873046875, 161.78695678710938, 129.2328338623047, 195.8343963623047, 115.7436294555664, 433.96533203125, 96.73729705810547, 99.14787292480469, 161.11439514160156, 142.94119262695312, 193.11634826660156, 124.37993621826172, 143.0564422607422, 71.93435668945312, 146.45932006835938, 59.95424270629883, 138.47044372558594, 183.34690856933594, 101.51996612548828, 132.90467834472656, 81.87860107421875, 121.0519027709961, 174.48846435546875, 272.4425048828125, 148.9306640625, 153.1235809326172, 186.7584228515625, 260.8008117675781, 275.2386779785156, 146.6661834716797, 201.6876678466797, 90.10688781738281, 164.284423828125, 91.71673583984375, 129.88526916503906, 133.218505859375, 144.88304138183594, 75.4700698852539, 256.0890197753906, 140.45150756835938, 46.82066345214844, 199.00648498535156, 205.0601348876953, 234.67575073242188, 147.88375854492188, 207.4255828857422, 142.50108337402344, 234.99063110351562, 162.71363830566406, 86.60413360595703, 146.80746459960938, 131.36563110351562, 207.35556030273438, 189.13088989257812, 149.5097198486328, 137.64401245117188, 158.46566772460938, 123.62262725830078, 207.81394958496094, 105.1657485961914, 124.66536712646484, 73.27185821533203, 97.0939712524414, 80.6785659790039, 42.53207015991211, 131.63462829589844, 61.93965530395508, 342.20782470703125, 131.9366455078125, 132.66787719726562, 205.7984161376953, 189.91929626464844, 194.51731872558594, 92.75238037109375, 120.80792999267578, 169.135498046875, 134.46542358398438, 199.97874450683594, 88.92318725585938, 113.99016571044922, 152.9307098388672, 128.6876983642578, 154.36521911621094, 253.9486846923828, 219.6602020263672, 127.98035430908203, 229.9786376953125, 166.89134216308594, 135.91468811035156, 131.9348907470703, 253.04393005371094, 274.87445068359375, 223.93482971191406, 143.690185546875, 291.6224060058594, 401.8553771972656, 153.74537658691406, 369.1714172363281, 177.46482849121094, 154.00820922851562, 122.2210693359375, 108.49092102050781, 192.89288330078125, 146.2997589111328, 265.7575378417969, 122.7261734008789, 207.6189422607422, 118.3139419555664, 493.0098571777344, 80.07312774658203, 73.83621978759766, 221.3112335205078, 214.26585388183594, 197.58023071289062, 269.28411865234375, 135.54098510742188, 243.8478240966797, 199.8350830078125, 91.62384796142578, 236.75802612304688, 131.0290069580078, 161.83131408691406, 77.12970733642578, 219.54562377929688, 174.5531005859375, 189.86904907226562, 154.49395751953125, 109.12103271484375, 161.98641967773438, 158.34185791015625, 105.55867767333984, 117.73271179199219, 162.0421142578125, 120.49805450439453, 150.94583129882812, 242.35791015625, 119.18283081054688, 195.78062438964844, 106.26013946533203, 252.21070861816406, 156.8415985107422, 138.03482055664062, 106.06954193115234, 104.59158325195312, 258.7605285644531, 178.2647705078125, 291.107666015625, 175.4261474609375, 166.64442443847656, 209.76889038085938, 219.24526977539062, 172.80503845214844, 150.24038696289062, 153.8919219970703, 168.83421325683594, 79.93193817138672, 186.9293212890625, 107.48783874511719, 238.5785369873047, 143.1001739501953, 189.19149780273438, 126.19943237304688, 139.88360595703125, 123.1993408203125, 210.10354614257812, 88.62027740478516, 156.63800048828125, 324.72125244140625, 188.9197998046875, 236.36830139160156, 148.51417541503906, 137.54257202148438, 161.6466064453125, 217.52976989746094, 75.29638671875, 190.6116180419922, 82.32882690429688, 268.6001892089844, 177.40138244628906, 181.62869262695312, 181.46939086914062, 261.8634033203125, 141.61776733398438, 156.82513427734375, 93.51885986328125, 93.84039306640625, 177.01858520507812, 113.48654174804688, 141.60357666015625, 267.4266357421875, 83.12220764160156, 140.77650451660156, 133.02584838867188, 55.19963073730469, 150.93179321289062, 99.69506072998047, 191.02708435058594, 87.0545654296875, 163.348388671875, 101.02609252929688, 194.99298095703125, 70.58151245117188, 126.9398422241211, 129.3402862548828, 212.43234252929688, 174.480712890625, 137.1095428466797, 102.5604248046875, 160.6179656982422, 123.83584594726562, 247.8668670654297, 131.818359375, 186.8633575439453, 186.22434997558594, 205.35232543945312, 134.4808807373047, 477.51580810546875, 93.45413208007812, 121.50348663330078, 95.08914184570312, 137.2223663330078, 101.02681732177734, 127.93807220458984, 106.633056640625, 133.44058227539062, 127.66231536865234, 218.81382751464844, 39.77521514892578, 222.6612548828125, 117.05309295654297, 159.68370056152344, 159.31741333007812, 203.3341827392578, 262.9232482910156, 193.2885284423828, 56.352046966552734, 56.445526123046875, 176.84107971191406, 115.94707489013672, 88.7319107055664, 173.33558654785156, 65.26197814941406, 145.5380096435547, 136.7950439453125, 121.91204833984375, 246.37353515625, 197.52305603027344, 57.87335968017578, 144.50372314453125, 111.77867889404297, 217.75933837890625, 158.3339385986328, 251.1298065185547, 184.48268127441406, 75.34382629394531, 148.58770751953125, 153.19155883789062, 188.90780639648438, 194.62437438964844, 184.55068969726562, 143.94351196289062, 160.9140167236328, 78.01891326904297, 206.7159423828125, 170.1270751953125, 133.4755859375, 111.63954162597656, 208.2237091064453, 130.9799041748047, 268.59918212890625, 159.3287353515625, 291.6532897949219, 224.89952087402344, 351.2435302734375, 40.23958206176758, 71.92180633544922, 139.26797485351562, 115.57183837890625, 124.82829284667969, 105.31609344482422, 101.36493682861328, 151.17193603515625, 62.500389099121094, 125.82220458984375, 159.8697509765625, 139.65394592285156, 95.25151824951172, 135.1027374267578, 142.18722534179688, 167.5279083251953, 65.42206573486328, 72.28780364990234, 276.9563293457031, 73.70343017578125, 144.3827667236328, 136.36077880859375, 120.88866424560547, 184.95787048339844, 113.87548065185547, 123.31178283691406, 124.70008850097656, 272.1553039550781, 107.27334594726562, 121.8958969116211, 157.80706787109375, 121.4690170288086, 237.25767517089844, 63.27809143066406, 140.47998046875, 102.3660659790039, 88.64576721191406, 38.328250885009766, 129.84011840820312, 112.55436706542969, 103.26737213134766, 102.21363830566406, 211.28643798828125, 174.3577880859375, 97.69957733154297, 272.796875, 150.15208435058594, 310.1853942871094, 69.81585693359375, 110.48390197753906, 90.9244384765625, 94.6485824584961, 149.17437744140625, 81.03570556640625, 134.97645568847656, 155.397705078125, 116.86504364013672, 262.0723571777344, 237.7219696044922, 200.02517700195312, 221.261962890625, 57.61139678955078, 205.03607177734375, 126.45134735107422, 70.52630615234375, 111.44747924804688, 98.97589111328125, 95.41130065917969, 153.11517333984375, 194.7757110595703, 109.20587921142578, 130.5951690673828, 124.5569839477539, 106.18927764892578, 350.99957275390625, 191.23843383789062, 95.02056884765625, 131.99107360839844, 115.72640228271484, 96.51862335205078, 154.5646209716797, 59.49459457397461, 132.58143615722656, 131.3990936279297, 296.8352355957031, 107.07817840576172, 307.84521484375, 157.79586791992188, 130.6206512451172, 137.2160186767578, 218.38063049316406, 57.8014030456543, 102.83818817138672, 253.63804626464844, 172.8165740966797, 198.9484100341797, 87.21852111816406, 304.851806640625, 118.39736938476562, 64.84386444091797, 96.52244567871094, 72.99594116210938, 492.6462707519531, 144.06224060058594, 113.10130310058594, 181.45477294921875, 66.78468322753906, 177.58055114746094, 109.0547103881836, 88.6812744140625, 74.58648681640625, 46.10612106323242, 129.70083618164062, 112.54052734375, 142.72079467773438, 193.471923828125, 108.10650634765625, 118.4631576538086, 152.123046875, 182.44227600097656, 120.41695404052734, 137.9154815673828, 149.91526794433594, 99.75450134277344, 103.25230407714844, 88.78739166259766, 134.0928497314453, 96.93695831298828, 264.14556884765625, 135.64515686035156, 143.66539001464844, 134.75567626953125, 172.161376953125, 241.8502960205078, 129.47122192382812, 114.7224349975586, 186.5525665283203, 92.49026489257812, 101.73900604248047, 299.09814453125, 127.46122741699219, 95.89408874511719, 136.16879272460938, 173.8081817626953, 177.9854278564453, 142.68112182617188, 178.27471923828125, 131.0382537841797, 175.69705200195312, 132.79287719726562, 80.94244384765625, 163.4096221923828, 269.13726806640625, 108.8570327758789, 167.9905242919922, 129.085693359375, 162.0251922607422, 132.6568603515625, 193.417236328125, 297.4722900390625, 102.64189147949219, 94.22124481201172, 153.5944366455078, 182.8240509033203, 104.79446411132812, 100.7309799194336, 189.5409393310547, 127.33783721923828, 173.09127807617188, 116.48255157470703, 212.5670928955078, 499.57489013671875, 86.11099243164062, 104.1412582397461, 129.441650390625, 206.5807342529297, 403.7057189941406, 145.44351196289062, 114.05056762695312, 184.1179656982422, 97.92559814453125, 60.77092361450195, 153.77389526367188, 124.04742431640625, 120.95329284667969, 76.04313659667969, 135.89051818847656, 80.41899871826172, 209.85353088378906, 179.5739288330078, 63.132728576660156, 301.16558837890625, 136.50299072265625, 227.78929138183594, 172.8970184326172, 127.27259063720703, 151.64865112304688, 86.7013168334961, 195.95620727539062, 173.92483520507812, 122.64936065673828, 135.65660095214844, 96.51789093017578, 112.21466827392578, 113.19226837158203, 136.7578582763672, 172.74423217773438, 216.69171142578125, 117.7020034790039, 159.66322326660156, 133.48060607910156, 126.75040435791016, 80.17670440673828, 171.29779052734375, 172.71754455566406, 159.06646728515625, 150.8067626953125, 140.36093139648438, 289.1207275390625, 110.0309066772461, 141.8472900390625, 101.07249450683594, 160.8857879638672, 180.56747436523438, 141.58226013183594, 182.06198120117188, 113.97108459472656, 206.3480987548828, 204.21119689941406, 99.09777069091797, 149.5309600830078, 293.05120849609375, 150.6827850341797, 70.73413848876953, 168.9062042236328, 230.89382934570312, 198.59278869628906, 104.56700134277344, 131.09292602539062, 130.04061889648438, 250.52462768554688, 202.23341369628906, 81.35930633544922, 93.3928451538086, 111.43621826171875, 155.16098022460938, 83.3427963256836, 245.4852294921875, 164.62107849121094, 199.74172973632812, 123.89278411865234, 184.2921600341797, 116.87747192382812, 164.1338653564453, 96.06855773925781, 257.51055908203125, 297.1058654785156, 344.81976318359375, 120.57070922851562, 108.77224731445312, 171.3469696044922, 68.58808898925781, 206.05166625976562, 297.9164733886719, 108.6501693725586, 109.5047836303711, 164.90255737304688, 120.23587036132812, 94.53870391845703, 113.31160736083984, 349.6029968261719, 195.5524139404297, 215.90167236328125, 121.07008361816406, 185.43553161621094, 278.9954528808594, 121.68079376220703, 93.33078002929688, 126.25607299804688, 175.73350524902344, 89.00951385498047, 90.37992095947266, 144.9615478515625, 69.27891540527344, 121.7331314086914, 233.15335083007812, 192.09579467773438, 296.8958435058594, 112.5989761352539, 156.59588623046875, 172.55209350585938, 189.0655975341797, 31.5507755279541, 157.42437744140625, 137.57957458496094, 177.80752563476562, 144.9386749267578, 103.44217681884766, 180.37686157226562, 281.8507080078125, 122.42166137695312, 161.0200958251953, 135.99253845214844, 65.68199920654297, 157.89935302734375, 112.33748626708984, 190.71507263183594, 169.055908203125, 195.62420654296875, 254.3084716796875, 91.97061157226562, 71.92047119140625, 98.86348724365234, 196.96136474609375, 327.4319763183594, 153.7360076904297, 146.7679901123047, 125.22469329833984, 67.17448425292969, 116.71834564208984, 303.5289611816406, 94.66207885742188, 168.95823669433594, 104.32704162597656, 246.3439483642578, 186.09164428710938, 121.18848419189453, 130.26846313476562, 135.8692626953125, 92.11329650878906, 145.92214965820312, 156.0570831298828, 203.7324676513672, 306.0099182128906, 136.67291259765625, 130.8912353515625, 118.026123046875, 146.87376403808594, 69.75701141357422, 113.62786865234375, 78.23330688476562, 136.6796875, 298.4872131347656, 81.35681915283203, 85.82546997070312, 128.6040802001953, 59.604801177978516, 289.0823974609375, 96.91107940673828, 154.6086883544922, 108.33531951904297, 128.41847229003906, 139.7899932861328, 217.92323303222656, 109.09397888183594, 122.99015045166016, 66.86832427978516, 155.78756713867188, 230.23373413085938, 170.59596252441406, 297.09820556640625, 142.29922485351562, 214.94615173339844, 182.95068359375, 272.62469482421875, 159.6520233154297, 145.4928436279297, 130.7958526611328, 220.28660583496094, 213.3585662841797, 159.2261962890625, 147.76605224609375, 169.58554077148438, 241.5311737060547, 123.80591583251953, 154.42825317382812, 307.35296630859375, 137.4212188720703, 81.7779312133789, 158.9140167236328, 391.41302490234375, 164.12477111816406, 176.37001037597656, 196.84222412109375, 134.333984375, 122.89787292480469, 92.90045166015625, 170.85140991210938, 42.77727508544922, 126.60501098632812, 96.64960479736328, 74.3024673461914, 288.94488525390625, 119.06525421142578, 79.19188690185547, 93.0190658569336, 215.98631286621094, 101.08174896240234, 130.18276977539062, 230.78033447265625, 208.868896484375, 314.0031433105469, 169.56178283691406, 151.5285186767578, 87.47161865234375, 234.88990783691406, 124.16264343261719, 123.68630981445312, 288.6607971191406, 113.88688659667969, 189.0349578857422, 215.27285766601562, 192.65057373046875, 131.47178649902344, 150.13717651367188, 93.4145278930664, 186.49778747558594, 123.80001068115234, 83.84184265136719, 222.31678771972656, 118.58551025390625, 101.30878448486328, 130.80682373046875, 156.58499145507812, 148.2962188720703, 160.46913146972656, 76.26177215576172, 151.0679473876953, 137.72792053222656, 96.20933532714844, 177.5055389404297, 265.6537780761719, 216.42303466796875, 96.42583465576172, 127.95295715332031, 130.22760009765625, 119.14362335205078, 134.44125366210938, 86.62718963623047, 110.54212188720703, 184.20912170410156, 162.75120544433594, 115.79425048828125, 128.2696990966797, 286.9650573730469, 132.3181915283203, 165.93753051757812, 130.19393920898438, 191.2891387939453, 99.09507751464844, 180.17037963867188, 241.86990356445312, 175.88137817382812, 243.50863647460938, 286.007568359375, 152.68093872070312, 180.47520446777344, 214.79483032226562, 106.4129638671875, 143.1775665283203, 180.97242736816406, 75.48846435546875, 86.63912200927734, 117.71144104003906, 78.51161193847656, 269.6396484375, 114.33136749267578, 159.9005584716797, 453.8193359375, 129.10182189941406, 161.63751220703125, 169.96060180664062, 103.11434173583984, 213.93600463867188, 144.82171630859375, 250.7195281982422, 87.88519287109375, 98.99740600585938, 200.94906616210938, 129.19839477539062, 253.2421417236328, 147.33924865722656, 104.90670013427734, 344.3751525878906, 113.87596893310547, 169.63302612304688, 240.04466247558594, 152.0463104248047, 171.63882446289062, 107.72350311279297, 276.6620178222656, 122.961181640625, 95.23407745361328, 115.62821960449219, 147.46717834472656, 153.6131134033203, 190.08926391601562, 125.23716735839844, 115.99783325195312, 86.8481216430664, 108.84208679199219, 175.57752990722656, 155.69155883789062, 263.6500549316406, 78.78417205810547, 155.83163452148438, 96.6314926147461, 245.57492065429688, 87.03584289550781, 73.16114807128906, 198.12289428710938, 65.61470031738281, 193.60675048828125, 143.0854949951172, 145.6900634765625, 164.1376190185547, 145.07577514648438, 185.07847595214844, 277.2733459472656, 177.81881713867188, 159.1754913330078, 199.69210815429688, 174.2509002685547, 369.8099365234375, 240.0799102783203, 161.6685028076172, 193.78842163085938, 116.353759765625, 175.83509826660156, 148.70033264160156, 147.72427368164062, 331.7590637207031, 331.8592224121094, 114.7127456665039, 147.30953979492188, 257.99676513671875, 110.86962890625, 208.98843383789062, 151.5275115966797, 133.26736450195312, 86.0781021118164, 67.39982604980469, 134.5099334716797, 130.03529357910156, 134.97027587890625, 375.6013488769531, 101.97699737548828, 156.7240753173828, 194.25575256347656, 140.9582061767578, 167.25869750976562, 143.44203186035156, 222.55160522460938, 270.8345642089844, 137.1498260498047, 219.34576416015625, 175.36351013183594, 171.18789672851562, 231.38671875, 225.95347595214844, 87.61087799072266, 158.31687927246094, 83.27550506591797, 97.19254302978516, 138.52664184570312, 311.60040283203125, 145.71250915527344, 116.84503173828125, 197.37326049804688, 228.49346923828125, 105.4841079711914, 358.4266052246094, 148.3675994873047, 117.02022552490234, 87.85518646240234, 99.44788360595703, 143.0129852294922, 196.10997009277344, 89.66986846923828, 207.44644165039062, 228.95558166503906, 93.55445098876953, 188.50299072265625, 166.55258178710938, 406.3990783691406, 177.35223388671875, 73.65090942382812, 179.5694122314453, 435.73736572265625, 139.35818481445312, 114.06394958496094, 97.98412322998047, 233.46998596191406, 127.25316619873047, 122.52841186523438, 81.41045379638672, 105.30564880371094, 93.6813735961914, 92.36109161376953, 290.8721923828125, 194.7796173095703, 90.31538391113281, 156.52676391601562, 140.91015625, 193.2412567138672, 115.27902221679688, 133.44744873046875, 65.88237762451172, 121.93170928955078, 139.37400817871094, 242.2231903076172, 216.9402618408203, 197.33090209960938, 295.7984313964844, 146.73936462402344, 296.60107421875, 254.20928955078125, 177.93865966796875, 104.00920104980469, 160.8968963623047, 179.24456787109375, 88.37109375, 124.8743667602539, 149.9791259765625, 222.4652557373047, 104.90880584716797, 194.4889373779297, 191.56790161132812, 158.69024658203125, 133.3649444580078, 212.44631958007812, 173.69863891601562, 223.86585998535156, 326.34161376953125, 165.4831085205078, 93.36817169189453, 237.8436279296875, 147.09405517578125, 154.61871337890625, 126.71385192871094, 125.61335754394531, 270.4840393066406, 114.5195541381836, 142.62855529785156, 150.66761779785156, 121.06887817382812, 149.0636749267578, 208.5633544921875, 177.29373168945312, 274.6813049316406, 146.15695190429688, 109.43994140625, 231.13230895996094, 86.08122253417969, 246.6071014404297, 155.54180908203125, 92.10684204101562, 104.38799285888672, 187.93728637695312, 147.951904296875, 117.0892105102539, 158.76222229003906, 168.25563049316406, 73.05523681640625, 185.02984619140625, 188.47036743164062, 215.42327880859375, 167.3608856201172, 113.98837280273438, 153.06275939941406, 107.1070327758789, 109.65249633789062, 302.3647766113281, 145.46426391601562, 168.86415100097656, 280.6795654296875, 84.53186798095703, 284.9127502441406, 117.34419250488281, 212.1013641357422, 143.91490173339844, 114.34249877929688, 158.06056213378906, 132.70533752441406, 230.9537353515625, 263.615966796875, 120.45278930664062, 77.91094970703125, 272.19775390625, 73.56446075439453, 139.756591796875, 170.90005493164062, 118.45309448242188, 188.4355926513672, 82.8113784790039, 192.5301971435547, 134.106201171875, 119.70830535888672, 151.6189422607422, 155.99594116210938, 159.48150634765625, 191.12310791015625, 117.50198364257812, 92.10570526123047, 136.84344482421875, 85.81822967529297, 156.3618927001953, 138.2996063232422, 120.0753402709961, 403.386474609375, 155.64671325683594, 97.25021362304688, 182.94554138183594, 153.29159545898438, 164.06130981445312, 158.7067413330078, 235.20675659179688, 104.51869201660156, 148.21775817871094, 80.11040496826172, 187.23806762695312, 221.4705352783203, 106.96320343017578, 137.80931091308594, 188.79615783691406, 151.1588897705078, 116.52143859863281, 146.83595275878906, 236.27420043945312, 88.26433563232422, 86.8412094116211, 147.79388427734375, 224.55307006835938, 159.8517608642578, 210.75686645507812, 85.21070098876953, 117.66065216064453, 168.2229766845703, 162.18836975097656, 80.8130111694336, 91.26055145263672, 128.5165557861328, 133.44000244140625, 284.1369934082031, 103.50188446044922, 107.7531509399414, 38.34065628051758, 201.27818298339844, 94.67254638671875, 167.3571319580078, 178.03720092773438, 204.22259521484375, 163.2476348876953, 129.07167053222656, 102.8248062133789, 112.26026916503906, 211.39175415039062, 133.8348388671875, 89.7327880859375, 85.44880676269531, 102.2234878540039, 126.735595703125, 76.31695556640625, 135.3915252685547, 104.10739135742188, 77.32454681396484, 69.33284759521484, 103.64051055908203, 144.3870391845703, 114.90337371826172, 121.54834747314453, 115.47102355957031, 197.85740661621094, 146.4616241455078, 258.0345458984375, 97.07503509521484, 193.94198608398438, 192.683837890625, 106.8848876953125, 90.26449584960938, 254.03298950195312, 119.99273681640625, 91.46295166015625, 200.1969451904297, 116.26191711425781, 140.76629638671875, 164.6336212158203, 155.25881958007812, 109.27000427246094, 127.94941711425781, 129.1600799560547, 101.0940933227539, 85.70989227294922, 154.72802734375, 192.57151794433594, 251.7982940673828, 83.1329116821289, 228.2563934326172, 257.2933044433594, 144.9326629638672, 155.53907775878906, 121.26762390136719, 206.4721221923828, 135.51437377929688, 101.75079345703125, 185.85353088378906, 116.06987762451172, 206.0308380126953, 221.1832733154297, 174.43154907226562, 75.10299682617188, 56.2236442565918, 102.16710662841797, 188.60044860839844, 163.8583526611328, 186.2147674560547, 151.00299072265625, 109.97526550292969, 153.76393127441406, 138.88499450683594, 101.85258483886719, 156.8531036376953, 200.68841552734375, 213.10955810546875, 112.77452087402344, 269.5470886230469, 189.6775665283203, 183.67286682128906, 163.91188049316406, 203.25885009765625, 184.35569763183594, 127.22046661376953, 205.7017822265625, 133.9307861328125, 49.62561798095703, 99.00779724121094, 106.46920013427734, 187.6545867919922, 71.75911712646484, 146.36227416992188, 77.47767639160156, 116.82737731933594, 127.57955932617188, 157.46084594726562, 190.58180236816406, 317.613037109375, 110.83352661132812, 56.53673553466797, 207.50650024414062, 202.7042694091797, 220.18295288085938, 105.69773864746094, 131.9184112548828, 199.1907501220703, 228.16281127929688, 57.190303802490234, 152.94873046875, 254.913330078125, 107.63056945800781, 91.57178497314453, 205.16683959960938, 235.52426147460938, 48.48044204711914, 147.58035278320312, 331.2996826171875, 137.58580017089844, 157.27288818359375, 204.5366973876953, 138.47850036621094, 124.629638671875, 144.54823303222656, 237.27249145507812, 175.64662170410156, 152.59817504882812, 134.6762237548828, 82.63611602783203, 111.89909362792969, 204.61141967773438, 94.82498168945312, 83.8685531616211, 133.47946166992188, 295.9581298828125, 120.55547332763672, 115.0285873413086, 133.10687255859375, 156.7875213623047, 136.35838317871094, 205.92947387695312, 127.01849365234375, 299.50146484375, 100.5311279296875, 204.98709106445312, 174.19467163085938, 98.10984802246094, 227.5264892578125, 144.61807250976562, 155.5525665283203, 149.81573486328125, 258.08770751953125, 98.203125, 207.68162536621094, 96.13371276855469, 139.61712646484375, 150.04507446289062, 174.11434936523438, 165.13824462890625, 116.43241119384766, 181.5177001953125, 82.2537612915039, 87.26087188720703, 123.44402313232422, 126.24114227294922, 139.06631469726562, 219.6934051513672, 311.9652404785156, 110.17376708984375, 162.36154174804688, 95.58643341064453, 215.30868530273438, 203.39236450195312, 109.51699829101562, 169.42300415039062, 270.35894775390625, 185.3043670654297, 100.9627685546875, 103.91183471679688, 93.23750305175781, 166.812255859375, 112.59001159667969, 196.6105194091797, 46.060791015625, 186.11416625976562, 68.66993713378906, 140.37277221679688, 94.35302734375, 170.22445678710938, 182.78831481933594, 80.85128784179688, 225.8292694091797, 150.10653686523438, 145.42083740234375, 125.47428894042969, 363.894287109375, 175.9486541748047, 132.69027709960938, 103.09423828125, 156.747314453125, 261.3225402832031, 120.2269287109375, 176.73072814941406, 335.6859130859375, 134.46151733398438, 86.21312713623047, 225.1613311767578, 88.71853637695312, 168.46926879882812, 200.0423583984375, 176.95335388183594, 171.15573120117188, 152.70584106445312, 71.0387191772461, 118.63816833496094, 195.82711791992188, 117.10802459716797, 186.96185302734375, 74.86087036132812, 260.37933349609375, 132.00241088867188, 123.15558624267578, 106.57861328125, 114.76029205322266, 144.09678649902344, 95.34871673583984, 103.94593048095703, 114.19994354248047, 186.4846954345703, 119.1739730834961, 90.86834716796875, 117.92953491210938, 81.4706039428711, 105.03734588623047, 86.45704650878906, 109.8651351928711, 166.78689575195312, 114.20250701904297, 117.08491516113281, 81.72869873046875, 214.01527404785156, 142.6407928466797, 178.93731689453125, 132.98873901367188, 197.64157104492188, 116.61180877685547, 81.24292755126953, 148.91319274902344, 101.84773254394531, 108.80669403076172, 141.23358154296875, 167.75189208984375, 114.84465026855469, 211.97547912597656, 182.08108520507812, 224.4757843017578, 255.77769470214844, 157.2654571533203, 93.30848693847656, 91.96768188476562, 136.63250732421875, 166.533935546875, 91.18229675292969, 187.90530395507812, 134.75149536132812, 115.47620391845703, 139.43861389160156, 219.65318298339844, 141.22927856445312, 90.43561553955078, 198.95639038085938, 197.02186584472656, 221.92225646972656, 150.801513671875, 202.489990234375, 220.12342834472656, 82.22152709960938, 154.69976806640625, 200.01327514648438, 127.70262145996094, 187.262451171875, 275.90972900390625, 105.79717254638672, 78.0346908569336, 146.82916259765625, 130.08248901367188, 193.8247528076172, 91.30194091796875, 138.4373779296875, 126.09567260742188, 162.13247680664062, 209.0334930419922, 161.17657470703125, 150.43228149414062, 106.04769134521484, 161.04811096191406, 195.1034698486328, 65.81373596191406, 191.5404052734375, 167.99908447265625, 185.51113891601562, 222.1929931640625, 113.01860046386719, 211.0644989013672, 136.47071838378906, 328.9217224121094, 208.05181884765625, 69.83765411376953, 166.5829315185547, 88.72919464111328, 80.38656616210938, 207.62240600585938, 110.79426574707031, 154.07467651367188, 102.5008773803711, 147.71286010742188, 101.96289825439453, 90.65421295166016, 151.4117431640625, 151.06124877929688, 119.14340209960938, 75.2259750366211, 140.262451171875, 70.88959503173828, 161.13644409179688, 206.64537048339844, 197.6795654296875, 134.8588409423828, 108.68675231933594, 115.1922607421875, 103.70497131347656, 157.34092712402344, 144.7932586669922, 114.1343002319336, 159.4199981689453, 119.46163177490234, 158.44102478027344, 126.35809326171875, 102.72277069091797, 258.6882019042969, 156.7019500732422, 255.1595916748047, 110.0297622680664, 198.91758728027344, 102.82137298583984, 176.48162841796875, 273.0782470703125, 93.30581665039062, 147.82997131347656, 202.59515380859375, 84.77527618408203, 78.4150390625, 235.84445190429688, 121.32494354248047, 119.75753021240234, 164.3727264404297, 76.32514953613281, 206.058349609375, 140.89671325683594, 262.3649597167969, 140.54672241210938, 392.1156005859375, 71.31090545654297, 174.42788696289062, 143.53610229492188, 105.0479736328125, 176.21749877929688, 252.5368194580078, 204.763671875, 268.08404541015625, 172.79498291015625, 67.62030029296875, 153.94161987304688, 110.9676284790039, 204.24644470214844, 181.62615966796875, 191.48654174804688, 105.4947280883789, 333.8199157714844, 110.6138916015625, 189.62989807128906, 143.9174346923828, 175.22726440429688, 176.04969787597656, 118.4607162475586, 239.90643310546875, 205.7430877685547, 77.5723876953125, 186.1479034423828, 290.95611572265625, 313.5680236816406, 218.87142944335938, 107.75145721435547, 133.180908203125, 255.3734588623047, 146.6673126220703, 113.25813293457031, 77.45001220703125, 119.67829132080078, 85.73629760742188, 250.467529296875, 214.65762329101562, 265.9830627441406, 141.8336944580078, 166.7646942138672, 109.33562469482422, 114.7070083618164, 177.62533569335938, 147.4695587158203, 231.65631103515625, 243.38165283203125, 140.63352966308594, 81.07926177978516, 106.14205169677734, 132.81820678710938, 96.18956756591797, 49.285057067871094, 227.50619506835938, 136.56700134277344, 184.32933044433594, 175.9092254638672, 311.6579284667969, 130.5189666748047, 118.57035827636719, 108.47757720947266, 98.16281127929688, 144.73141479492188, 77.163330078125, 124.90927124023438, 95.54615020751953, 91.49518585205078, 191.72537231445312, 124.32811737060547, 201.17543029785156, 222.0753173828125, 192.01922607421875, 142.12887573242188, 71.11681365966797, 78.3342056274414, 70.12527465820312, 93.07154846191406, 231.47874450683594, 189.622314453125, 189.66200256347656, 116.22888946533203, 118.03050994873047, 105.92706298828125, 192.14572143554688, 254.03627014160156, 83.48937225341797, 84.51126861572266, 184.09962463378906, 200.51910400390625, 95.64730072021484, 107.36408233642578, 162.52218627929688, 116.24385070800781, 173.90052795410156, 191.04376220703125, 210.57937622070312, 161.3358917236328, 110.84278106689453, 67.78946685791016, 92.68094635009766, 357.0457458496094, 122.22969055175781, 232.62442016601562, 382.15509033203125, 159.52890014648438, 319.0877685546875, 66.3614273071289, 185.82305908203125, 188.00271606445312, 132.77932739257812, 241.2076416015625, 83.67665100097656, 130.8741455078125, 148.10386657714844, 264.0755615234375, 102.08116149902344, 85.95346069335938, 79.84797668457031, 139.491943359375, 170.96241760253906, 158.69863891601562, 109.44615173339844, 118.45225524902344, 196.7837677001953, 110.63599395751953, 116.87628936767578, 110.1385726928711, 120.00390625, 74.85694885253906, 138.0329132080078, 158.63162231445312, 290.4918518066406, 186.03973388671875, 187.42225646972656, 106.32628631591797, 119.65193176269531, 162.39971923828125, 153.24371337890625, 137.18357849121094, 119.763916015625, 209.35110473632812, 128.75607299804688, 135.95584106445312, 239.5302276611328, 249.55470275878906, 139.22349548339844, 129.4041290283203, 169.7997283935547, 95.33544158935547, 384.3704528808594, 235.429931640625, 239.89039611816406, 260.68267822265625, 134.60302734375, 76.77005004882812, 101.24301147460938, 263.07049560546875, 81.18832397460938, 176.48936462402344, 177.90260314941406, 166.45787048339844, 314.65618896484375, 102.57206726074219, 78.64435577392578, 276.34979248046875, 99.49725341796875, 110.8167724609375, 140.44998168945312, 101.75996398925781, 207.90673828125, 144.48504638671875, 66.21280670166016, 154.22903442382812, 188.27975463867188, 394.17376708984375, 205.5421600341797, 27.802433013916016, 200.59637451171875, 337.0338134765625, 63.52248001098633, 146.45066833496094, 222.55245971679688, 313.0523376464844, 242.13670349121094, 134.40811157226562, 226.6622314453125, 53.40255355834961, 108.3741226196289, 123.96741485595703, 138.50433349609375, 297.16790771484375, 161.2412109375, 105.7953109741211, 101.03553771972656, 272.96368408203125, 82.9393310546875, 90.6988296508789, 143.63504028320312, 99.1257095336914, 105.6869125366211, 285.1821594238281, 309.0077819824219, 151.4061737060547, 71.61213684082031, 144.85064697265625, 122.59749603271484, 138.8404998779297, 157.17115783691406, 159.83103942871094, 118.06929016113281, 110.2191162109375, 141.1956024169922, 114.38143157958984, 217.15802001953125, 93.2406997680664, 278.6380920410156, 162.1695098876953, 119.22949981689453, 222.88922119140625, 89.47761535644531, 138.59588623046875, 347.6458740234375, 189.12835693359375, 190.87057495117188, 140.0640106201172, 246.98377990722656, 262.0046691894531, 281.6478271484375, 50.18045425415039, 134.05038452148438, 114.5851058959961, 161.14950561523438, 155.0770263671875, 114.30487823486328, 163.39723205566406, 71.45075988769531, 117.04075622558594, 215.44415283203125, 154.71202087402344, 134.6712188720703, 283.0220947265625, 77.33491516113281, 395.5480651855469, 137.6190643310547, 80.4781494140625, 84.68028259277344, 82.53346252441406, 112.45323944091797, 232.84259033203125, 77.85071563720703, 208.63009643554688, 164.8473663330078, 117.2880859375, 103.56240844726562, 177.21165466308594, 130.22225952148438, 121.79561614990234, 211.59202575683594, 84.4442367553711, 165.94053649902344, 58.03313446044922, 140.53163146972656, 160.27642822265625, 183.11354064941406, 113.06922149658203, 326.3662109375, 292.3748474121094, 218.4390411376953, 116.38150787353516, 86.97029113769531, 110.89051818847656, 112.87480163574219, 56.29959487915039, 155.51132202148438, 215.56231689453125, 155.52906799316406, 161.36827087402344, 83.07240295410156, 161.14605712890625, 110.03389739990234, 72.42428588867188, 156.72691345214844, 179.89979553222656, 132.92059326171875, 113.35576629638672, 133.66250610351562, 186.67286682128906, 272.8178405761719, 200.4949188232422, 169.5390625, 96.2824478149414, 59.616825103759766, 58.54055404663086, 67.81523895263672, 127.3022689819336, 248.3030242919922, 77.24561309814453, 121.72181701660156, 150.54171752929688, 240.34368896484375, 215.9434814453125, 189.74920654296875, 146.51968383789062, 130.87103271484375, 126.69922637939453, 90.9300765991211, 188.89996337890625, 114.80774688720703, 131.893798828125, 74.34542083740234, 155.47129821777344, 155.2788848876953, 272.1284484863281, 82.88243865966797, 122.45738983154297, 100.19454956054688, 121.32389831542969, 80.30595397949219, 189.97390747070312, 177.63194274902344, 247.62741088867188, 324.1040344238281, 207.91793823242188, 176.14239501953125, 107.73059844970703, 193.50865173339844, 104.81265258789062, 148.70913696289062, 106.9649887084961, 77.38924407958984, 93.86801147460938, 203.04080200195312, 199.43699645996094, 111.34803771972656, 70.53470611572266, 112.30293273925781, 205.68649291992188, 218.3115997314453, 146.0320587158203, 120.97122955322266, 229.31219482421875, 116.39398956298828, 213.70484924316406, 103.8366470336914, 135.8784637451172, 140.20867919921875, 240.67605590820312, 90.44377136230469, 148.7264862060547, 155.4128875732422, 98.68267059326172, 208.4044952392578, 188.0762481689453, 96.48806762695312, 89.32994079589844, 134.90020751953125, 124.9787368774414, 89.77694702148438, 188.7722930908203, 145.06222534179688, 308.7148742675781, 128.39404296875, 94.43728637695312, 109.149658203125, 102.17310333251953, 139.9662628173828, 73.7163314819336, 63.59730911254883, 171.19049072265625, 94.37804412841797, 118.1490478515625, 186.3895721435547, 131.04786682128906, 128.12774658203125, 68.79460906982422, 103.4357681274414, 105.5271224975586, 188.53921508789062, 83.4953842163086, 286.4422302246094, 225.8262481689453, 147.7443389892578, 321.69732666015625, 233.4861297607422, 148.5894775390625, 170.30758666992188, 194.10787963867188, 79.52556610107422, 134.266357421875, 106.84473419189453, 151.9446258544922, 146.27073669433594, 171.1112518310547, 162.63180541992188, 79.60247039794922, 81.9913558959961, 84.73558807373047, 159.101806640625, 231.66226196289062, 94.1863021850586, 116.3816146850586, 141.8450469970703, 69.38159942626953, 99.5931396484375, 138.96389770507812, 162.39065551757812, 153.824951171875, 87.61534881591797, 136.98680114746094, 224.09494018554688, 156.9524688720703, 80.79867553710938, 242.4346466064453, 96.24898529052734, 92.4055404663086, 91.92523956298828, 99.27517700195312, 121.61164855957031, 173.3047637939453, 122.71253204345703, 106.4188003540039, 201.26446533203125, 135.57589721679688, 183.2674560546875, 130.26039123535156, 190.5597381591797, 117.07135009765625, 196.35662841796875, 162.75173950195312, 105.01666259765625, 91.06419372558594, 95.463134765625, 94.70655059814453, 125.94339752197266, 153.46470642089844, 112.6546630859375, 269.7615661621094, 135.81207275390625, 219.6427001953125, 262.3349304199219, 96.29548645019531, 257.91412353515625, 166.66937255859375, 222.45526123046875, 160.98255920410156, 113.87992858886719, 150.16024780273438, 132.77520751953125, 342.82257080078125, 227.3230438232422, 102.08509826660156, 100.4935073852539, 161.9932098388672, 113.63361358642578, 164.070556640625, 129.69198608398438, 112.3390884399414, 127.29279327392578, 195.75167846679688, 181.0469207763672, 110.34058380126953, 202.74002075195312, 121.39177703857422, 118.09728240966797, 108.71282958984375, 115.9742202758789, 113.8270034790039, 138.00079345703125, 103.62667083740234, 79.12251281738281, 224.1536102294922, 98.15827178955078, 101.18234252929688, 88.81297302246094, 47.76213073730469, 272.0518798828125, 190.54592895507812, 68.36116027832031, 135.24859619140625, 195.7854766845703, 168.75372314453125, 101.13671112060547, 124.44157409667969, 73.26538848876953, 139.5126953125, 113.46976470947266, 153.72265625, 200.64114379882812, 237.34413146972656, 86.80696868896484, 137.64991760253906, 161.02085876464844, 181.36740112304688, 151.37765502929688, 166.2211151123047, 259.01727294921875, 388.2335205078125, 215.0009002685547, 78.87416076660156, 89.99043273925781, 102.30853271484375, 158.3077392578125, 319.7640380859375, 64.53143310546875, 179.2848358154297, 116.35037231445312, 93.26618194580078, 125.72061920166016, 170.9510040283203, 163.5044708251953, 94.44624328613281, 93.16666412353516, 111.32717895507812, 168.39312744140625, 155.39146423339844, 185.57742309570312, 396.61346435546875, 140.88926696777344, 120.387451171875, 91.25502014160156, 143.55992126464844, 165.9554901123047, 167.621337890625, 199.162353515625, 70.77911376953125, 143.53419494628906, 164.11288452148438, 113.55512237548828, 209.83871459960938, 170.72193908691406, 106.9184799194336, 183.17318725585938, 153.85450744628906, 126.94051361083984, 129.2571258544922, 219.8751220703125, 205.9732666015625, 168.7517852783203, 142.36607360839844, 97.97164916992188, 68.58059692382812, 179.06251525878906, 130.9344940185547, 211.5202178955078, 235.885498046875, 147.80178833007812, 123.26597595214844, 170.63217163085938, 94.02704620361328, 234.3470916748047, 85.47994232177734, 153.53863525390625, 390.6449890136719, 157.9980926513672, 220.2611846923828, 135.30194091796875, 321.4041442871094, 177.37100219726562, 102.86349487304688, 245.9942626953125, 124.50502014160156, 365.8916015625, 189.72975158691406, 125.21758270263672, 65.09467315673828, 82.40403747558594, 73.01934051513672, 88.46849060058594, 164.0902557373047, 181.43096923828125, 246.1187286376953, 105.61758422851562, 92.22616577148438, 146.20394897460938, 75.45575714111328, 165.74639892578125, 180.4612579345703, 139.93116760253906, 158.45620727539062, 122.075927734375, 153.4544677734375, 144.34214782714844, 127.64990234375, 248.59634399414062, 111.02114868164062, 86.8386459350586, 202.6874542236328, 221.33995056152344, 114.02153015136719, 212.19866943359375, 131.8284912109375, 124.04121398925781, 115.91014862060547, 75.13523864746094, 149.99693298339844, 78.83956909179688, 141.6385040283203, 136.7113037109375, 189.7013397216797, 183.73155212402344, 78.17620849609375, 235.91574096679688, 168.574462890625, 181.86111450195312, 239.0709686279297, 111.69955444335938, 126.57241821289062, 111.94290924072266, 121.8482437133789, 132.81048583984375, 133.22427368164062, 241.6638946533203, 94.84696197509766, 164.2613067626953, 184.41221618652344, 197.6283721923828, 252.27865600585938, 138.75836181640625, 80.64225769042969, 236.93072509765625, 191.21792602539062, 115.935791015625, 94.63512420654297, 327.37420654296875, 118.64433288574219, 265.42510986328125, 138.7203826904297, 141.1393280029297, 170.91139221191406, 191.57000732421875, 157.6256103515625, 256.59002685546875, 153.23574829101562, 122.55909729003906, 140.7628173828125, 263.7566833496094, 228.86334228515625, 116.0928955078125, 222.0287322998047, 144.6358642578125, 205.5034637451172, 125.25825500488281, 142.04200744628906, 129.21109008789062, 179.58677673339844, 125.47238159179688, 97.55023956298828, 195.8963165283203, 129.0036163330078, 287.5351257324219, 178.70172119140625, 150.55355834960938, 91.37850952148438, 85.23528289794922, 133.25547790527344, 129.3861083984375, 207.6465606689453, 172.08668518066406, 189.79127502441406, 129.6980438232422, 158.16860961914062, 118.11355590820312, 103.01029968261719, 102.19517517089844, 220.72242736816406, 153.2211456298828, 95.22090911865234, 177.11737060546875, 160.41482543945312, 126.5947494506836, 121.3402099609375, 178.4848175048828, 190.14129638671875, 153.84820556640625, 131.64109802246094, 156.79464721679688, 204.4844207763672, 125.60610961914062, 87.4896011352539, 221.36453247070312, 165.3546905517578, 145.0019989013672, 135.736328125, 99.7071304321289, 120.61884307861328, 218.75531005859375, 100.82310485839844, 113.83399963378906, 113.11289978027344, 126.18511199951172, 144.10084533691406, 327.78265380859375, 177.75149536132812, 124.29431915283203, 209.82461547851562, 75.99699401855469, 68.41881561279297, 262.9351806640625, 104.62339782714844, 125.2783203125, 227.52528381347656, 157.37094116210938, 217.68312072753906, 183.96080017089844, 66.04190826416016, 82.06501007080078, 167.96873474121094, 108.63670349121094, 131.78480529785156, 173.21380615234375, 110.06780242919922, 103.1273193359375, 150.33863830566406, 172.6205596923828, 159.05667114257812, 67.53851318359375, 95.40752410888672, 117.07949829101562, 73.46585083007812, 112.47840118408203, 157.38699340820312, 175.7274627685547, 94.2561264038086, 106.87750244140625, 73.08628845214844, 146.02703857421875, 183.81655883789062, 178.607421875, 305.690673828125, 160.24464416503906, 190.40513610839844, 95.81012725830078, 225.6726531982422, 124.56624603271484, 202.57391357421875, 131.2822265625, 89.37318420410156, 143.716552734375, 162.82626342773438, 142.41061401367188, 90.78831481933594, 160.58831787109375, 146.85458374023438, 223.5194091796875, 110.86312103271484, 113.73064422607422, 147.82969665527344, 155.89524841308594, 156.2216339111328, 336.48529052734375, 120.57542419433594, 217.24771118164062, 83.0631332397461, 245.03848266601562, 145.05905151367188, 89.11895751953125, 114.03490447998047, 313.3898620605469, 260.57916259765625, 105.47113037109375, 109.02232360839844, 164.47300720214844, 125.66511535644531, 335.10186767578125, 156.71473693847656, 376.3494873046875, 89.13646697998047, 84.3779525756836, 125.84513092041016, 111.94088745117188, 372.26422119140625, 288.77203369140625, 160.14610290527344, 84.51062774658203, 145.5979766845703, 178.060791015625, 235.4220733642578, 163.9837188720703, 182.1614990234375, 231.34423828125, 208.72482299804688, 95.78646087646484, 128.60243225097656, 261.82305908203125, 252.55368041992188, 239.53114318847656, 132.38641357421875, 182.36209106445312, 77.88691711425781, 101.64391326904297, 150.71066284179688, 193.97323608398438, 202.67149353027344, 246.39950561523438, 225.04476928710938, 171.18992614746094, 149.88954162597656, 95.01563262939453, 196.48512268066406, 157.82723999023438, 117.26912689208984, 221.22259521484375, 88.53584289550781, 189.38157653808594, 131.1956787109375, 266.5277404785156, 252.69918823242188, 172.23379516601562, 202.705322265625, 144.19692993164062, 330.64300537109375, 141.95751953125, 116.93978881835938, 438.23681640625, 115.79766845703125, 81.18031311035156, 184.8511962890625, 224.62120056152344, 114.58160400390625, 108.85749053955078, 143.27769470214844, 112.91915893554688, 167.18157958984375, 102.43917083740234, 294.341064453125, 233.0116424560547, 138.44873046875, 90.0158920288086, 166.58944702148438, 76.31047821044922, 123.59144592285156, 111.57849884033203, 191.72911071777344, 163.4415740966797, 218.77084350585938, 237.12318420410156, 134.6113739013672, 131.87330627441406, 110.33111572265625, 176.34400939941406, 209.06588745117188, 95.65213775634766, 88.53394317626953, 132.40023803710938, 60.36748123168945, 41.179813385009766, 289.1097106933594, 106.8320541381836, 251.7351531982422, 70.23825073242188, 189.9595947265625, 167.75790405273438, 110.34111022949219, 79.92774963378906, 104.62604522705078, 116.13199615478516, 106.02099609375, 236.65306091308594, 238.4768524169922, 96.46419525146484, 104.7229232788086, 124.21534729003906, 174.16119384765625, 290.28179931640625, 103.43379211425781, 134.34454345703125, 223.5777130126953, 105.04381561279297, 118.52078247070312, 150.31690979003906, 104.28053283691406, 80.08916473388672, 164.76296997070312, 147.33798217773438, 137.6289825439453, 145.1878204345703, 155.46981811523438, 148.92605590820312, 142.2699737548828, 169.0781707763672, 70.44786071777344, 64.5728988647461, 335.1108093261719, 126.76394653320312, 112.99968719482422, 271.4474182128906, 69.60344696044922, 170.85182189941406, 219.4962158203125, 157.7833709716797, 179.40011596679688, 90.94868469238281, 47.1528434753418, 133.01608276367188, 379.5948791503906, 109.58287048339844, 275.0648193359375, 142.4730987548828, 69.75076293945312, 174.6031494140625, 166.17474365234375, 123.39517974853516, 164.15560913085938, 209.56944274902344, 97.19115447998047, 64.58832550048828, 109.81318664550781, 114.32679748535156, 86.17806243896484, 176.2170867919922, 168.80909729003906, 172.75115966796875, 154.08224487304688, 145.77784729003906, 150.81784057617188, 197.6920166015625, 200.95269775390625, 204.97850036621094, 145.22723388671875, 115.17243194580078, 124.31027221679688, 129.77828979492188, 115.42198181152344, 139.7094268798828, 306.4203796386719, 151.50814819335938, 91.56977844238281, 273.9114685058594, 139.5059814453125, 137.6636962890625, 115.46353149414062, 85.93272399902344, 82.74530029296875, 67.58709716796875, 189.15757751464844, 214.8705291748047, 67.03723907470703, 137.04666137695312, 164.8531951904297, 108.14208221435547, 95.8965072631836, 150.82460021972656, 88.05570983886719, 138.01626586914062, 120.81529235839844, 161.01556396484375, 239.300537109375, 109.06490325927734, 200.02737426757812, 114.05687713623047, 204.1314697265625, 430.36322021484375, 115.01766204833984, 154.64718627929688, 142.37461853027344, 145.42611694335938, 130.9977569580078, 69.39850616455078, 149.8475799560547, 61.664588928222656, 155.18280029296875, 357.0806579589844, 144.6606903076172, 102.60381317138672, 150.6713409423828, 97.66869354248047, 216.8605194091797, 318.0381164550781, 181.23667907714844, 172.42337036132812, 128.55393981933594, 114.90972900390625, 150.1822967529297, 98.53108215332031, 116.07463073730469, 148.75706481933594, 152.1527099609375, 281.0506896972656, 183.87652587890625, 224.72157287597656, 94.23077392578125, 146.89414978027344, 125.53976440429688, 284.3614501953125, 118.19063568115234, 171.65093994140625, 244.67398071289062, 73.7289810180664, 196.43809509277344, 237.281982421875, 158.6350860595703, 101.20932006835938, 118.22090148925781, 145.2985076904297, 142.9786834716797, 148.71011352539062, 143.36399841308594, 209.77198791503906, 180.71304321289062, 176.58592224121094, 211.75616455078125, 155.99371337890625, 256.076904296875, 51.07708740234375, 56.45742416381836, 208.07196044921875, 156.90928649902344, 158.56936645507812, 162.1873016357422, 144.4409637451172, 213.4656219482422, 92.92144775390625, 103.2720947265625, 149.59507751464844, 131.34120178222656, 163.33218383789062, 83.93660736083984, 208.67855834960938, 221.48289489746094, 213.4915771484375, 184.34954833984375, 68.32844543457031, 166.2776336669922, 201.16583251953125, 402.6201171875, 150.69017028808594, 130.04466247558594, 87.86167907714844, 238.24044799804688, 137.25352478027344, 182.6124267578125, 131.98976135253906, 139.42391967773438, 120.25662994384766, 264.54718017578125, 95.83676147460938, 120.39329528808594, 159.39620971679688, 94.12213897705078, 153.9867706298828, 235.75955200195312, 277.589111328125, 131.3119659423828, 112.5741195678711, 57.147151947021484, 75.35051727294922, 204.0701446533203, 72.14262390136719, 375.86724853515625, 99.13175201416016, 39.02241134643555, 77.3701400756836, 75.98829650878906, 204.84609985351562, 214.01864624023438, 117.59093475341797, 176.02511596679688, 237.3643798828125, 163.88687133789062, 160.7446746826172, 194.66966247558594, 125.02677917480469, 60.75982666015625, 144.3051300048828, 221.36041259765625, 177.63211059570312, 126.67554473876953, 130.30088806152344, 125.90887451171875, 164.47152709960938, 141.2659149169922, 157.88134765625, 124.4134521484375, 202.65121459960938, 78.43355560302734, 170.12318420410156, 168.43231201171875, 103.25682830810547, 170.1835479736328, 131.18817138671875, 224.54440307617188, 98.36016845703125, 81.80261993408203, 101.36725616455078, 121.51507568359375, 170.4587860107422, 139.12493896484375, 82.63194274902344, 116.21308898925781, 121.18657684326172, 96.65937805175781, 132.87185668945312, 81.87149810791016, 159.91259765625, 153.73562622070312, 117.18009185791016, 149.45382690429688, 265.3316955566406, 180.7507781982422, 133.31922912597656, 184.41082763671875, 174.0906219482422, 207.73995971679688, 148.95445251464844, 90.54901885986328, 149.95631408691406, 149.19395446777344, 127.4378890991211, 159.7393035888672, 92.83261108398438, 280.0549621582031, 152.41964721679688, 212.23825073242188, 86.46776580810547, 174.09043884277344, 132.7598876953125, 122.30870056152344, 196.8166046142578, 205.14306640625, 240.1129913330078, 285.0398254394531, 156.2538299560547, 170.39523315429688, 153.10574340820312, 192.5728759765625, 102.35972595214844, 113.50445556640625, 107.9952163696289, 582.7402954101562, 98.24349975585938, 118.73539733886719, 133.93467712402344, 142.12716674804688, 94.8637466430664, 107.36239624023438, 253.04635620117188, 107.53858947753906, 275.600341796875, 154.41102600097656, 181.90647888183594, 81.13232421875, 211.913330078125, 237.24093627929688, 70.96575927734375, 169.62298583984375, 85.95329284667969, 86.02545928955078, 238.3465576171875, 345.5173034667969, 92.26680755615234, 187.15916442871094, 122.23033905029297, 152.1912384033203, 61.73752212524414, 104.38790130615234, 172.35202026367188, 91.48406219482422, 156.63023376464844, 96.85845947265625, 124.09368896484375, 60.536136627197266, 160.86920166015625, 114.96979522705078, 85.67487335205078, 142.1170196533203, 213.4117889404297, 137.40621948242188, 61.560028076171875, 246.82861328125, 223.10646057128906, 104.30316162109375, 138.36880493164062, 124.50080108642578, 241.0194549560547, 155.6846466064453, 139.1067657470703, 166.11659240722656, 131.8114471435547, 233.23675537109375, 162.24375915527344, 132.18185424804688, 203.02027893066406, 334.51434326171875, 185.7167510986328, 140.0841827392578, 77.69933319091797, 110.54202270507812, 136.23822021484375, 108.82832336425781, 124.43154907226562, 85.67932891845703, 66.33647155761719, 99.75521850585938, 145.87142944335938, 133.30123901367188, 132.98228454589844, 89.21390533447266, 188.50137329101562, 125.24695587158203, 81.9197998046875, 193.88882446289062, 260.85205078125, 163.5894775390625, 57.155189514160156, 59.09818649291992, 134.343017578125, 182.87437438964844, 83.7694320678711, 124.36392211914062, 126.72055053710938, 88.72327423095703, 239.4829559326172, 49.756492614746094, 141.87014770507812, 198.00965881347656, 169.74111938476562, 106.07313537597656, 200.3258514404297, 147.95120239257812, 144.83262634277344, 216.1577606201172, 172.48422241210938, 81.4698715209961, 52.350154876708984, 106.880615234375, 133.45578002929688, 107.10641479492188, 151.94491577148438, 109.44558715820312, 123.77881622314453, 182.44741821289062, 195.98049926757812, 275.9461975097656, 76.00028991699219, 145.68020629882812, 186.9111328125, 193.00595092773438, 162.63282775878906, 189.4539337158203, 184.5508575439453, 458.4400634765625, 128.5762481689453, 139.125, 135.13461303710938, 123.414306640625, 118.74723052978516, 59.90365982055664, 177.78150939941406, 167.5546875, 73.631103515625, 127.79801177978516, 141.7168731689453, 136.8647918701172, 217.522705078125, 163.58651733398438, 95.55891418457031, 177.01251220703125, 89.07290649414062, 171.9219207763672, 140.2967529296875, 89.70677185058594, 193.16265869140625, 103.21986389160156, 221.3220977783203, 104.23162078857422, 253.33236694335938, 196.82505798339844, 222.85617065429688, 114.8187484741211, 170.13607788085938, 88.71865844726562, 107.78820037841797, 143.37159729003906, 286.0391845703125, 145.4095458984375, 157.5990753173828, 124.0423355102539, 158.56915283203125, 62.81679916381836, 112.07627868652344, 104.1077880859375, 88.43289184570312, 161.68313598632812, 163.9713897705078, 187.09571838378906, 184.82720947265625, 118.42835998535156, 102.53255462646484, 178.46847534179688, 128.20567321777344, 189.15261840820312, 107.0752182006836, 98.37405395507812, 155.9907989501953, 203.71713256835938, 135.03009033203125, 177.4600067138672, 175.40574645996094, 84.72940063476562, 131.6837921142578, 79.68286895751953, 168.05662536621094, 200.99209594726562, 124.18046569824219, 147.17507934570312, 145.87408447265625, 87.31501770019531, 114.33300018310547, 226.84950256347656, 183.08473205566406, 151.246337890625, 259.9421691894531, 376.58587646484375, 113.63517761230469, 296.86737060546875, 214.65988159179688, 190.8495330810547, 196.2449493408203, 71.00018310546875, 116.55316162109375, 143.2312469482422, 138.5843963623047, 326.2034912109375, 161.0254669189453, 193.35415649414062, 105.1142578125, 119.8582992553711, 164.4382781982422, 98.19165802001953, 182.34373474121094, 46.84645080566406, 121.49625396728516, 67.98304748535156, 153.34335327148438, 119.9459457397461, 140.41441345214844, 196.808349609375, 134.75189208984375, 194.3747100830078, 248.86570739746094, 275.9913024902344, 167.0851593017578, 125.98731231689453, 325.18963623046875, 182.0908966064453, 200.59666442871094, 113.61497497558594, 164.24932861328125, 118.2391128540039, 226.44607543945312, 104.55731964111328, 245.4613494873047, 166.4003448486328, 136.23281860351562, 118.86885833740234, 62.41482925415039, 124.05712890625, 161.9366912841797, 174.23562622070312, 158.0826416015625, 154.68759155273438, 82.70557403564453, 159.83522033691406, 89.07133483886719, 297.4396667480469, 265.12823486328125, 226.91876220703125, 175.2609405517578, 222.2906951904297, 193.72523498535156, 99.01832580566406, 198.95846557617188, 152.53634643554688, 162.511962890625, 144.89369201660156, 169.99269104003906, 177.47303771972656, 117.75117492675781, 137.75767517089844, 75.32087707519531, 133.5103302001953, 163.2368927001953, 132.81346130371094, 157.340087890625, 226.31263732910156, 125.09195709228516, 200.00755310058594, 140.15408325195312, 73.65502166748047, 126.2955093383789, 105.7080307006836, 84.41295623779297, 117.00303649902344, 125.10204315185547, 148.62796020507812, 110.17386627197266, 90.98251342773438, 129.42405700683594, 95.68749237060547, 213.6996612548828, 184.6544647216797, 86.38579559326172, 125.58467102050781, 107.84583282470703, 202.49954223632812, 183.0725860595703, 112.45560455322266, 142.54641723632812, 96.70492553710938, 148.60797119140625, 183.99070739746094, 139.12049865722656, 112.47818756103516, 157.99078369140625, 124.2908935546875, 88.16889953613281, 136.68719482421875, 174.62271118164062, 178.68807983398438, 123.38729858398438, 138.66424560546875, 162.93190002441406, 179.80535888671875, 118.92186737060547, 131.30494689941406, 101.93450164794922, 247.8252716064453, 168.00173950195312, 284.5860900878906, 78.8944320678711, 130.1907196044922, 132.49844360351562, 73.43086242675781, 241.57723999023438, 129.30760192871094, 173.7480926513672, 107.18954467773438, 107.55480194091797, 129.78138732910156, 268.9488220214844, 148.2174835205078, 121.16023254394531, 81.11920928955078, 115.29304504394531, 118.3470687866211, 122.49703979492188, 107.86270141601562, 298.8603515625, 262.52587890625, 123.88410186767578, 132.68836975097656, 170.20773315429688, 186.20977783203125, 350.9200744628906, 107.84839630126953, 104.66272735595703, 119.57566833496094, 160.22348022460938, 176.1468505859375, 114.63865661621094, 146.1796875, 116.43479919433594, 105.82467651367188, 83.30465698242188, 219.28103637695312, 130.9769744873047, 94.8459701538086, 180.8389892578125, 106.3791275024414, 186.4725341796875, 88.36537170410156, 162.24746704101562, 93.66358947753906, 122.11038970947266, 127.10301971435547, 99.23755645751953, 179.74673461914062, 108.3705062866211, 181.32000732421875, 78.00637817382812, 128.40548706054688, 96.98346710205078, 112.51905822753906, 326.5243835449219, 130.8325958251953, 123.31000518798828, 192.9074249267578, 95.535400390625, 262.3407897949219, 129.79090881347656, 153.19068908691406, 123.02510070800781, 137.342041015625, 145.6017303466797, 79.8093032836914, 332.569091796875, 132.4745635986328, 91.9018325805664, 142.02244567871094, 129.26907348632812, 88.54644775390625, 283.931396484375, 425.7813720703125, 178.05255126953125, 142.73440551757812, 100.29674530029297, 262.0643615722656, 79.7025146484375, 107.48368835449219, 163.1851348876953, 137.82534790039062, 249.89085388183594, 182.12997436523438, 169.74427795410156, 167.47633361816406, 194.5350341796875, 243.79049682617188, 162.17430114746094, 224.74288940429688, 202.63931274414062, 134.9071044921875, 104.4856948852539, 213.3914337158203, 139.5428466796875, 222.55892944335938, 149.56448364257812, 97.57545471191406, 119.6744613647461, 181.85018920898438, 100.48186492919922, 87.8227310180664, 123.75125885009766, 154.89817810058594, 95.13154602050781, 90.17140197753906, 164.53309631347656, 158.08444213867188, 207.2078094482422, 59.36817932128906, 100.45172882080078, 146.50074768066406, 97.70050811767578, 200.8423614501953, 117.90524291992188, 127.78314208984375, 122.79325103759766, 216.8077850341797, 89.61536407470703, 196.81004333496094, 164.41702270507812, 124.1634750366211, 244.2706298828125, 44.3808479309082, 180.43638610839844, 198.3705596923828, 125.77992248535156, 258.3104248046875, 125.76156616210938, 85.53474426269531, 102.23070526123047, 105.29174041748047, 57.61357116699219, 133.44070434570312, 128.6488037109375, 135.3691864013672, 149.0762481689453, 188.5050506591797, 162.4917449951172, 118.52276611328125, 145.729736328125, 175.28843688964844, 101.48143768310547, 158.6581573486328, 115.6038589477539, 114.9636001586914, 180.5835723876953, 214.5572509765625, 206.2753143310547, 202.142578125, 274.7060546875, 190.20748901367188, 179.25038146972656, 121.73371887207031, 65.20390319824219, 128.78297424316406, 201.16372680664062, 48.480350494384766, 144.27540588378906, 97.03611755371094, 79.26453399658203, 230.72467041015625, 108.9706039428711, 117.9316635131836, 106.08735656738281, 108.34864807128906, 58.314945220947266, 239.29632568359375, 146.324951171875, 153.21661376953125, 178.47877502441406, 179.13323974609375, 144.895751953125, 156.52609252929688, 193.20504760742188, 114.88616943359375, 71.27517700195312, 111.73050689697266, 184.81118774414062, 237.44100952148438, 97.89566802978516, 63.14296340942383, 172.8259735107422, 135.05384826660156, 146.17160034179688, 133.21131896972656, 151.23741149902344, 218.13418579101562, 155.50155639648438, 90.47176361083984, 134.3943328857422, 109.90229034423828, 122.10881805419922, 119.51416778564453, 95.1153564453125, 234.42477416992188, 116.89959716796875, 146.337646484375, 213.4115753173828, 145.6606903076172, 277.6651306152344, 210.5922088623047, 189.75218200683594, 199.94537353515625, 162.87557983398438, 124.83513641357422, 89.12252807617188, 103.34323120117188, 178.10980224609375, 199.40029907226562, 122.96968078613281, 175.30799865722656, 122.07429504394531, 168.40708923339844, 111.47166442871094, 229.220703125, 209.09510803222656, 242.37014770507812, 261.7861022949219, 151.07745361328125, 170.48544311523438, 119.73394012451172, 207.3322296142578, 207.52174377441406, 165.39088439941406, 93.41217041015625, 208.7277069091797, 138.50201416015625, 158.23605346679688, 92.98407745361328, 285.4831237792969, 88.40414428710938, 175.05096435546875, 315.1116027832031, 210.95855712890625, 94.8346176147461, 134.36793518066406, 220.4916229248047, 251.7236328125, 318.6114196777344, 152.89788818359375, 266.4054870605469, 135.97042846679688, 185.19174194335938, 152.9585723876953, 108.4058609008789, 169.79779052734375, 145.19454956054688, 105.83587646484375, 279.4942626953125, 139.0994110107422, 105.73665618896484, 155.33265686035156, 183.4239501953125, 244.8096923828125, 313.61962890625, 344.7671813964844, 162.67889404296875, 199.31674194335938, 151.19882202148438, 156.7222900390625, 176.13014221191406, 143.16261291503906, 186.0841827392578, 123.14189910888672, 124.331787109375, 110.74720001220703, 114.80577850341797, 112.21792602539062, 140.7135467529297, 195.32594299316406, 172.9029541015625, 152.060302734375, 216.60958862304688, 130.37957763671875, 281.72344970703125, 81.76350402832031, 122.21209716796875, 250.78887939453125, 152.98614501953125, 98.36687469482422, 144.330322265625, 248.83128356933594, 360.3213806152344, 166.06527709960938, 155.161865234375, 94.77069091796875, 170.40084838867188, 285.5630187988281, 260.4077453613281, 131.9788055419922, 245.26036071777344, 136.13165283203125, 131.83282470703125, 121.8931655883789, 173.87249755859375, 162.2292938232422, 89.86847686767578, 116.55372619628906, 126.22736358642578, 83.91291046142578, 116.44117736816406, 137.8738555908203, 191.47886657714844, 217.3806610107422, 210.5100860595703, 131.12205505371094, 157.22616577148438, 140.16830444335938, 242.7811279296875, 163.8682861328125, 168.65951538085938, 190.19253540039062, 177.13340759277344, 97.70121002197266, 192.7991943359375, 265.4897766113281, 133.5906982421875, 377.76031494140625, 89.77288818359375, 136.5734405517578, 106.0599365234375, 170.24766540527344, 260.9029235839844, 99.59931182861328, 233.58624267578125, 124.61698150634766, 257.059814453125, 177.23422241210938, 123.4273681640625, 185.7839813232422, 177.31231689453125, 197.78684997558594, 147.20654296875, 225.40992736816406, 79.43106079101562, 123.1906509399414, 134.91262817382812, 179.29501342773438, 118.39030456542969, 159.11878967285156, 161.5347900390625, 181.89736938476562, 119.40901184082031, 235.27833557128906, 142.86807250976562, 263.0396423339844, 173.6718292236328, 105.23722839355469, 132.7005157470703, 240.72654724121094, 167.28724670410156, 181.88174438476562, 239.76002502441406, 94.60760498046875, 236.9213409423828, 185.19235229492188, 173.38262939453125, 114.90506744384766, 170.907958984375, 284.6292419433594, 224.39102172851562, 134.5955810546875, 70.84732055664062, 128.28762817382812, 222.84893798828125, 112.87189483642578, 134.73680114746094, 204.82998657226562, 99.2078857421875, 145.31727600097656, 195.79891967773438, 115.3185043334961, 99.99337005615234, 145.92138671875, 116.9368896484375, 132.7838134765625, 121.13597106933594, 174.67709350585938, 231.10299682617188, 250.22996520996094, 252.22296142578125, 86.19026947021484, 183.00880432128906, 101.20758056640625, 78.41944885253906, 83.1919937133789, 141.0881805419922, 171.4431610107422, 208.87625122070312, 64.44818878173828, 119.95829772949219, 342.5898742675781, 98.81272888183594, 122.59738159179688, 63.679908752441406, 181.51223754882812, 110.04959106445312, 199.873779296875, 180.34210205078125, 210.88160705566406, 136.5457000732422, 181.60105895996094, 165.74859619140625, 219.1048126220703, 134.6334686279297, 129.64988708496094, 135.75328063964844, 156.15884399414062, 140.40403747558594, 61.479679107666016, 183.00738525390625, 128.6870880126953, 111.43244171142578, 92.59586334228516, 138.924072265625, 121.47405242919922, 249.1678924560547, 161.23313903808594, 194.4636993408203, 141.92874145507812, 166.30752563476562, 65.69017791748047, 59.21550750732422, 205.26870727539062, 117.03378295898438, 130.52992248535156, 109.10063934326172, 148.99900817871094, 212.87413024902344, 245.9980010986328, 220.3260955810547, 87.676025390625, 137.85418701171875, 199.9048614501953, 67.21598052978516, 152.90286254882812, 180.83596801757812, 163.8253936767578, 117.67597198486328, 119.65364074707031, 266.3584899902344, 198.12298583984375, 165.1761932373047, 105.70433807373047, 245.58932495117188, 136.6315460205078, 195.9407958984375, 137.3535614013672, 179.59030151367188, 149.97705078125, 162.2696075439453, 98.37085723876953, 194.30975341796875, 174.09584045410156, 125.49546813964844, 336.5249328613281, 138.21621704101562, 89.22959899902344, 101.54659271240234, 135.478515625, 109.890869140625, 200.5369873046875, 106.7680892944336, 215.7019500732422, 90.20679473876953, 150.33885192871094, 54.848052978515625, 128.95367431640625, 238.30702209472656, 169.77584838867188, 90.03009796142578, 123.84576416015625, 241.93333435058594, 175.77951049804688, 343.12579345703125, 164.478271484375, 184.89939880371094, 129.9254608154297, 139.11094665527344, 131.6773223876953, 270.94085693359375, 170.3539581298828, 84.16818237304688, 208.74005126953125, 138.88023376464844, 253.84930419921875, 166.6016082763672, 134.48928833007812, 175.1317901611328, 168.7981414794922, 141.6656494140625, 172.70774841308594, 81.31745910644531, 147.88694763183594, 238.585693359375, 158.4494171142578, 133.9367218017578, 131.96438598632812, 226.49229431152344, 165.13233947753906, 180.57772827148438, 236.81402587890625, 188.1925048828125, 120.24126434326172, 269.33251953125, 142.1603240966797, 129.25698852539062, 37.57962417602539, 209.94309997558594, 143.34814453125, 215.010009765625, 153.99168395996094, 357.74957275390625, 199.90809631347656, 116.12462615966797, 103.45317840576172, 94.90486907958984, 123.8521499633789, 113.9278335571289, 113.18508911132812, 159.2445831298828, 181.40061950683594, 134.2962646484375, 139.81886291503906, 111.3495864868164, 200.08070373535156, 96.10882568359375, 177.86477661132812, 87.87840270996094, 167.10244750976562, 130.85617065429688, 116.95523834228516, 84.54480743408203, 123.83685302734375, 110.59706115722656, 144.00831604003906, 252.69244384765625, 232.3646697998047, 117.20858764648438, 130.17811584472656, 100.48995971679688, 65.72267150878906, 159.28306579589844, 127.08101654052734, 230.31784057617188, 168.61288452148438, 135.7567138671875, 217.38055419921875, 244.50743103027344, 83.8067855834961, 141.45458984375, 104.4743881225586, 124.97891235351562, 132.089599609375, 231.89468383789062, 98.83039855957031, 228.09178161621094, 157.5723114013672, 151.13999938964844, 299.378662109375, 116.41852569580078, 200.8743438720703, 291.1053161621094, 176.6259307861328, 102.53294372558594, 130.75338745117188, 156.30665588378906, 181.8882598876953, 211.68710327148438, 114.18143463134766, 140.2888641357422, 267.7843017578125, 165.5543670654297, 157.13645935058594, 213.3418731689453, 167.4488525390625, 84.12484741210938, 132.64207458496094, 126.59281921386719, 211.1139373779297, 192.54690551757812, 182.76271057128906, 122.95092010498047, 112.25074005126953, 204.53456115722656, 67.54192352294922, 229.88587951660156, 63.4135627746582, 87.62316131591797, 135.5013885498047, 244.26760864257812, 149.11001586914062, 110.25980377197266, 174.53564453125, 239.62757873535156, 130.56541442871094, 116.9365005493164, 123.06024932861328, 123.86431121826172, 103.86363983154297, 121.51154327392578, 170.57228088378906, 153.75784301757812, 69.31149291992188, 90.36841583251953, 193.59909057617188, 163.81788635253906, 150.28530883789062, 146.37051391601562, 197.6677703857422, 180.0909423828125, 163.50852966308594, 163.26071166992188, 96.61486053466797, 158.97811889648438, 107.27882385253906, 139.85731506347656, 128.574462890625, 103.88706970214844, 163.41929626464844, 103.02228546142578, 481.4023742675781, 125.77691650390625, 138.46160888671875, 135.92706298828125, 213.12815856933594, 104.15575408935547, 187.892578125, 132.432373046875, 293.41253662109375, 201.5692138671875, 102.02859497070312, 360.6644592285156, 172.96002197265625, 98.8082504272461, 206.5087432861328, 183.52964782714844, 186.3583984375, 152.33689880371094, 252.53033447265625, 435.31121826171875, 135.96978759765625, 90.65158081054688, 224.3354949951172, 82.32022857666016, 216.70909118652344, 130.16848754882812, 165.4762420654297, 180.07650756835938, 114.6985855102539, 136.5962371826172, 133.0183563232422, 65.5023193359375, 225.72914123535156, 191.29788208007812, 104.44062042236328, 188.30003356933594, 83.16487121582031, 185.67230224609375, 67.71538543701172, 78.72698211669922, 260.80865478515625, 84.38402557373047, 107.87216186523438, 138.1590118408203, 228.4169921875, 269.1503601074219, 228.53106689453125, 242.04251098632812, 164.09197998046875, 97.82880401611328, 265.5409240722656, 228.39761352539062, 112.44178009033203, 114.09239959716797, 213.284423828125, 106.70543670654297, 151.1883087158203, 301.80517578125, 136.6949462890625, 274.0984191894531, 191.45677185058594, 116.39949035644531, 79.02534484863281, 240.244140625, 185.82810974121094, 93.80375671386719, 188.34225463867188, 105.93302154541016, 128.6295928955078, 190.0008087158203, 149.2600555419922, 158.4077911376953, 162.79730224609375, 200.4801788330078, 143.06427001953125, 190.29141235351562, 237.53488159179688, 103.29776000976562, 122.2942886352539, 74.90525817871094, 118.3724136352539, 114.70465087890625, 135.0924835205078, 97.6530990600586, 90.34587860107422, 112.54776763916016, 109.20145416259766, 195.19642639160156, 175.73300170898438, 165.22921752929688, 126.05250549316406, 71.09205627441406, 138.35488891601562, 205.69874572753906, 189.80975341796875, 210.35025024414062, 119.1476058959961, 104.39337158203125, 185.33432006835938, 155.01678466796875, 281.7843017578125, 189.2489776611328, 113.91446685791016, 132.59811401367188, 272.450439453125, 137.6556854248047, 389.4431457519531, 144.78346252441406, 140.7216796875, 106.19267272949219, 106.9622802734375, 64.07769012451172, 90.87325286865234, 201.4020538330078, 173.923095703125, 113.59211730957031, 161.08482360839844, 156.79209899902344, 150.03863525390625, 108.64618682861328, 198.86854553222656, 99.99313354492188, 57.73991394042969, 106.61912536621094, 119.11482238769531, 201.2832794189453, 458.21343994140625, 51.17498016357422, 139.56040954589844, 73.83195495605469, 166.6737518310547, 132.12197875976562, 147.09475708007812, 152.5965118408203, 156.76339721679688, 225.75563049316406, 119.20523071289062, 70.07713317871094, 247.93943786621094, 140.02508544921875, 131.56961059570312, 140.75489807128906, 67.24092102050781, 195.8953857421875, 150.12423706054688, 254.0905303955078, 171.68499755859375, 87.65508270263672, 193.19297790527344, 169.00247192382812, 51.223819732666016, 74.99492645263672, 112.04816436767578, 98.54978942871094, 146.32411193847656, 118.85310363769531, 65.22065734863281, 115.32575225830078, 282.2339782714844, 148.14158630371094, 168.45440673828125, 200.09588623046875, 273.754638671875, 115.85018920898438, 171.91224670410156, 93.30693054199219, 124.1692123413086, 96.6738052368164, 132.0171356201172, 161.2984161376953, 114.91165161132812, 178.849609375, 226.81533813476562, 110.3224868774414, 93.17333221435547, 120.12831115722656, 177.5289764404297, 125.77398681640625, 178.1144561767578, 114.8358383178711, 191.44993591308594, 176.44090270996094, 120.06314849853516, 260.60687255859375, 138.13424682617188, 205.60000610351562, 175.77658081054688, 180.11068725585938, 62.202362060546875, 264.86865234375, 173.96298217773438, 153.77566528320312, 130.7035675048828, 196.93922424316406, 94.41504669189453, 189.24644470214844, 113.22433471679688, 168.6046905517578, 129.2931671142578, 130.83445739746094, 252.71728515625, 99.51248931884766, 64.59281921386719, 186.5342559814453, 239.3427734375, 201.5934295654297, 135.0327911376953, 122.8879165649414, 84.82298278808594, 190.2090301513672, 106.76263427734375, 96.65071105957031, 110.63440704345703, 98.56609344482422, 181.6459197998047, 208.96463012695312, 195.93125915527344, 160.97372436523438, 143.92922973632812, 102.84677124023438, 169.23545837402344, 183.05374145507812, 75.22615051269531, 174.79481506347656, 73.11776733398438, 127.19426727294922, 137.94808959960938, 172.42288208007812, 316.6331481933594, 230.14088439941406, 140.3396453857422, 228.24813842773438, 150.6309814453125, 234.43247985839844, 173.4154510498047, 52.93815231323242, 96.53707885742188, 89.97297668457031, 66.48324584960938, 75.62908935546875, 272.17254638671875, 210.18560791015625, 238.1088104248047, 147.91690063476562, 199.14744567871094, 246.79530334472656, 141.72531127929688, 247.5346221923828, 226.50137329101562, 185.09498596191406, 114.1905288696289, 290.83502197265625, 173.20101928710938, 160.173583984375, 156.7042694091797, 189.2150421142578, 229.67013549804688, 92.28040313720703, 108.785888671875, 252.91848754882812, 110.18201446533203, 129.19216918945312, 145.4505157470703, 203.64010620117188, 216.19395446777344, 127.92776489257812, 134.83718872070312, 65.0054931640625, 112.6750259399414, 161.23513793945312, 274.8934326171875, 95.87109375, 105.37330627441406, 191.17259216308594, 89.40084838867188, 103.93240356445312, 66.18070983886719, 87.42642211914062, 55.36541748046875, 152.76788330078125, 331.341064453125, 109.86534118652344, 230.93226623535156, 95.50232696533203, 147.0625, 110.2917709350586, 244.1103973388672, 280.7392578125, 196.82937622070312, 137.07940673828125, 86.11439514160156, 154.58790588378906, 134.0905303955078, 149.4178466796875, 236.2653045654297, 143.4933319091797, 88.03362274169922, 109.8658676147461, 343.34576416015625, 263.87176513671875, 145.4747314453125, 114.16548156738281, 155.33316040039062, 204.21685791015625, 176.78517150878906, 102.47840118408203, 262.54864501953125, 106.08330535888672, 237.0939178466797, 82.76944732666016, 151.38986206054688, 280.1777038574219, 182.10511779785156, 236.31443786621094, 150.15301513671875, 135.2267303466797, 108.41464233398438, 91.94364929199219, 84.4385986328125, 76.7431869506836, 139.49041748046875, 249.55470275878906, 118.72628021240234, 148.34170532226562, 61.27913284301758, 116.78064727783203, 86.87533569335938, 100.81219482421875, 226.09962463378906, 200.62814331054688, 60.13089370727539, 184.18673706054688, 202.74378967285156, 83.20219421386719, 155.7860870361328, 108.01612854003906, 257.788818359375, 156.99169921875, 164.18966674804688, 140.30860900878906, 114.93356323242188, 147.0235137939453, 211.52615356445312, 209.31227111816406, 191.68084716796875, 206.31544494628906, 123.81523895263672, 150.8832244873047, 279.7171936035156, 104.30992889404297, 153.50473022460938, 182.831298828125, 59.0792236328125, 163.95863342285156, 301.46112060546875, 231.68325805664062, 77.86486053466797, 192.91725158691406, 241.030029296875, 167.25534057617188, 71.94801330566406, 162.2255859375, 165.02914428710938, 145.47494506835938, 150.23458862304688, 295.5321044921875, 131.7552032470703, 320.003662109375, 143.20050048828125, 300.4266357421875, 236.9189453125, 153.25204467773438, 108.75835418701172, 90.323486328125, 210.32215881347656, 155.43511962890625, 99.57400512695312, 173.6205596923828, 228.64027404785156, 166.12579345703125, 166.996826171875, 123.62545776367188, 131.77944946289062, 96.49000549316406, 256.4131774902344, 296.6913146972656, 98.90229034423828, 56.194454193115234, 214.72653198242188, 92.20276641845703, 154.48841857910156, 219.65306091308594, 225.31642150878906, 181.85035705566406, 215.63571166992188, 106.9144515991211, 130.28492736816406, 154.97604370117188, 121.74607849121094, 85.94821166992188, 136.25938415527344, 218.4427947998047, 134.37722778320312, 229.19435119628906, 156.2585906982422, 75.87030029296875, 154.19911193847656, 77.85018920898438, 374.1000671386719, 145.02093505859375, 92.49053192138672, 215.21188354492188, 154.96792602539062, 187.21315002441406, 147.51760864257812, 216.74813842773438, 95.90204620361328, 183.2632598876953, 119.35868072509766, 243.62176513671875, 146.49124145507812, 101.32294464111328, 92.65809631347656, 129.3527374267578, 71.6162338256836, 126.58473205566406, 178.229248046875, 165.52120971679688, 90.26579284667969, 155.38352966308594, 147.92120361328125, 231.64427185058594, 109.65023803710938, 143.51324462890625, 138.82965087890625, 101.501953125, 193.98748779296875, 151.41433715820312, 81.5738525390625, 179.32501220703125, 132.68704223632812, 116.16727447509766, 181.60824584960938, 201.18991088867188, 183.25863647460938, 166.586181640625, 125.19119262695312, 115.19219970703125, 147.67884826660156, 207.56964111328125, 121.5633544921875, 199.3037109375, 98.29401397705078, 72.85493469238281, 166.5090789794922, 103.45574188232422, 189.15875244140625, 136.17599487304688, 262.8372802734375, 147.92608642578125, 85.00482940673828, 153.60044860839844, 183.0834197998047, 291.6911315917969, 62.27709197998047, 243.37399291992188, 171.1674041748047, 338.6391296386719, 198.5842742919922, 188.45570373535156, 251.78640747070312, 408.70196533203125, 118.84772491455078, 212.10256958007812, 144.67889404296875, 63.92613220214844, 143.1548309326172, 165.80931091308594, 125.09834289550781, 143.72952270507812, 223.25013732910156, 170.6519317626953, 287.0155334472656, 110.34016418457031, 123.16949462890625, 135.54635620117188, 108.93876647949219, 126.98676300048828, 193.3605194091797, 69.48595428466797, 167.92340087890625, 211.0697479248047, 220.2100372314453, 121.88624572753906, 163.0357208251953, 150.36581420898438, 72.14238739013672, 168.51087951660156, 180.94110107421875, 326.2073669433594, 161.37327575683594, 297.4720153808594, 82.79495239257812, 168.46090698242188, 121.38842010498047, 232.4591064453125, 204.8832244873047, 218.85995483398438, 118.4948501586914, 207.0823516845703, 171.09925842285156, 172.92555236816406, 133.34326171875, 64.49857330322266, 113.7198486328125, 206.81521606445312, 143.45700073242188, 51.816497802734375, 79.56854248046875, 143.81631469726562, 164.85145568847656, 286.60430908203125, 132.54830932617188, 133.1365203857422, 109.88693237304688, 203.08738708496094, 138.78125, 154.7441864013672, 142.58218383789062, 440.2535400390625, 97.36959838867188, 133.17823791503906, 122.6026382446289, 165.79541015625, 213.32366943359375, 97.64321899414062, 121.03533935546875, 121.34651947021484, 127.81483459472656, 154.3855438232422, 221.52989196777344, 79.50657653808594, 183.9562530517578, 172.32449340820312, 120.57968139648438, 162.2813720703125, 227.16656494140625, 122.0251693725586, 85.48251342773438, 153.66717529296875, 102.36656188964844, 234.64732360839844, 148.85072326660156, 65.71968841552734, 66.14897155761719, 151.3102569580078, 77.41788482666016, 109.5584716796875, 73.62222290039062, 166.51979064941406, 106.64627838134766, 100.07579803466797, 102.55133056640625, 256.9884948730469, 176.49359130859375, 173.8221893310547, 116.42257690429688, 81.52042388916016, 88.5521011352539, 111.50814056396484, 200.7928466796875, 350.2176818847656, 164.96934509277344, 140.25247192382812, 148.97755432128906, 76.89435577392578, 75.97093963623047, 112.48719024658203, 123.5083236694336, 149.8177947998047, 106.6082992553711, 185.41917419433594, 47.36384201049805, 216.98887634277344, 211.08111572265625, 241.9368133544922, 202.9187469482422, 147.68673706054688, 136.61329650878906, 86.93161010742188, 193.87596130371094, 151.66282653808594, 143.36953735351562, 89.70985412597656, 157.26771545410156, 272.2674255371094, 98.3884506225586, 242.26109313964844, 131.7587890625, 191.84634399414062, 113.9599380493164, 81.49105072021484, 180.32913208007812, 128.71820068359375, 112.46670532226562, 75.20915222167969, 150.39498901367188, 112.80975341796875, 192.95672607421875, 254.3258056640625, 167.74574279785156, 208.0480499267578, 141.87420654296875, 131.1193084716797, 151.2506103515625, 171.938720703125, 164.08995056152344, 75.96702575683594, 176.75332641601562, 95.11531066894531, 106.02873229980469, 180.00328063964844, 161.84628295898438, 138.95957946777344, 157.99462890625, 95.33658599853516, 135.6241912841797, 248.90048217773438, 219.9583740234375, 123.52745819091797, 122.94007873535156, 156.0481719970703, 103.46053314208984, 111.98599243164062, 107.41262817382812, 105.49024200439453, 143.0595703125, 277.69464111328125, 85.6978759765625, 163.93580627441406, 70.50475311279297, 72.26736450195312, 198.52745056152344, 207.01551818847656, 247.9861602783203, 207.53985595703125, 147.34255981445312, 75.5617904663086, 72.64610290527344, 221.22903442382812, 95.21836853027344, 196.90174865722656, 187.7933349609375, 167.46890258789062, 114.31060791015625, 318.6539611816406, 106.78239440917969, 69.66935729980469, 163.84718322753906, 266.6434020996094, 224.2722930908203, 183.7841339111328, 54.26472091674805, 281.1117858886719, 111.14280700683594, 185.0849151611328, 132.98956298828125, 175.38140869140625, 121.45436096191406, 126.2031021118164, 163.75900268554688, 103.11872100830078, 273.8575134277344, 243.53651428222656, 156.57640075683594, 203.3654022216797, 228.840087890625, 99.751220703125, 211.30316162109375, 272.5658264160156, 270.3874206542969, 122.79671478271484, 90.59202575683594, 249.25892639160156, 306.54168701171875, 224.76551818847656, 138.25047302246094, 72.47694396972656, 187.1173858642578, 234.81982421875, 218.33949279785156, 138.85440063476562, 121.05467224121094, 102.97047424316406, 123.84795379638672, 115.77828979492188, 262.85906982421875, 143.41848754882812, 213.01547241210938, 263.76019287109375, 177.59568786621094, 179.88563537597656, 129.11666870117188, 113.78858184814453, 124.98999786376953, 232.6215362548828, 134.92677307128906, 131.49717712402344, 108.85930633544922, 285.7388610839844, 64.9415512084961, 157.00755310058594, 120.54104614257812, 176.72340393066406, 107.01258850097656, 351.5892028808594, 123.64815521240234, 168.2769775390625, 115.26368713378906, 180.05709838867188, 113.72012329101562, 104.78736877441406, 260.30023193359375, 263.3702392578125, 99.86810302734375, 241.82020568847656, 109.6192398071289, 114.7737045288086, 176.5786895751953, 201.56460571289062, 126.59837341308594, 208.14141845703125, 87.14331817626953, 106.3464126586914, 145.9105224609375, 147.30258178710938, 87.78128051757812, 194.56639099121094, 89.53685760498047, 123.70913696289062, 194.86285400390625, 104.46920776367188, 273.5089416503906, 89.8919677734375, 81.95570373535156, 164.19107055664062, 179.27432250976562, 227.0541534423828, 111.43441772460938, 93.87356567382812, 210.9333038330078, 258.6405029296875, 202.19802856445312, 152.27305603027344, 338.86944580078125, 137.11575317382812, 146.109375, 111.43408966064453, 167.4044647216797, 111.57908630371094, 147.03773498535156, 170.6507110595703, 159.6302490234375, 265.5649719238281, 91.90595245361328, 99.33058166503906, 86.8973388671875, 115.94441986083984, 252.47396850585938, 170.670654296875, 137.4853973388672, 150.4442596435547, 121.73673248291016, 244.2538604736328, 106.68976593017578, 109.53887939453125, 187.69216918945312, 176.9044189453125, 64.67091369628906, 74.86583709716797, 137.54283142089844, 182.31834411621094, 159.9478302001953, 153.4066162109375, 81.21903228759766, 120.67745971679688, 288.9490051269531, 153.8452606201172, 52.1872673034668, 347.46820068359375, 237.2130889892578, 138.33819580078125, 393.22515869140625, 134.69207763671875, 98.78361511230469, 248.43235778808594, 215.71839904785156, 273.3164978027344, 143.5342559814453, 153.79949951171875, 99.32376098632812, 131.4517822265625, 100.0237045288086, 150.88250732421875, 144.744384765625, 119.57595825195312, 232.89312744140625, 164.75253295898438, 132.66799926757812, 120.34577178955078, 189.31089782714844, 158.84120178222656, 91.76495361328125, 165.04652404785156, 117.39675903320312, 109.29944610595703, 199.2677001953125, 96.67449188232422, 173.5563201904297, 138.370849609375, 175.59161376953125, 92.40443420410156, 138.9860382080078, 90.15764617919922, 110.64417266845703, 90.15050506591797, 102.77323913574219, 131.21820068359375, 144.39991760253906, 151.60369873046875, 218.31993103027344, 231.77928161621094, 210.08120727539062, 332.61553955078125, 115.30854797363281, 184.7214813232422, 218.25547790527344, 205.37445068359375, 130.01011657714844, 89.10986328125, 114.82630920410156, 180.66384887695312, 201.2649383544922, 141.38059997558594, 153.37734985351562, 126.70399475097656, 100.35807800292969, 122.91393280029297, 105.19328308105469, 61.7768669128418, 163.36256408691406, 127.72222900390625, 140.57962036132812, 101.27753448486328, 205.6996307373047, 117.93206787109375, 193.96556091308594, 68.36132049560547, 183.15292358398438, 177.83169555664062, 148.99502563476562, 193.88438415527344, 101.23529052734375, 170.5413818359375, 151.08358764648438, 186.4327850341797, 164.74632263183594, 145.5894317626953, 170.00064086914062, 149.2940673828125, 144.4972381591797, 177.86537170410156, 183.86170959472656, 193.5831298828125, 283.5421447753906, 148.98635864257812, 223.5701446533203, 231.93008422851562, 136.57057189941406, 177.39283752441406, 83.07894134521484, 145.880126953125, 185.260009765625, 99.74569702148438, 193.67323303222656, 129.36611938476562, 191.05796813964844, 117.58706665039062, 131.9390411376953, 167.44821166992188, 184.95620727539062, 192.33575439453125, 106.19181823730469, 92.00293731689453, 143.33323669433594, 67.7686538696289, 196.52635192871094, 87.65742492675781, 170.79147338867188, 202.5923614501953, 331.1869201660156, 188.91879272460938, 103.41850280761719, 202.5572052001953, 162.61793518066406, 193.78445434570312, 185.02032470703125, 124.0118179321289, 410.30841064453125, 86.77191925048828, 155.204345703125, 164.61793518066406, 176.06942749023438, 129.80397033691406, 153.6835174560547, 151.35232543945312, 84.47895812988281, 96.85333251953125, 148.32211303710938, 79.33320617675781, 185.0492706298828, 144.60275268554688, 91.416259765625, 116.94107055664062, 103.4722671508789, 186.67909240722656, 96.33879852294922, 115.9117431640625, 254.74392700195312, 115.88936614990234, 183.63204956054688, 255.29905700683594, 160.63986206054688, 169.64207458496094, 132.9122314453125, 81.88851928710938, 185.6584930419922, 99.27153778076172, 119.49365234375, 239.7797088623047, 183.29376220703125, 74.36860656738281, 255.7207489013672, 73.18002319335938, 282.7120056152344, 109.85193634033203, 229.99343872070312, 174.64793395996094, 116.44866943359375, 145.4681396484375, 355.3365783691406, 112.70931243896484, 180.18310546875, 119.93599700927734, 228.00489807128906, 182.57394409179688, 122.07488250732422, 154.33917236328125, 95.0030746459961, 245.24069213867188, 170.26600646972656, 224.71566772460938, 157.54249572753906, 106.24271392822266, 96.6973648071289, 309.095458984375, 82.1167984008789, 96.38570404052734, 109.6261978149414, 367.0339050292969, 69.97972869873047, 199.1879119873047, 110.22541809082031, 215.08702087402344, 291.7294921875, 155.89688110351562, 144.6362762451172, 614.532470703125, 48.85356521606445, 73.86784362792969, 172.8769989013672, 152.62962341308594, 264.8559265136719, 362.98516845703125, 215.2490234375, 142.97276306152344, 114.15068054199219, 134.50326538085938, 259.67431640625, 132.18569946289062, 176.27684020996094, 114.7085952758789, 136.4642791748047, 103.5040054321289, 194.04678344726562, 112.8458480834961, 292.2158203125, 87.78684997558594, 123.00534057617188, 82.5236587524414, 218.30679321289062, 109.90888977050781, 157.0004425048828, 177.1202392578125, 224.97653198242188, 183.05740356445312, 147.82391357421875, 572.5573120117188, 99.99237060546875, 164.41819763183594, 91.96666717529297, 164.83009338378906, 156.32118225097656, 141.36900329589844, 134.7790069580078, 137.4743194580078, 93.50579833984375, 167.78982543945312, 98.93238067626953, 107.0256576538086, 210.24676513671875, 145.51129150390625, 191.1393280029297, 182.46688842773438, 107.4339828491211, 219.95262145996094, 143.85238647460938, 141.41639709472656, 281.4947509765625, 142.71119689941406, 188.2525634765625, 212.85556030273438, 144.21412658691406, 107.46282958984375, 99.91911315917969, 172.3466033935547, 360.35003662109375, 166.1977996826172, 168.37770080566406, 145.2928924560547, 69.141357421875, 88.40747833251953, 65.82372283935547, 149.11863708496094, 130.53907775878906, 94.52851104736328, 126.12718963623047, 98.70790100097656, 163.9599609375, 215.09872436523438, 303.6517028808594, 153.84629821777344, 100.52091979980469, 138.76048278808594, 249.7420654296875, 79.12401580810547, 226.41217041015625, 215.85751342773438, 171.33888244628906, 73.96611022949219, 97.74641418457031, 208.8593292236328, 159.1226806640625, 142.68460083007812, 262.60638427734375, 278.45880126953125, 170.8357696533203, 283.9388427734375, 154.2019805908203, 138.28529357910156, 130.1522979736328, 147.14547729492188, 166.787353515625, 318.7627868652344, 178.67198181152344, 91.00655364990234, 180.48284912109375, 133.49314880371094, 186.45465087890625, 143.87310791015625, 155.37962341308594, 158.7111358642578, 212.04563903808594, 147.55523681640625, 309.1571044921875, 113.37068939208984, 125.96183776855469, 124.38331604003906, 339.2469482421875, 258.95367431640625, 97.33358001708984, 247.24253845214844, 129.67324829101562, 143.23492431640625, 212.0494842529297, 135.3551788330078, 235.02816772460938, 138.44879150390625, 187.30299377441406, 309.2955322265625, 115.75344848632812, 149.31736755371094, 79.3785400390625, 108.84073638916016, 107.209228515625, 104.62635040283203, 71.09456634521484, 124.18224334716797, 110.84996032714844, 315.8523254394531, 120.98571014404297, 196.12698364257812, 154.7953338623047, 110.89637756347656, 72.76151275634766, 111.07372283935547, 151.20458984375, 140.98866271972656, 130.70083618164062, 137.8235626220703, 169.9673309326172, 192.368408203125, 157.0099639892578, 192.467041015625, 167.93917846679688, 305.6073303222656, 140.93528747558594, 184.49639892578125, 94.44570922851562, 181.77572631835938, 245.9561309814453, 74.84010314941406, 180.506103515625, 358.69451904296875, 144.01620483398438, 186.12066650390625, 158.8533935546875, 335.3577880859375, 152.53663635253906, 134.1166229248047, 190.18028259277344, 141.49134826660156, 184.0845184326172, 95.32403564453125, 269.64300537109375, 90.81200408935547, 152.42787170410156, 87.08736419677734, 171.17971801757812, 175.97601318359375, 118.82987213134766, 193.91812133789062, 93.95462036132812, 244.54788208007812, 140.99424743652344, 86.06919860839844, 114.74492645263672, 225.7467041015625, 200.4396514892578, 234.8381805419922, 81.62374114990234, 263.9292907714844, 169.65049743652344, 131.09744262695312, 95.32103729248047, 155.0811767578125, 129.5181427001953, 233.40553283691406, 88.59420776367188, 292.197265625, 75.03341674804688, 124.37590789794922, 132.7949676513672, 156.335205078125, 116.4764404296875, 184.28819274902344, 150.68162536621094, 135.21763610839844, 133.00579833984375, 133.26678466796875, 177.7526092529297, 88.84007263183594, 94.63323211669922, 206.46681213378906, 193.5204620361328, 132.42637634277344, 152.98606872558594, 229.4372100830078, 285.05206298828125, 93.9158706665039, 156.33155822753906, 181.8514862060547, 124.98070526123047, 160.439453125, 164.36434936523438, 90.02717590332031, 125.18319702148438, 140.03695678710938, 221.1708221435547, 193.645263671875, 175.70501708984375, 95.30162811279297, 157.06747436523438, 85.26158905029297, 148.50221252441406, 152.9553680419922, 76.45404815673828, 113.73242950439453, 156.2617950439453, 147.0136260986328, 139.3218994140625, 138.6100311279297, 96.45338439941406, 119.43286895751953, 132.50576782226562, 189.65440368652344, 274.15618896484375, 65.3449935913086, 103.35441589355469, 195.9127655029297, 141.0152130126953, 122.84906768798828, 156.80667114257812, 65.01827239990234, 217.688720703125, 356.9507141113281, 89.19157409667969, 108.039306640625, 131.77606201171875, 120.07693481445312, 189.46151733398438, 335.2196350097656, 115.12109375, 137.3148651123047, 95.84019470214844, 147.31515502929688, 93.98827362060547, 113.01903533935547, 83.43182373046875, 136.9598388671875, 267.36083984375, 170.46188354492188, 126.40348052978516, 95.3946533203125, 165.8323974609375, 222.85659790039062, 181.57196044921875, 121.25508117675781, 72.55968475341797, 115.15546417236328, 132.0013885498047, 226.8749237060547, 66.12235260009766, 194.48086547851562, 149.77951049804688, 140.55221557617188, 222.19956970214844, 170.56089782714844, 184.25050354003906, 201.50146484375, 128.09353637695312, 197.7435760498047, 124.29995727539062, 250.61004638671875, 215.39637756347656, 181.77294921875, 58.9793586730957, 150.36293029785156, 178.74237060546875, 127.98579406738281, 177.03512573242188, 68.13184356689453, 119.39312744140625, 198.02513122558594, 134.45164489746094, 109.09528350830078, 339.5141296386719, 161.79898071289062, 129.1346435546875, 243.94039916992188, 39.73525619506836, 103.8608169555664, 264.6094970703125, 58.40806198120117, 54.63554763793945, 240.6198272705078, 106.7441635131836, 218.5048828125, 130.22232055664062, 252.94850158691406, 73.29167175292969, 190.88357543945312, 87.06631469726562, 135.44537353515625, 159.27442932128906, 62.09851837158203, 130.2318878173828, 80.70295715332031, 121.05548095703125, 255.52719116210938, 145.67117309570312, 91.6106185913086, 368.4916687011719, 174.37733459472656, 82.96753692626953, 215.0692901611328, 79.18206787109375, 183.6494903564453, 106.19570922851562, 189.8977508544922, 106.2953109741211, 105.66931915283203, 138.65081787109375, 117.37345886230469, 114.81706237792969, 69.35417938232422, 90.91494750976562, 397.1673889160156, 213.0095977783203, 124.60338592529297, 146.1881866455078, 141.0711669921875, 104.88159942626953, 163.71035766601562, 112.3017578125, 204.6329803466797, 194.31455993652344, 115.66881561279297, 197.95858764648438, 244.83282470703125, 88.63156127929688, 354.5066223144531, 141.74478149414062, 163.64854431152344, 117.0289306640625, 124.74920654296875, 90.86038208007812, 116.12805938720703, 115.85958099365234, 172.12953186035156, 176.06396484375, 306.3274841308594, 125.00692749023438, 215.57403564453125, 232.93521118164062, 119.6005859375, 178.5314483642578, 80.65386962890625, 104.09637451171875, 152.92108154296875, 186.26332092285156, 152.52304077148438, 119.49154663085938, 86.63862609863281, 131.19467163085938, 246.64199829101562, 124.96026611328125, 84.3156509399414, 117.55611419677734, 139.0023956298828, 176.0393829345703, 226.91075134277344, 103.0650405883789, 205.344482421875, 140.79449462890625, 97.29000854492188, 155.686279296875, 169.11630249023438, 455.4903869628906, 156.31851196289062, 77.06049346923828, 213.30210876464844, 222.43724060058594, 143.64401245117188, 143.32749938964844, 183.64878845214844, 192.77481079101562, 131.4949188232422, 106.23136901855469, 280.1166687011719, 83.98480987548828, 135.6727752685547, 339.3477478027344, 98.17695617675781, 181.89207458496094, 167.66697692871094, 150.38882446289062, 129.65025329589844, 157.30918884277344, 246.6817626953125, 68.02656555175781, 235.73526000976562, 155.89117431640625, 155.09677124023438, 137.86978149414062, 172.41827392578125, 159.49679565429688, 191.3273468017578, 81.43941497802734, 124.15707397460938, 103.67471313476562, 121.42101287841797, 112.21531677246094, 177.02381896972656, 109.27693176269531, 70.65791320800781, 133.15931701660156, 104.16349792480469, 99.81939697265625, 211.2259063720703, 79.11455535888672, 262.3251647949219, 151.39671325683594, 99.36246490478516, 384.50262451171875, 195.50802612304688, 151.81666564941406, 164.48350524902344, 187.2845001220703, 210.11207580566406, 130.4240264892578, 200.27658081054688, 179.1480255126953, 218.05950927734375, 206.6710968017578, 158.17117309570312, 112.80614471435547, 197.67681884765625, 135.144287109375, 116.45323181152344, 176.0060577392578, 82.89311218261719, 172.986328125, 232.58770751953125, 173.06173706054688, 148.74720764160156, 129.78089904785156, 149.6339569091797, 540.0726928710938, 231.46041870117188, 155.09640502929688, 240.54171752929688, 134.47119140625, 199.76202392578125, 261.89434814453125, 134.71546936035156, 113.88362884521484, 140.15768432617188, 81.2552490234375, 130.82579040527344, 252.51478576660156, 156.15646362304688, 134.3820343017578, 128.60714721679688, 175.26937866210938, 99.51504516601562, 182.3592071533203, 179.4268035888672, 148.0811309814453, 104.88969421386719, 100.23086547851562, 122.20760345458984, 140.80442810058594, 222.74472045898438, 132.761474609375, 110.8257064819336, 131.66055297851562, 60.81217575073242, 222.7806396484375, 129.06951904296875, 91.2770004272461, 120.55770874023438, 279.79736328125, 192.35208129882812, 86.84564208984375, 144.16043090820312, 91.10072326660156, 63.82844924926758, 77.98472595214844, 252.14527893066406, 345.9642639160156, 137.6419677734375, 243.44363403320312, 164.81869506835938, 165.0774688720703, 295.9321594238281, 147.0890655517578, 137.6494598388672, 115.8287124633789, 155.9641876220703, 421.5422668457031, 129.64561462402344, 138.74659729003906, 431.53948974609375, 128.75048828125, 149.98777770996094, 168.1268310546875, 81.94468688964844, 48.444496154785156, 161.62063598632812, 114.20338439941406, 201.81590270996094, 216.96788024902344, 158.39102172851562, 159.5266876220703, 330.63116455078125, 112.84638977050781, 207.55340576171875, 163.54307556152344, 103.0384521484375, 222.58876037597656, 95.85797119140625, 145.24717712402344, 137.73455810546875, 285.2067565917969, 94.06278991699219, 179.66592407226562, 232.8604736328125, 113.04366302490234, 116.81551361083984, 126.39546203613281, 211.93707275390625, 80.93383026123047, 211.1767578125, 71.87791442871094, 152.2543182373047, 155.0706024169922, 107.86006927490234, 66.58121490478516, 182.1833038330078, 284.1813049316406, 101.5714340209961, 167.0900115966797, 166.0877685546875, 91.90152740478516, 289.0964660644531, 191.56736755371094, 186.1710662841797, 268.71728515625, 155.77932739257812, 77.97498321533203, 173.0472869873047, 243.20126342773438, 90.05147552490234, 118.29911804199219, 144.7633819580078, 294.2746887207031, 167.7559051513672, 71.0810775756836, 112.91006469726562, 109.66891479492188, 100.96695709228516, 123.80107116699219, 115.74699401855469, 251.8725128173828, 151.70913696289062, 217.73980712890625, 258.4312744140625, 99.35369873046875, 222.34901428222656, 183.96676635742188, 161.64569091796875, 113.1845474243164, 157.3728790283203, 198.05422973632812, 251.444580078125, 79.88971710205078, 78.55020904541016, 275.74847412109375, 205.42849731445312, 178.5889434814453, 140.69638061523438, 175.56991577148438, 128.4693603515625, 101.17805480957031, 158.86212158203125, 210.20875549316406, 102.34166717529297, 381.2754211425781, 90.16439056396484, 172.7096405029297, 129.50807189941406, 80.2373275756836, 59.5580940246582, 216.10252380371094, 90.570556640625, 159.25694274902344, 95.13136291503906, 167.65802001953125, 154.3894500732422, 213.6687774658203, 45.57014465332031, 249.0756072998047, 127.13338470458984, 113.88710021972656, 146.68382263183594, 144.8570098876953, 53.95353317260742, 202.40330505371094, 172.5803985595703, 149.19735717773438, 402.9433898925781, 126.99687194824219, 276.96136474609375, 187.20834350585938, 263.16033935546875, 123.71898651123047, 134.9506378173828, 88.07842254638672, 44.48103713989258, 177.22805786132812, 93.21216583251953, 199.28329467773438, 139.0938262939453, 241.31808471679688, 84.35236358642578, 146.83966064453125, 81.37063598632812, 114.33338928222656, 87.959228515625, 137.27505493164062, 334.3215637207031, 119.87498474121094, 115.88655090332031, 128.3310546875, 177.40602111816406, 150.72071838378906, 80.17024230957031, 194.02114868164062, 90.90869903564453, 256.53057861328125, 168.55331420898438, 173.5727996826172, 82.2608642578125, 152.5858154296875, 117.72406768798828, 124.52040100097656, 153.5878448486328, 161.62232971191406, 148.49449157714844, 479.2882995605469, 174.68458557128906, 86.03953552246094, 136.4811248779297, 213.57171630859375, 207.03436279296875, 79.52962493896484, 104.11408996582031, 165.78219604492188, 204.1860809326172, 86.79732513427734, 68.37547302246094, 168.01463317871094, 153.79464721679688, 84.6401596069336, 157.14349365234375, 190.42446899414062, 146.78680419921875, 191.07135009765625, 245.459716796875, 127.7750473022461, 125.77536010742188, 131.30581665039062, 57.664772033691406, 131.46946716308594, 122.00120544433594, 128.0421142578125, 91.28949737548828, 169.2219696044922, 168.28517150878906, 137.52435302734375, 168.7842254638672, 174.17962646484375, 551.3571166992188, 140.18975830078125, 107.6712875366211, 199.40895080566406, 165.2526092529297, 199.72915649414062, 183.79376220703125, 145.49069213867188, 137.4071502685547, 184.341552734375, 240.90682983398438, 178.97877502441406, 216.63510131835938, 165.50779724121094, 185.914794921875, 187.096435546875, 119.07876586914062, 116.25133514404297, 113.76964569091797, 74.73115539550781, 136.9802703857422, 135.88275146484375, 114.03425598144531, 123.39282989501953, 111.19692993164062, 150.4028778076172, 246.96258544921875, 161.27151489257812, 56.31492614746094, 131.34027099609375, 140.2676544189453, 238.8319091796875, 144.24081420898438, 136.02783203125, 189.8784637451172, 144.71104431152344, 160.1148681640625, 150.42124938964844, 178.96820068359375, 423.7405700683594, 158.9143829345703, 157.98175048828125, 182.07786560058594, 71.47523498535156, 194.62521362304688, 222.75364685058594, 41.249454498291016, 135.0877227783203, 156.13450622558594, 284.4230041503906, 149.58273315429688, 355.14532470703125, 202.95077514648438, 288.8477478027344, 176.06532287597656, 107.6817626953125, 145.30140686035156, 147.7333526611328, 133.65333557128906, 210.60507202148438, 206.1917266845703, 118.3935775756836, 111.81839752197266, 171.7369842529297, 85.40982818603516, 89.24406433105469, 197.07325744628906, 178.6931915283203, 164.24815368652344, 233.40185546875, 167.7210235595703, 113.0958023071289, 225.21803283691406, 164.2434539794922, 101.15465545654297, 124.68189239501953, 285.65032958984375, 100.933837890625, 255.63467407226562, 124.23394775390625, 86.40849304199219, 128.63572692871094, 127.86720275878906, 98.49369812011719, 104.18580627441406, 169.5264434814453, 211.261962890625, 179.3025360107422, 75.56283569335938, 182.5594940185547, 145.59075927734375, 335.4964599609375, 141.4405517578125, 115.43815612792969, 117.93931579589844, 89.43321228027344, 308.7755126953125, 158.3009490966797, 103.89434814453125, 233.0353240966797, 131.17047119140625, 181.9422149658203, 106.7147445678711, 89.33087921142578, 229.9951934814453, 97.32077026367188, 92.80313110351562, 304.42706298828125, 49.48407745361328, 143.55691528320312, 144.2848358154297, 144.62261962890625, 120.85326385498047, 164.8082275390625, 92.23918151855469, 117.09418487548828, 138.3243408203125, 139.34210205078125, 215.5266571044922, 191.3988037109375, 170.17428588867188, 134.50929260253906, 169.6195068359375, 241.28070068359375, 126.44254302978516, 109.29418182373047, 165.98951721191406, 150.34228515625, 115.56483459472656, 101.02113342285156, 195.04737854003906, 175.5474090576172, 178.30906677246094, 169.3072052001953, 96.33415985107422, 129.13624572753906, 175.2202606201172, 290.3997497558594, 211.36151123046875, 203.49684143066406, 207.33412170410156, 67.07341003417969, 130.16110229492188, 312.79119873046875, 155.02586364746094, 147.63751220703125, 203.02134704589844, 170.51528930664062, 189.82286071777344, 224.93511962890625, 110.53459167480469, 226.93617248535156, 162.07720947265625, 137.65122985839844, 143.0994873046875, 206.0860595703125, 113.20063018798828, 105.04215240478516, 98.32087707519531, 133.58872985839844, 135.3177490234375, 112.23435974121094, 251.52049255371094, 139.73899841308594, 162.12326049804688, 242.58279418945312, 96.79488372802734, 120.33344268798828, 183.48028564453125, 136.4016876220703, 215.96035766601562, 172.31192016601562, 169.96490478515625, 218.5032196044922, 166.17379760742188, 226.38926696777344, 109.73445129394531, 92.72982788085938, 154.88119506835938, 284.67010498046875, 169.37843322753906, 96.77452850341797, 117.86128234863281, 200.31871032714844, 221.62942504882812, 148.9593048095703, 189.08155822753906, 91.88873291015625, 169.9559783935547, 145.10525512695312, 117.74578857421875, 227.5846405029297, 162.3588409423828, 75.66973876953125, 188.40333557128906, 123.62315368652344, 121.2117691040039, 124.52556610107422, 152.10888671875, 279.96124267578125, 164.53591918945312, 257.3248291015625, 240.39344787597656, 153.5804443359375, 70.61843872070312, 136.41586303710938, 190.9403839111328, 174.80323791503906, 126.54803466796875, 112.82513427734375, 73.08722686767578, 200.83795166015625, 104.34141540527344, 147.69137573242188, 176.1664276123047, 90.50239562988281, 143.87550354003906, 82.27616119384766, 101.41956329345703, 186.30996704101562, 139.9879608154297, 152.86000061035156, 161.17556762695312, 95.38959503173828, 88.91105651855469, 94.42796325683594, 170.433349609375, 145.68243408203125, 224.05892944335938, 164.72174072265625, 93.82469177246094, 200.55686950683594, 119.06990814208984, 200.4844970703125, 213.92202758789062, 114.94731903076172, 410.6257019042969, 303.7235412597656, 86.10901641845703, 137.46966552734375, 159.2330322265625, 177.69049072265625, 205.73934936523438, 120.55065155029297, 191.97035217285156, 157.97518920898438, 150.98399353027344, 111.02993774414062, 155.56524658203125, 205.8745880126953, 98.91620635986328, 125.83403015136719, 158.51585388183594, 129.32025146484375, 85.37728881835938, 128.2159423828125, 336.8278503417969, 234.8748016357422, 315.72705078125, 134.03607177734375, 130.50267028808594, 216.7800750732422, 91.2487564086914, 166.98431396484375, 112.32687377929688, 232.5138702392578, 217.76223754882812, 136.65023803710938, 92.20563507080078, 251.63121032714844, 80.13317108154297, 171.95248413085938, 209.59400939941406, 194.06381225585938, 73.81382751464844, 155.77137756347656, 163.14654541015625, 308.14703369140625, 133.4041290283203, 87.89696502685547, 96.64471435546875, 231.57591247558594, 47.368019104003906, 192.54074096679688, 213.85562133789062, 167.84591674804688, 89.81651306152344, 153.8849639892578, 153.42051696777344, 94.34893035888672, 87.37557220458984, 145.2814483642578, 232.23419189453125, 124.15275573730469, 75.52587127685547, 167.41461181640625, 290.9859619140625, 156.05538940429688, 181.89154052734375, 155.91978454589844, 192.317138671875, 222.29315185546875, 207.19248962402344, 142.3234405517578, 182.58499145507812, 106.58151245117188, 118.53022766113281, 127.84208679199219, 104.10635375976562, 127.56379699707031, 169.9111785888672, 78.84148406982422, 194.7862091064453, 126.15076446533203, 311.789306640625, 99.94203186035156, 148.34841918945312, 155.5624237060547, 133.50575256347656, 148.14659118652344, 94.36670684814453, 204.65835571289062, 102.82799530029297, 135.93905639648438, 175.87005615234375, 192.6741943359375, 254.5982208251953, 195.62290954589844, 129.02699279785156, 56.186580657958984, 139.3826446533203, 157.09457397460938, 210.65127563476562, 205.60304260253906, 330.6800537109375, 203.0293731689453, 401.22198486328125, 122.67182159423828, 147.26051330566406, 228.283935546875, 282.264404296875, 153.1646728515625, 202.0582733154297, 96.99240112304688, 230.82470703125, 114.06688690185547, 158.8326416015625, 216.12342834472656, 93.81015014648438, 231.024658203125, 116.43534088134766, 232.28370666503906, 117.9094009399414, 238.82325744628906, 266.746826171875, 136.38848876953125, 242.67626953125, 76.53827667236328, 153.12867736816406, 247.98178100585938, 94.2509536743164, 192.63247680664062, 125.28153991699219, 160.93511962890625, 87.36100006103516, 212.08082580566406, 213.38023376464844, 156.65293884277344, 47.686946868896484, 150.6808319091797, 174.81298828125, 130.1225128173828, 185.01495361328125, 151.33609008789062, 128.35816955566406, 67.30696868896484, 177.96658325195312, 67.4034194946289, 215.40377807617188, 130.3448944091797, 337.96337890625, 117.64264678955078, 94.0184326171875, 136.15541076660156, 199.0288848876953, 131.7658233642578, 194.4227294921875, 92.68995666503906, 113.7609634399414, 184.08163452148438, 268.4494934082031, 252.53538513183594, 81.43340301513672, 67.33804321289062, 92.00930786132812, 125.78459930419922, 84.26548767089844, 269.92547607421875, 192.22499084472656, 106.26445007324219, 180.8724365234375, 124.6424789428711, 99.32357025146484, 112.95584106445312, 196.7638702392578, 188.35499572753906, 123.14466094970703, 104.82209777832031, 52.38285446166992, 162.96336364746094, 103.34776306152344, 195.91294860839844, 139.37957763671875, 176.70706176757812, 213.92140197753906, 418.3852844238281, 162.5185546875, 228.09994506835938, 139.59255981445312, 133.4027862548828, 104.56146240234375, 148.1358642578125, 128.8606719970703, 160.07066345214844, 107.92839813232422, 280.93450927734375, 128.21575927734375, 149.93701171875, 74.1373291015625, 315.1598205566406, 139.68377685546875, 404.5270080566406, 106.39501190185547, 89.0579605102539, 129.36082458496094, 159.1490020751953, 123.16057586669922, 183.86117553710938, 155.0330352783203, 91.63970947265625, 47.89728546142578, 147.45909118652344, 70.88831329345703, 64.20858764648438, 168.1921844482422, 145.37091064453125, 83.88931274414062, 215.65699768066406, 68.6573257446289, 390.8876037597656, 67.66890716552734, 170.0097198486328, 138.1578826904297, 114.8194580078125, 160.0018310546875, 111.3687515258789, 131.10630798339844, 101.13497161865234, 128.8224639892578, 61.14807891845703, 165.4364013671875, 210.77947998046875, 115.14151763916016, 270.517578125, 104.71808624267578, 149.40858459472656, 279.4564208984375, 140.75689697265625, 316.9544677734375, 134.91815185546875, 159.7978057861328, 175.32679748535156, 136.14080810546875, 80.24750518798828, 190.67652893066406, 176.34376525878906, 224.86135864257812, 162.09483337402344, 99.85243225097656, 380.23870849609375, 163.4076690673828, 102.46076202392578, 117.75702667236328, 171.243408203125, 204.4936981201172, 81.86849212646484, 182.88536071777344, 140.029296875, 127.46991729736328, 114.7989273071289, 203.48092651367188, 167.5876007080078, 254.0787811279297, 107.12525939941406, 86.71910095214844, 94.12798309326172, 167.3615264892578, 251.71725463867188, 173.38278198242188, 170.99534606933594, 125.97601318359375, 499.52032470703125, 147.74462890625, 277.5545654296875, 331.6852111816406, 328.54034423828125, 237.26943969726562, 196.94729614257812, 149.91220092773438, 146.53036499023438, 207.54440307617188, 110.13227081298828, 207.18359375, 146.31671142578125, 208.5813446044922, 214.95362854003906, 161.01210021972656, 74.61116790771484, 140.4643096923828, 113.13641357421875, 162.2986297607422, 140.85983276367188, 145.23477172851562, 106.1998062133789, 133.06504821777344, 96.69934844970703, 160.69456481933594, 145.7269744873047, 130.24224853515625, 117.22977447509766, 268.939697265625, 171.70529174804688, 308.5185241699219, 102.09405517578125, 192.41455078125, 359.4969177246094, 304.0984191894531, 162.63095092773438, 81.10761260986328, 92.59635162353516, 180.88485717773438, 207.07958984375, 355.1546325683594, 173.189453125, 175.47593688964844, 112.48676300048828, 206.6492156982422, 251.5092315673828, 101.90310668945312, 129.5010986328125, 123.02557373046875, 140.6636505126953, 441.925048828125, 213.53761291503906, 108.77101135253906, 182.61843872070312, 152.4442901611328, 94.5074234008789, 109.19031524658203, 173.150146484375, 285.2821044921875, 154.6986541748047, 157.0748748779297, 196.10726928710938, 112.45684051513672, 142.62216186523438, 180.96432495117188, 344.6818542480469, 158.89634704589844, 147.05723571777344, 118.21075439453125, 229.64056396484375, 100.80152130126953, 166.30926513671875, 127.81263732910156, 145.084716796875, 86.38241577148438, 223.6131134033203, 186.58299255371094, 221.2822265625, 127.0622329711914, 187.46426391601562, 117.61644744873047, 93.49335479736328, 235.62591552734375, 221.3805694580078, 99.44110107421875, 129.77117919921875, 79.44892883300781, 112.13502502441406, 308.8212890625, 142.08984375, 120.22721862792969, 159.28382873535156, 114.38753509521484, 100.54023742675781, 116.01271057128906, 223.2421417236328, 219.37075805664062, 70.77877807617188, 149.08926391601562, 98.18875122070312, 204.32516479492188, 198.51467895507812, 106.52257537841797, 148.29714965820312, 119.59317779541016, 144.89845275878906, 158.12425231933594, 140.19236755371094, 184.12069702148438, 196.44944763183594, 152.83236694335938, 61.79059600830078, 90.36221313476562, 158.02943420410156, 161.08636474609375, 166.9158477783203, 61.097713470458984, 180.40980529785156, 104.58958435058594, 90.97730255126953, 249.86940002441406, 195.7836151123047, 129.974853515625, 289.3912048339844, 99.8436279296875, 125.08658599853516, 57.45269775390625, 217.60560607910156, 380.1080017089844, 319.5774841308594, 167.36175537109375, 239.8507080078125, 106.14513397216797, 82.40007019042969, 161.6042938232422, 85.93939971923828, 137.37753295898438, 109.33385467529297, 55.015689849853516, 76.17788696289062, 186.21200561523438, 98.76387786865234, 163.9878692626953, 169.07122802734375, 212.67416381835938, 218.9380340576172, 134.62452697753906, 78.43295288085938, 113.91805267333984, 116.78910827636719, 189.77735900878906, 128.6719970703125, 176.21121215820312, 139.85418701171875, 125.88492584228516, 34.941925048828125, 134.1063995361328, 185.744384765625, 53.75715255737305, 171.4448699951172, 247.96368408203125, 174.04296875, 198.99916076660156, 110.85714721679688, 168.54150390625, 118.87792205810547, 152.56114196777344, 145.8543243408203, 117.9795913696289, 120.27647399902344, 104.25135040283203, 150.0588836669922, 222.48147583007812, 172.1666259765625, 292.9924011230469, 179.78196716308594, 164.33660888671875, 110.60798645019531, 142.2886962890625, 167.71543884277344, 161.769287109375, 230.396484375, 88.03438568115234, 113.6962661743164, 82.62245178222656, 249.18833923339844, 166.81129455566406, 164.8092498779297, 145.42604064941406, 156.7666015625, 79.0513916015625, 233.62086486816406, 114.18350219726562, 75.52446746826172, 210.8773956298828, 249.44642639160156, 225.22877502441406, 243.9187774658203, 288.0382080078125, 244.84811401367188, 74.06588745117188, 112.63184356689453, 194.9265899658203, 160.36282348632812, 126.10295104980469, 136.20359802246094, 226.45339965820312, 102.88782501220703, 103.96947479248047, 220.42697143554688, 178.6632843017578, 254.83688354492188, 247.7736358642578, 93.36082458496094, 91.33486938476562, 278.6754455566406, 142.12452697753906, 145.29483032226562, 157.84364318847656, 139.9976348876953, 226.17962646484375, 136.85081481933594, 160.0353240966797, 120.67762756347656, 271.0257568359375, 238.8648223876953, 163.13494873046875, 92.67542266845703, 153.6813201904297, 133.9406280517578, 116.3472671508789, 187.79754638671875, 310.1414794921875, 126.29063415527344, 173.10316467285156, 131.8081817626953, 201.831298828125, 94.92311096191406, 146.34832763671875, 117.62682342529297, 106.05296325683594, 99.76962280273438, 231.5094451904297, 124.61063385009766, 205.1871795654297, 237.03953552246094, 130.30628967285156, 190.17259216308594, 145.64137268066406, 99.51263427734375, 112.31429290771484, 160.3770294189453, 121.71363067626953, 211.03431701660156, 315.4078674316406, 100.14277648925781, 183.73016357421875, 44.560977935791016, 126.70569610595703, 101.91890716552734, 260.331787109375, 174.54429626464844, 177.17945861816406, 170.88465881347656, 125.79827117919922, 111.84414672851562, 151.06802368164062, 216.8544158935547, 235.79270935058594, 145.87838745117188, 240.8203582763672, 355.2778015136719, 250.57337951660156, 63.794700622558594, 157.7014617919922, 99.82630157470703, 122.01749420166016, 382.0191650390625, 212.9956817626953, 198.87669372558594, 118.68338012695312, 86.11563110351562, 114.08815002441406, 79.69540405273438, 63.763771057128906, 131.7807159423828, 199.53868103027344, 86.73907470703125, 96.57917022705078, 155.34664916992188, 132.7032470703125, 195.65286254882812, 128.70094299316406, 218.0846710205078, 90.01017761230469, 35.816585540771484, 103.21287536621094, 218.2515411376953, 150.48602294921875, 93.47985076904297, 57.78825759887695, 238.8176727294922, 79.56892395019531, 178.13357543945312, 211.9361572265625, 74.6669692993164, 180.82449340820312, 303.2296447753906, 263.3256530761719, 111.72783660888672, 173.6298370361328, 95.64507293701172, 96.81071472167969, 92.27701568603516, 104.88289642333984, 178.88510131835938, 145.3353729248047, 128.90325927734375, 245.89503479003906, 188.4139404296875, 290.8756408691406, 187.2446746826172, 137.44293212890625, 109.4056625366211, 197.6474151611328, 114.17876434326172, 132.7528076171875, 80.52452087402344, 206.8826904296875, 150.8469696044922, 159.02513122558594, 187.2625274658203, 152.2080078125, 152.04653930664062, 307.8408203125, 103.29095458984375, 161.41360473632812, 230.5335235595703, 166.4286651611328, 107.10682678222656, 140.6728973388672, 293.2403564453125, 259.5622863769531, 157.84681701660156, 150.3023681640625, 304.03955078125, 149.0726318359375, 148.2679443359375, 108.3444595336914, 92.13601684570312, 127.39590454101562, 136.62156677246094, 109.8446044921875, 178.0175018310547, 87.6180191040039, 137.75332641601562, 128.08737182617188, 117.09294891357422, 230.73533630371094, 64.72002410888672, 65.0602035522461, 101.33037567138672, 228.6798553466797, 158.3860321044922, 124.96973419189453, 77.33837890625, 141.3847198486328, 134.889404296875, 115.21614837646484, 121.38732147216797, 186.98324584960938, 166.11961364746094, 435.1771545410156, 350.332763671875, 175.87969970703125, 109.08992004394531, 83.564208984375, 47.253562927246094, 167.64810180664062, 132.87161254882812, 325.4552307128906, 94.14580535888672, 220.7487335205078, 129.88031005859375, 118.72792053222656, 65.84085845947266, 104.10015106201172, 88.5516357421875, 205.67247009277344, 150.5867462158203, 254.6902618408203, 103.17158508300781, 292.0038146972656, 292.1698303222656, 58.985206604003906, 98.0960922241211, 273.9751892089844, 167.94815063476562, 239.12318420410156, 138.22161865234375, 239.95687866210938, 135.12245178222656, 96.1186294555664, 173.79110717773438, 98.3426284790039, 52.56341552734375, 157.3195343017578, 142.913330078125, 263.77215576171875, 120.49541473388672, 110.70369720458984, 309.3240051269531, 155.36138916015625, 174.70333862304688, 207.9133758544922, 100.62743377685547, 244.32571411132812, 98.03160858154297, 191.60060119628906, 81.90984344482422, 380.98663330078125, 81.09813690185547, 128.21234130859375, 122.85099792480469, 149.82630920410156, 293.5656433105469, 147.91310119628906, 251.88943481445312, 107.9762191772461, 117.27455139160156, 121.40040588378906, 67.87262725830078, 250.23117065429688, 216.73326110839844, 67.88874816894531, 276.56689453125, 90.29256439208984, 76.88849639892578, 177.4278564453125, 88.81686401367188, 129.26290893554688, 225.913818359375, 118.60264587402344, 249.36817932128906, 97.82847595214844, 58.14923095703125, 166.42018127441406, 86.80725860595703, 62.389862060546875, 98.79764556884766, 148.8976593017578, 249.44143676757812, 171.10244750976562, 226.29063415527344, 141.46072387695312, 160.03480529785156, 281.54241943359375, 132.66383361816406, 104.77716827392578, 134.9135284423828, 227.38320922851562, 348.4795227050781, 323.1589660644531, 167.2443389892578, 162.144775390625, 290.37774658203125, 138.80123901367188, 63.37027359008789, 162.58351135253906, 101.15860748291016, 218.2699737548828, 127.14635467529297, 194.4906005859375, 120.47323608398438, 117.56049346923828, 247.69778442382812, 142.96163940429688, 132.77735900878906, 196.98590087890625, 147.11080932617188, 142.02000427246094, 219.97747802734375, 192.61843872070312, 150.08155822753906, 57.67228317260742, 107.43834686279297, 134.62606811523438, 137.04568481445312, 478.8697509765625, 134.3439178466797, 78.71406555175781, 238.7450408935547, 101.68938446044922, 170.43008422851562, 197.889404296875, 212.30068969726562, 265.8251953125, 190.5070343017578, 256.85064697265625, 92.26288604736328, 372.0791015625, 196.6550750732422, 329.2509460449219, 305.0548095703125, 281.81158447265625, 117.09194946289062, 108.01221466064453, 151.4109344482422, 177.52439880371094, 76.32860565185547, 89.52733612060547, 250.44947814941406, 310.01361083984375, 146.08045959472656, 442.8333740234375, 246.21498107910156, 162.93064880371094, 107.28741455078125, 116.33745574951172, 86.42353057861328, 277.41461181640625, 139.30032348632812, 192.67593383789062, 102.45055389404297, 124.5456314086914, 197.9320526123047, 291.9613342285156, 161.44654846191406, 119.1053466796875, 295.63836669921875, 81.52606201171875, 163.34442138671875, 195.5163116455078, 268.829833984375, 100.79609680175781, 153.2261199951172, 126.90425872802734, 114.7320556640625, 80.52478790283203, 145.44886779785156, 325.5155944824219, 145.7167510986328, 153.0399932861328, 180.89512634277344, 186.4186553955078, 142.7289581298828, 144.65931701660156, 181.82374572753906, 180.37522888183594, 70.9917221069336, 79.60228729248047, 282.4216613769531, 49.60483169555664, 91.99579620361328, 219.69747924804688, 143.904052734375, 123.66266632080078, 95.463134765625, 176.4771728515625, 164.76580810546875, 242.7111053466797, 133.12356567382812, 224.9468231201172, 268.6309509277344, 146.71270751953125, 250.32388305664062, 189.3422088623047, 104.02660369873047, 212.9154510498047, 159.47967529296875, 191.6580810546875, 80.37870788574219, 162.22689819335938, 232.21702575683594, 169.73683166503906, 221.28897094726562, 188.34764099121094, 205.9625701904297, 81.05479431152344, 77.95732879638672, 151.5465087890625, 164.55177307128906, 90.1987075805664, 185.87266540527344, 58.24005126953125, 205.09934997558594, 288.2027893066406, 194.6140899658203, 184.8672332763672, 302.59759521484375, 106.02864074707031, 124.73344421386719, 99.6209716796875, 140.12828063964844, 300.21710205078125, 72.6942367553711, 112.20498657226562, 80.67575073242188, 171.1829071044922, 80.08354949951172, 107.69947814941406, 90.89986419677734, 371.179443359375, 157.56893920898438, 170.55992126464844, 137.0033416748047, 125.65666198730469, 94.17516326904297, 123.2842025756836, 96.96891021728516, 117.25096130371094, 122.76164245605469, 133.229248046875, 167.17417907714844, 93.82598876953125, 252.71583557128906, 185.56979370117188, 212.951904296875, 146.05343627929688, 129.0028076171875, 283.2693176269531, 223.4232940673828, 107.15780639648438, 251.36427307128906, 116.65680694580078, 142.35499572753906, 71.40232849121094, 86.73617553710938, 142.64622497558594, 121.04722595214844, 238.0909881591797, 250.20216369628906, 174.3291778564453, 131.9800567626953, 149.54957580566406, 217.3746337890625, 107.20252990722656, 168.23020935058594, 68.74449920654297, 98.99552917480469, 115.55563354492188, 100.75798797607422, 138.92373657226562, 138.6387176513672, 84.8573226928711, 171.77366638183594, 240.17941284179688, 99.94189453125, 160.13189697265625, 58.85307693481445, 114.994140625, 78.7229995727539, 147.0365447998047, 95.2054214477539, 150.18557739257812, 130.20753479003906, 179.72616577148438, 226.33995056152344, 150.05223083496094, 157.8623809814453, 241.814208984375, 113.75233459472656, 108.2379379272461, 296.0202331542969, 198.42391967773438, 311.2696838378906, 244.5462646484375, 122.31539916992188, 205.7206268310547, 219.31544494628906, 206.26300048828125, 137.2672576904297, 122.23395538330078, 104.60973358154297, 83.28217315673828, 99.82325744628906, 250.86087036132812, 95.03270721435547, 98.40886688232422, 131.0734405517578, 122.75391387939453, 177.29296875, 125.96034240722656, 94.85343170166016, 197.94017028808594, 182.7932891845703, 330.4628601074219, 227.1676483154297, 166.6248779296875, 91.05773162841797, 119.31395721435547, 98.57257843017578, 95.27232360839844, 179.48268127441406, 109.8030776977539, 94.15118408203125, 159.6951904296875, 326.1854553222656, 100.71527862548828, 176.62171936035156, 119.23091888427734, 124.94799041748047, 129.3211669921875, 293.7878723144531, 228.33880615234375, 154.33990478515625, 149.25477600097656, 299.7582092285156, 454.7223815917969, 121.97328186035156, 109.3321304321289, 112.85763549804688, 125.25191497802734, 183.1477813720703, 182.06275939941406, 137.57012939453125, 152.0953369140625, 93.20598602294922, 143.50570678710938, 120.78581237792969, 208.8353271484375, 85.37704467773438, 157.14454650878906, 166.76565551757812, 297.81219482421875, 113.69886779785156, 90.78572082519531, 246.7891845703125, 235.67176818847656, 159.86936950683594, 120.22395324707031, 143.36441040039062, 145.7197265625, 158.0203857421875, 250.63992309570312, 173.47772216796875, 171.8052978515625, 115.9109115600586, 187.81768798828125, 114.34178161621094, 109.71943664550781, 128.3598175048828, 150.21194458007812, 106.187255859375, 154.82632446289062, 141.4285430908203, 205.3007049560547, 148.06581115722656, 162.10464477539062, 187.00242614746094, 157.6980743408203, 144.59573364257812, 94.8241195678711, 105.9957275390625, 187.29620361328125, 117.38455200195312, 181.7010040283203, 124.17484283447266, 158.90969848632812, 174.47621154785156, 155.94944763183594, 136.67343139648438, 216.73873901367188, 93.36803436279297, 184.0861053466797, 172.8775634765625, 151.3258514404297, 154.1698455810547, 247.56602478027344, 149.4574737548828, 348.8780822753906, 110.93096923828125, 85.37488555908203, 156.81048583984375, 145.40586853027344, 102.3354721069336, 159.8211212158203, 111.00065612792969, 261.5062561035156, 198.3914794921875, 95.9159927368164, 170.34080505371094, 163.13160705566406, 249.49960327148438, 322.7176513671875, 196.93028259277344, 134.734619140625, 43.558624267578125, 120.52017974853516, 197.37852478027344, 68.54967498779297, 104.9364242553711, 167.9495849609375, 144.2935028076172, 169.90802001953125, 161.86619567871094, 135.53846740722656, 115.32141876220703, 145.14450073242188, 164.9309539794922, 157.95205688476562, 103.97959899902344, 168.40460205078125, 124.81686401367188, 124.0557632446289, 58.69437026977539, 184.85682678222656, 186.08009338378906, 158.5507049560547, 146.86361694335938, 222.89974975585938, 273.9562683105469, 149.427978515625, 125.76799011230469, 130.96534729003906, 178.4969024658203, 147.81051635742188, 176.7244873046875, 259.9516906738281, 131.9525604248047, 97.27818298339844, 107.87226867675781, 60.61137390136719, 136.54934692382812, 87.12686920166016, 402.48883056640625, 219.35726928710938, 133.70701599121094, 134.9571533203125, 108.63182830810547, 114.27490234375, 127.60772705078125, 147.13038635253906, 133.774169921875, 161.46888732910156, 286.3701477050781, 174.91897583007812, 172.5627899169922, 337.0942687988281, 140.26211547851562, 266.46673583984375, 171.95660400390625, 146.11627197265625, 51.68246841430664, 287.8106994628906, 131.27552795410156, 66.12149810791016, 102.08135223388672, 44.738677978515625, 203.51373291015625, 135.86505126953125, 181.82400512695312, 165.77359008789062, 66.69608306884766, 144.259521484375, 82.7480239868164, 196.9962158203125, 131.50953674316406, 134.69195556640625, 198.1307373046875, 156.33169555664062, 153.65875244140625, 213.2901153564453, 119.88624572753906, 130.8647918701172, 77.01563262939453, 227.43914794921875, 90.51288604736328, 188.9127655029297, 199.3279571533203, 139.9788818359375, 71.873291015625, 166.0174560546875, 116.56361389160156, 162.4957733154297, 164.4963836669922, 191.3957977294922, 136.782958984375, 173.21347045898438, 240.8773193359375, 114.87110137939453, 147.6353302001953, 98.56600189208984, 101.0732192993164, 297.3822326660156, 76.75273895263672, 191.54635620117188, 98.66051483154297, 72.83663177490234, 137.6999969482422, 135.87120056152344, 168.88760375976562, 201.67343139648438, 99.87095642089844, 107.73983764648438, 88.35231018066406, 176.9922637939453, 164.72181701660156, 193.80369567871094, 238.3625946044922, 124.46240997314453, 204.08056640625, 133.0349884033203, 120.96834564208984, 113.10334777832031, 117.03919982910156, 71.94242095947266, 165.14918518066406, 140.5510711669922, 88.22802734375, 122.72154998779297, 405.8915100097656, 242.78726196289062, 67.10462951660156, 162.0673065185547, 86.22899627685547, 184.1350860595703, 108.9895248413086, 102.33317565917969, 59.23174285888672, 142.63540649414062, 129.9755401611328, 99.01138305664062, 175.12277221679688, 87.26644134521484, 179.40232849121094, 167.67953491210938, 192.19337463378906, 107.79096984863281, 149.46681213378906, 149.71546936035156, 113.7227783203125, 107.84696197509766, 120.84883117675781, 160.78976440429688, 122.00248718261719, 201.5845947265625, 197.2930908203125, 162.1887664794922, 224.6673583984375, 153.03509521484375, 101.00538635253906, 174.04039001464844, 174.2465057373047, 198.23402404785156, 182.54652404785156, 140.93783569335938, 184.20130920410156, 151.5424041748047, 95.68315887451172, 233.76339721679688, 160.1205291748047, 113.78276824951172, 127.68405151367188, 185.96336364746094, 179.2921905517578, 264.5219421386719, 152.0657501220703, 148.92669677734375, 112.75301361083984, 207.84478759765625, 56.438232421875, 242.75485229492188, 99.28511810302734, 125.84440612792969, 210.58779907226562, 140.960693359375, 101.13545989990234, 107.56024169921875, 129.4410400390625, 179.57608032226562, 122.6570816040039, 126.61985778808594, 192.63807678222656, 144.23963928222656, 94.01624298095703, 116.4140853881836, 144.15521240234375, 161.17318725585938, 64.57733154296875, 102.53495788574219, 227.48634338378906, 131.14776611328125, 178.61660766601562, 102.07390594482422, 109.23587799072266, 71.72026062011719, 134.532958984375, 152.6981201171875, 207.5747833251953, 199.30599975585938, 150.03848266601562, 83.38577270507812, 94.23526763916016, 71.48381805419922, 97.99790954589844, 140.30044555664062, 145.09115600585938, 111.7695083618164, 126.45074462890625, 217.64959716796875, 153.03822326660156, 165.60726928710938, 206.2340087890625, 140.8561553955078, 128.26571655273438, 130.66773986816406, 213.91111755371094, 119.5648422241211, 97.2501220703125, 77.99938201904297, 115.15821075439453, 83.94136810302734, 140.55421447753906, 101.19449615478516, 115.01525115966797, 263.3371887207031, 127.69610595703125, 95.7425308227539, 121.71641540527344, 56.447139739990234, 90.90987396240234, 54.150177001953125, 211.08071899414062, 256.2621154785156, 141.9065399169922, 121.0362548828125, 161.994140625, 135.3760223388672, 167.12228393554688, 116.94046020507812, 214.5896759033203, 186.3455047607422, 123.35247039794922, 101.05278778076172, 89.28433227539062, 132.5685272216797, 185.5998077392578, 116.69642639160156, 126.23668670654297, 153.90052795410156, 148.10195922851562, 339.35504150390625, 169.79122924804688, 221.30575561523438, 91.80455780029297, 98.70329284667969, 123.65605163574219, 140.0976104736328, 301.0772705078125, 137.66310119628906, 175.48228454589844, 157.59750366210938, 89.16716003417969, 288.93548583984375, 231.3521728515625, 103.87785339355469, 205.13104248046875, 134.39266967773438, 128.32763671875, 97.5723876953125, 97.02108001708984, 142.5405731201172, 222.8204803466797, 181.900146484375, 130.5917510986328, 122.69861602783203, 291.4836730957031, 95.8037338256836, 236.51576232910156, 147.4450225830078, 72.2047119140625, 183.51126098632812, 166.41017150878906, 140.5511474609375, 104.7005615234375, 84.86416625976562, 84.3215560913086, 160.95361328125, 143.27188110351562, 132.7484893798828, 203.3496856689453, 191.19265747070312, 119.3320541381836, 140.45118713378906, 99.55986022949219, 232.04090881347656, 120.85816955566406, 85.24085235595703, 306.51495361328125, 120.51213836669922, 94.3871841430664, 88.83440399169922, 102.58019256591797, 184.81285095214844, 168.71728515625, 175.1171875, 243.4088134765625, 234.09222412109375, 152.94143676757812, 67.07878112792969, 187.8814697265625, 104.79301452636719, 81.08135223388672, 206.55838012695312, 155.8737030029297, 98.14830780029297, 154.55392456054688, 404.2940368652344, 93.38683319091797, 182.68341064453125, 94.31901550292969, 99.39075469970703, 98.56322479248047, 201.0875701904297, 73.79879760742188, 274.6946716308594, 139.351806640625, 142.15402221679688, 82.30484008789062, 235.29525756835938, 85.67417907714844, 54.625572204589844, 114.75969696044922, 129.13304138183594, 131.3098907470703, 126.3188247680664, 177.4398651123047, 163.3521270751953, 173.35491943359375, 188.58389282226562, 217.5217742919922, 68.3333969116211, 146.5388946533203, 86.97382354736328, 81.05606842041016, 136.98838806152344, 90.56771087646484, 118.94319915771484, 150.23666381835938, 225.72894287109375, 162.35296630859375, 108.99612426757812, 153.5177001953125, 200.17489624023438, 213.3560333251953, 80.15426635742188, 81.5126953125, 208.57081604003906, 84.99655151367188, 146.63331604003906, 180.11447143554688, 152.36013793945312, 195.19876098632812, 139.14610290527344, 91.64242553710938, 138.8584442138672, 223.9079132080078, 85.71467590332031, 86.24589538574219, 289.5645751953125, 89.22117614746094, 106.74543762207031, 147.80967712402344, 212.64303588867188, 233.4428253173828, 81.06360626220703, 368.6575927734375, 71.97206115722656, 88.66596984863281, 167.17799377441406, 213.9412078857422, 93.49242401123047, 196.56507873535156, 115.69898223876953, 129.32400512695312, 294.1074523925781, 319.9531555175781, 167.23683166503906, 138.08978271484375, 103.69908905029297, 129.53575134277344, 165.3319854736328, 146.23155212402344, 117.97918701171875, 247.87254333496094, 96.18502044677734, 187.3353271484375, 115.65072631835938, 202.7071533203125, 91.4356918334961, 60.18950271606445, 131.5878143310547, 96.69612121582031, 351.5286865234375, 217.49118041992188, 69.51164245605469, 316.9603576660156, 60.41450119018555, 200.40687561035156, 349.66302490234375, 151.15277099609375, 90.3389892578125, 78.37175750732422, 110.16258239746094, 170.9804229736328, 141.7998809814453, 165.8636474609375, 139.6011505126953, 214.45115661621094, 98.85184478759766, 129.0642852783203, 135.46669006347656, 110.68231964111328, 288.9474792480469, 107.67169952392578, 121.46688079833984, 160.42898559570312, 301.1212158203125, 275.1012878417969, 203.11276245117188, 148.9022674560547, 240.2692108154297, 127.77205657958984, 294.009033203125, 87.65074157714844, 162.58575439453125, 198.9197540283203, 80.82495880126953, 110.91007995605469, 79.7624282836914, 158.87158203125, 172.83370971679688, 139.0311737060547, 106.99952697753906, 198.87083435058594, 100.44133758544922, 102.84957122802734, 93.36122131347656, 189.31044006347656, 96.30669403076172, 144.8994903564453, 159.7467498779297, 148.00340270996094, 121.4858169555664, 198.70248413085938, 112.93052673339844, 154.1400909423828, 69.2214584350586, 174.99964904785156, 131.52996826171875, 212.61981201171875, 101.55773162841797, 147.48504638671875, 176.92889404296875, 77.02779388427734, 143.9967803955078, 153.5658721923828, 106.95585632324219, 103.39469146728516, 85.60374450683594, 175.38133239746094, 482.40106201171875, 240.97532653808594, 92.1799545288086, 292.9171142578125, 109.17766571044922, 149.50750732421875, 173.5526123046875, 180.76458740234375, 202.11434936523438, 85.0316162109375, 148.23980712890625, 299.1062927246094, 117.53897094726562, 494.4801330566406, 334.8656311035156, 166.5869903564453, 110.18963623046875, 124.66376495361328, 202.2744903564453, 108.92697143554688, 189.5725860595703, 139.4009246826172, 160.82142639160156, 94.2596664428711, 173.6088104248047, 185.40866088867188, 135.41146850585938, 84.3781509399414, 258.2370300292969, 127.81428527832031, 145.2616424560547, 70.37945556640625, 94.8459701538086, 252.61643981933594, 179.1938934326172, 210.21438598632812, 146.40968322753906, 132.5412139892578, 162.25645446777344, 225.35220336914062, 120.96926879882812, 163.69552612304688, 164.6816864013672, 301.8690490722656, 298.82330322265625, 166.8565673828125, 188.93374633789062, 145.3313446044922, 68.5809555053711, 185.68690490722656, 228.85842895507812, 164.2582550048828, 185.9120330810547, 129.5108642578125, 480.004638671875, 104.43772888183594, 140.27455139160156, 98.51492309570312, 50.885162353515625, 42.71538162231445, 104.57511901855469, 140.7556915283203, 83.62471771240234, 123.32865142822266, 72.48042297363281, 176.7374725341797, 144.01318359375, 110.0684814453125, 174.0534210205078, 64.52242279052734, 85.59725189208984, 114.02371215820312, 176.1634063720703, 186.6740264892578, 157.0446319580078, 96.94578552246094, 282.7059326171875, 96.73406982421875, 220.4960479736328, 266.631591796875, 135.0611114501953, 205.1586151123047, 224.87303161621094, 110.54566192626953, 141.57867431640625, 85.23065185546875, 49.077571868896484, 85.32466125488281, 61.38825225830078, 195.39981079101562, 203.99679565429688, 245.3113555908203, 340.64617919921875, 205.02883911132812, 86.30846405029297, 120.77261352539062, 117.89720153808594, 161.1064910888672, 127.12859344482422, 140.94046020507812, 157.6628875732422, 140.3745880126953, 127.31719970703125, 112.60917663574219, 138.60784912109375, 156.9621124267578, 107.44013977050781, 194.71656799316406, 176.50552368164062, 95.00103759765625, 168.51104736328125, 115.44107818603516, 94.9683837890625, 319.1279602050781, 260.90167236328125, 86.41851043701172, 255.67318725585938, 332.4750671386719, 193.3291778564453, 201.68496704101562, 100.50668334960938, 229.4383087158203, 157.7993927001953, 183.55975341796875, 165.3113250732422, 103.57880401611328, 206.18385314941406, 219.45877075195312, 97.84764862060547, 88.47152709960938, 165.64208984375, 53.37230682373047, 82.80328369140625, 95.33744049072266, 161.6509246826172, 163.00485229492188, 125.7294921875, 148.20855712890625, 79.27535247802734, 177.34072875976562, 312.0982666015625, 119.51239776611328, 102.98467254638672, 115.1574478149414, 109.54692840576172, 212.66270446777344, 86.29386138916016, 185.1481170654297, 256.2176208496094, 113.0152587890625, 328.467041015625, 78.74288940429688, 108.56104278564453, 164.33448791503906, 131.38467407226562, 208.9766845703125, 306.22100830078125, 157.6892852783203, 188.71632385253906, 208.0277099609375, 260.16424560546875, 110.90679931640625, 147.60491943359375, 339.88720703125, 130.34036254882812, 125.1907730102539, 186.5454559326172, 178.45391845703125, 224.02133178710938, 249.6584930419922, 143.25384521484375, 129.0775146484375, 301.7688903808594, 136.5675811767578, 228.55308532714844, 96.77549743652344, 354.6938171386719, 240.64942932128906, 110.85456085205078, 130.17034912109375, 144.33416748046875, 349.6526794433594, 73.08255767822266, 68.10130310058594, 96.82475280761719, 82.03551483154297, 106.54456329345703, 142.0724334716797, 66.1151351928711, 130.93106079101562, 252.86337280273438, 230.3213653564453, 264.2344055175781, 103.88557434082031, 125.77433776855469, 172.1858367919922, 65.2080078125, 263.958251953125, 163.09542846679688, 141.00755310058594, 124.75235748291016, 104.04640197753906, 100.88793182373047, 160.2422637939453, 129.39297485351562, 226.41119384765625, 117.28076171875, 99.32514190673828, 112.25068664550781, 154.6736602783203, 282.01470947265625, 136.26809692382812, 244.671630859375, 82.22152709960938, 154.66236877441406, 81.77177429199219, 182.37991333007812, 168.77142333984375, 149.18626403808594, 179.84481811523438, 148.81381225585938, 239.21954345703125, 113.57894897460938, 316.065185546875, 175.95738220214844, 112.259033203125, 217.7344970703125, 171.24241638183594, 100.83411407470703, 139.94210815429688, 129.4346160888672, 267.8494567871094, 66.60257720947266, 259.4051513671875, 175.794189453125, 109.62765502929688, 152.42974853515625, 77.86946105957031, 273.0769348144531, 135.1266326904297, 181.55560302734375, 249.83651733398438, 170.5617218017578, 51.34804153442383, 135.38047790527344, 366.5050354003906, 233.62110900878906, 89.56495666503906, 134.79649353027344, 228.62838745117188, 146.11306762695312, 98.42312622070312, 71.53163146972656, 83.88758850097656, 212.1820831298828, 153.19857788085938, 176.348388671875, 165.37644958496094, 146.23406982421875, 241.00588989257812, 293.6518859863281, 315.4223327636719, 136.654541015625, 108.41314697265625, 95.89747619628906, 150.6548309326172, 99.44532012939453, 138.86798095703125, 169.9036407470703, 56.909263610839844, 198.59165954589844, 170.641845703125, 75.40640258789062, 237.52650451660156, 81.06082153320312, 455.456298828125, 116.56233215332031, 135.34620666503906, 200.07957458496094, 178.3528594970703, 129.1742401123047, 217.23475646972656, 88.59002685546875, 158.11325073242188, 174.43496704101562, 83.88963317871094, 270.4131164550781, 168.30819702148438, 179.60374450683594, 81.2483139038086, 181.29391479492188, 100.86705780029297, 160.5240936279297, 105.08654022216797, 241.7816925048828, 117.99022674560547, 165.55926513671875, 203.82760620117188, 144.57615661621094, 213.67306518554688, 124.15269470214844, 179.35537719726562, 141.33511352539062, 123.05015563964844, 263.7985534667969, 328.3229675292969, 150.57704162597656, 184.05372619628906, 113.84833526611328, 115.4888687133789, 113.28012084960938, 180.64730834960938, 118.9623031616211, 172.77685546875, 284.4287109375, 123.17267608642578, 128.64234924316406, 205.41940307617188, 141.4959259033203, 138.93626403808594, 68.52526092529297, 47.0161018371582, 64.26715850830078, 148.38316345214844, 186.07814025878906, 218.4083251953125, 91.97417449951172, 179.69822692871094, 202.13265991210938, 158.37924194335938, 132.00668334960938, 111.7956314086914, 173.8306427001953, 96.08211517333984, 98.0226821899414, 192.29576110839844, 165.47930908203125, 185.08023071289062, 120.64674377441406, 272.45159912109375, 102.07118225097656, 230.2181396484375, 141.08555603027344, 154.45445251464844, 155.3188018798828, 220.33966064453125, 125.17352294921875, 148.64559936523438, 64.5112533569336, 127.03291320800781, 122.23709869384766, 215.89405822753906, 205.1851348876953, 246.40725708007812, 176.57936096191406, 288.05987548828125, 69.17483520507812, 153.3744354248047, 225.6599578857422, 197.01295471191406, 96.90817260742188, 174.40151977539062, 137.71182250976562, 151.0121307373047, 124.42211151123047, 169.5064697265625, 247.1103057861328, 172.9628143310547, 304.68597412109375, 131.3568115234375, 124.7228012084961, 81.46944427490234, 119.73782348632812, 114.54719543457031, 155.43356323242188, 84.4767837524414, 123.1608657836914, 278.85980224609375, 178.6808319091797, 215.29779052734375, 132.75912475585938, 179.83615112304688, 135.12379455566406, 186.71240234375, 122.75514221191406, 185.5757293701172, 206.4527130126953, 163.0609893798828, 227.01962280273438, 103.7190170288086, 106.83831787109375, 149.9237060546875, 183.86363220214844, 68.9458999633789, 93.08704376220703, 73.3946304321289, 85.41194152832031, 151.52664184570312, 126.07949829101562, 113.99250030517578, 106.84672546386719, 271.57232666015625, 388.516845703125, 96.55084991455078, 186.3319091796875, 207.09144592285156, 290.93682861328125, 125.50851440429688, 132.839111328125, 64.96812438964844, 314.7211608886719, 401.3772277832031, 191.02745056152344, 215.48976135253906, 83.47866821289062, 289.05413818359375, 61.06637191772461, 108.12052917480469, 249.10910034179688, 200.3427734375, 314.0653076171875, 145.7582244873047, 120.07814025878906, 132.5437469482422, 236.76275634765625, 321.7281494140625, 136.16079711914062, 52.08901596069336, 87.36865997314453, 210.829833984375, 171.10391235351562, 98.0606918334961, 124.27446746826172, 134.94517517089844, 271.38568115234375, 144.9049530029297, 204.14781188964844, 144.60462951660156, 117.37116241455078, 283.4146728515625, 187.87376403808594, 116.43041229248047, 116.75080108642578, 219.3289337158203, 111.731201171875, 67.74199676513672, 115.21356964111328, 165.62937927246094, 451.76519775390625, 115.51365661621094, 119.98490905761719, 152.65553283691406, 200.35232543945312, 126.53367614746094, 74.10661315917969, 189.49757385253906, 236.2930145263672, 113.1251449584961, 302.2400817871094, 106.95891571044922, 205.31568908691406, 158.26780700683594, 110.74308776855469, 203.56088256835938, 271.42010498046875, 242.3955841064453, 95.59983825683594, 267.9117736816406, 185.8447723388672, 130.93287658691406, 189.6838836669922, 125.08360290527344, 98.20804595947266, 176.9180908203125, 107.08589172363281, 213.6542205810547, 62.14570617675781, 141.7688446044922, 127.95838165283203, 227.10536193847656, 250.19000244140625, 154.9881591796875, 199.06314086914062, 148.97811889648438, 238.1854705810547, 135.22433471679688, 219.94873046875, 181.02206420898438, 153.9344940185547, 155.1520233154297, 224.04269409179688, 158.02981567382812, 83.5309829711914, 124.7059097290039, 114.0715103149414, 133.71389770507812, 157.0738983154297, 162.130615234375, 159.03042602539062, 136.9405059814453, 265.1457824707031, 138.43321228027344, 123.20233917236328, 192.55177307128906, 127.84068298339844, 129.4190673828125, 137.57957458496094, 117.53202056884766, 151.8873291015625, 325.20562744140625, 110.98313903808594, 74.85808563232422, 114.22146606445312, 156.53384399414062, 123.6620101928711, 213.47886657714844, 349.3753356933594, 283.9923400878906, 155.41976928710938, 267.20904541015625, 188.20408630371094, 304.9109802246094, 188.98106384277344, 140.099609375, 263.64990234375, 91.26616668701172, 82.47177124023438, 99.24702453613281, 267.70477294921875, 89.0022964477539, 238.4220428466797, 191.1058807373047, 258.49908447265625, 212.309814453125, 158.68994140625, 139.67591857910156, 135.2699432373047, 88.83651733398438, 103.72999572753906, 186.4952850341797, 169.9771270751953, 151.33999633789062, 168.9326934814453, 157.1194610595703, 241.45587158203125, 219.3559112548828, 83.12569427490234, 103.99024963378906, 123.93946838378906, 199.7217254638672, 404.70294189453125, 209.46603393554688, 261.236572265625, 192.73171997070312, 120.16606903076172, 183.48623657226562, 182.52188110351562, 188.4515838623047, 146.66360473632812, 122.38121032714844, 248.91188049316406, 107.10953521728516, 142.14154052734375, 398.0095520019531, 91.3286361694336, 168.23020935058594, 88.94853973388672, 184.2986602783203, 106.62420654296875, 167.96929931640625, 118.58562469482422, 95.74248504638672, 222.89337158203125, 200.58909606933594, 407.9249267578125, 128.66714477539062, 122.1205825805664, 149.5010223388672, 180.21334838867188, 134.20074462890625, 91.32903289794922, 212.52525329589844, 99.83895874023438, 207.37493896484375, 206.88377380371094, 253.65184020996094, 171.5571746826172, 206.13479614257812, 249.92648315429688, 139.3892822265625, 130.25765991210938, 107.0892562866211, 114.5354995727539, 103.37517547607422, 161.11700439453125, 194.17970275878906, 177.0911102294922, 141.838623046875, 191.77163696289062, 128.02923583984375, 47.6319580078125, 137.1890106201172, 173.16351318359375, 268.4820251464844, 167.0828399658203, 273.2572021484375, 140.94381713867188, 132.55386352539062, 114.37237548828125, 154.4528350830078, 118.06400299072266, 133.7854461669922, 172.3297576904297, 235.09396362304688, 142.44015502929688, 116.6364517211914, 192.44822692871094, 67.19550323486328, 182.78274536132812, 162.64166259765625, 124.16228485107422, 186.45260620117188, 144.9086151123047, 88.33171081542969, 179.40557861328125, 188.89834594726562, 90.92652130126953, 173.9561767578125, 150.0725555419922, 204.35040283203125, 97.1895751953125, 159.7181854248047, 146.81515502929688, 128.63156127929688, 156.4059600830078, 69.20191955566406, 96.21580505371094, 209.19094848632812, 321.5367431640625, 177.3173828125, 131.0961151123047, 189.34872436523438, 293.6037292480469, 109.7157211303711, 107.48004913330078, 221.4579620361328, 184.49560546875, 115.61830139160156, 116.79049682617188, 201.35470581054688, 152.54441833496094, 290.3927001953125, 161.89877319335938, 231.57623291015625, 169.4393310546875, 73.38455200195312, 177.01951599121094, 175.0673370361328, 135.39300537109375, 89.77725219726562, 85.85191345214844, 171.8477325439453, 225.02760314941406, 198.1319580078125, 112.72828674316406, 152.21295166015625, 212.0630340576172, 243.43040466308594, 173.19686889648438, 192.75469970703125, 162.516845703125]]"
          }
        },
        "8cc19d6b9dcb45f79a717eb341df3c83": {
          "model_module": "@jupyter-widgets/base",
          "model_name": "LayoutModel",
          "model_module_version": "1.2.0",
          "state": {
            "_model_module": "@jupyter-widgets/base",
            "_model_module_version": "1.2.0",
            "_model_name": "LayoutModel",
            "_view_count": null,
            "_view_module": "@jupyter-widgets/base",
            "_view_module_version": "1.2.0",
            "_view_name": "LayoutView",
            "align_content": null,
            "align_items": null,
            "align_self": null,
            "border": null,
            "bottom": null,
            "display": null,
            "flex": null,
            "flex_flow": null,
            "grid_area": null,
            "grid_auto_columns": null,
            "grid_auto_flow": null,
            "grid_auto_rows": null,
            "grid_column": null,
            "grid_gap": null,
            "grid_row": null,
            "grid_template_areas": null,
            "grid_template_columns": null,
            "grid_template_rows": null,
            "height": null,
            "justify_content": null,
            "justify_items": null,
            "left": null,
            "margin": null,
            "max_height": null,
            "max_width": null,
            "min_height": null,
            "min_width": null,
            "object_fit": null,
            "object_position": null,
            "order": null,
            "overflow": null,
            "overflow_x": null,
            "overflow_y": null,
            "padding": null,
            "right": null,
            "top": null,
            "visibility": null,
            "width": null
          }
        },
        "12e8ccd46d9c4a6d89c2b92143369918": {
          "model_module": "@jupyter-widgets/base",
          "model_name": "LayoutModel",
          "model_module_version": "1.2.0",
          "state": {
            "_model_module": "@jupyter-widgets/base",
            "_model_module_version": "1.2.0",
            "_model_name": "LayoutModel",
            "_view_count": null,
            "_view_module": "@jupyter-widgets/base",
            "_view_module_version": "1.2.0",
            "_view_name": "LayoutView",
            "align_content": null,
            "align_items": null,
            "align_self": null,
            "border": null,
            "bottom": null,
            "display": null,
            "flex": null,
            "flex_flow": null,
            "grid_area": null,
            "grid_auto_columns": null,
            "grid_auto_flow": null,
            "grid_auto_rows": null,
            "grid_column": null,
            "grid_gap": null,
            "grid_row": null,
            "grid_template_areas": null,
            "grid_template_columns": null,
            "grid_template_rows": null,
            "height": null,
            "justify_content": null,
            "justify_items": null,
            "left": null,
            "margin": null,
            "max_height": null,
            "max_width": null,
            "min_height": null,
            "min_width": null,
            "object_fit": null,
            "object_position": null,
            "order": null,
            "overflow": null,
            "overflow_x": null,
            "overflow_y": null,
            "padding": null,
            "right": null,
            "top": null,
            "visibility": null,
            "width": null
          }
        },
        "23a8fc05350c48478c4db0d5585dbab3": {
          "model_module": "@jupyter-widgets/controls",
          "model_name": "DescriptionStyleModel",
          "model_module_version": "1.5.0",
          "state": {
            "_model_module": "@jupyter-widgets/controls",
            "_model_module_version": "1.5.0",
            "_model_name": "DescriptionStyleModel",
            "_view_count": null,
            "_view_module": "@jupyter-widgets/base",
            "_view_module_version": "1.2.0",
            "_view_name": "StyleView",
            "description_width": ""
          }
        },
        "08089965da3046ae97e8632624d5fab8": {
          "model_module": "@jupyter-widgets/base",
          "model_name": "LayoutModel",
          "model_module_version": "1.2.0",
          "state": {
            "_model_module": "@jupyter-widgets/base",
            "_model_module_version": "1.2.0",
            "_model_name": "LayoutModel",
            "_view_count": null,
            "_view_module": "@jupyter-widgets/base",
            "_view_module_version": "1.2.0",
            "_view_name": "LayoutView",
            "align_content": null,
            "align_items": null,
            "align_self": null,
            "border": null,
            "bottom": null,
            "display": null,
            "flex": null,
            "flex_flow": null,
            "grid_area": null,
            "grid_auto_columns": null,
            "grid_auto_flow": null,
            "grid_auto_rows": null,
            "grid_column": null,
            "grid_gap": null,
            "grid_row": null,
            "grid_template_areas": null,
            "grid_template_columns": null,
            "grid_template_rows": null,
            "height": null,
            "justify_content": null,
            "justify_items": null,
            "left": null,
            "margin": null,
            "max_height": null,
            "max_width": null,
            "min_height": null,
            "min_width": null,
            "object_fit": null,
            "object_position": null,
            "order": null,
            "overflow": null,
            "overflow_x": null,
            "overflow_y": null,
            "padding": null,
            "right": null,
            "top": null,
            "visibility": null,
            "width": null
          }
        },
        "fb5d90cac1ef4fd186af633b58095f94": {
          "model_module": "@jupyter-widgets/controls",
          "model_name": "ProgressStyleModel",
          "model_module_version": "1.5.0",
          "state": {
            "_model_module": "@jupyter-widgets/controls",
            "_model_module_version": "1.5.0",
            "_model_name": "ProgressStyleModel",
            "_view_count": null,
            "_view_module": "@jupyter-widgets/base",
            "_view_module_version": "1.2.0",
            "_view_name": "StyleView",
            "bar_color": null,
            "description_width": ""
          }
        },
        "8a9346a3e41f49e1a38bc6376e7304a1": {
          "model_module": "@jupyter-widgets/base",
          "model_name": "LayoutModel",
          "model_module_version": "1.2.0",
          "state": {
            "_model_module": "@jupyter-widgets/base",
            "_model_module_version": "1.2.0",
            "_model_name": "LayoutModel",
            "_view_count": null,
            "_view_module": "@jupyter-widgets/base",
            "_view_module_version": "1.2.0",
            "_view_name": "LayoutView",
            "align_content": null,
            "align_items": null,
            "align_self": null,
            "border": null,
            "bottom": null,
            "display": null,
            "flex": null,
            "flex_flow": null,
            "grid_area": null,
            "grid_auto_columns": null,
            "grid_auto_flow": null,
            "grid_auto_rows": null,
            "grid_column": null,
            "grid_gap": null,
            "grid_row": null,
            "grid_template_areas": null,
            "grid_template_columns": null,
            "grid_template_rows": null,
            "height": null,
            "justify_content": null,
            "justify_items": null,
            "left": null,
            "margin": null,
            "max_height": null,
            "max_width": null,
            "min_height": null,
            "min_width": null,
            "object_fit": null,
            "object_position": null,
            "order": null,
            "overflow": null,
            "overflow_x": null,
            "overflow_y": null,
            "padding": null,
            "right": null,
            "top": null,
            "visibility": null,
            "width": null
          }
        },
        "8008c4b9deec408f9eaa080d81a10f68": {
          "model_module": "@jupyter-widgets/controls",
          "model_name": "DescriptionStyleModel",
          "model_module_version": "1.5.0",
          "state": {
            "_model_module": "@jupyter-widgets/controls",
            "_model_module_version": "1.5.0",
            "_model_name": "DescriptionStyleModel",
            "_view_count": null,
            "_view_module": "@jupyter-widgets/base",
            "_view_module_version": "1.2.0",
            "_view_name": "StyleView",
            "description_width": ""
          }
        }
      }
    }
  },
  "nbformat": 4,
  "nbformat_minor": 0
}